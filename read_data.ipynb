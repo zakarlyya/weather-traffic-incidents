{
 "cells": [
  {
   "cell_type": "code",
   "execution_count": 1,
   "id": "96d418ca-5c11-43f4-b70c-c383eaf4aa80",
   "metadata": {},
   "outputs": [],
   "source": [
    "# Read the road geometery"
   ]
  },
  {
   "cell_type": "code",
   "execution_count": null,
   "id": "7e8d7004-96cc-4d54-a6e1-492d7f7b5f52",
   "metadata": {},
   "outputs": [],
   "source": [
    "!pip install geopandas pandas pyarrow"
   ]
  },
  {
   "cell_type": "code",
   "execution_count": 2,
   "id": "f2c5f976-4027-4b6d-8798-ccb82dd2e1a3",
   "metadata": {},
   "outputs": [],
   "source": [
    "import geopandas as gpd"
   ]
  },
  {
   "cell_type": "code",
   "execution_count": 3,
   "id": "24f9c84d-5b69-499e-9797-7f618655f66a",
   "metadata": {},
   "outputs": [],
   "source": [
    "roads=gpd.read_file('USA_Tennessee.geojson')"
   ]
  },
  {
   "cell_type": "code",
   "execution_count": 4,
   "id": "2141b097-d901-4f1e-b4b2-882f3a6a603f",
   "metadata": {},
   "outputs": [
    {
     "data": {
      "text/html": [
       "<div>\n",
       "<style scoped>\n",
       "    .dataframe tbody tr th:only-of-type {\n",
       "        vertical-align: middle;\n",
       "    }\n",
       "\n",
       "    .dataframe tbody tr th {\n",
       "        vertical-align: top;\n",
       "    }\n",
       "\n",
       "    .dataframe thead th {\n",
       "        text-align: right;\n",
       "    }\n",
       "</style>\n",
       "<table border=\"1\" class=\"dataframe\">\n",
       "  <thead>\n",
       "    <tr style=\"text-align: right;\">\n",
       "      <th></th>\n",
       "      <th>OID</th>\n",
       "      <th>XDSegID</th>\n",
       "      <th>PreviousXD</th>\n",
       "      <th>NextXDSegI</th>\n",
       "      <th>FRC</th>\n",
       "      <th>ToExport</th>\n",
       "      <th>Miles</th>\n",
       "      <th>Lanes</th>\n",
       "      <th>RoadNumber</th>\n",
       "      <th>RoadName</th>\n",
       "      <th>...</th>\n",
       "      <th>PrimaryTmc</th>\n",
       "      <th>RoadList</th>\n",
       "      <th>StartLat</th>\n",
       "      <th>StartLong</th>\n",
       "      <th>EndLat</th>\n",
       "      <th>EndLong</th>\n",
       "      <th>Bearing</th>\n",
       "      <th>XDGroup</th>\n",
       "      <th>ShapeSRID</th>\n",
       "      <th>geometry</th>\n",
       "    </tr>\n",
       "  </thead>\n",
       "  <tbody>\n",
       "    <tr>\n",
       "      <th>0</th>\n",
       "      <td>7229828</td>\n",
       "      <td>136894283</td>\n",
       "      <td>441153578.0</td>\n",
       "      <td>441154707.0</td>\n",
       "      <td>4</td>\n",
       "      <td>None</td>\n",
       "      <td>0.475558</td>\n",
       "      <td>1.0225</td>\n",
       "      <td></td>\n",
       "      <td>KNOB CREEK RD</td>\n",
       "      <td>...</td>\n",
       "      <td></td>\n",
       "      <td>KNOB CREEK RD</td>\n",
       "      <td>36.35334</td>\n",
       "      <td>-82.42849</td>\n",
       "      <td>36.34747</td>\n",
       "      <td>-82.42857</td>\n",
       "      <td>E</td>\n",
       "      <td>765512</td>\n",
       "      <td>4326</td>\n",
       "      <td>LINESTRING (-82.42849 36.35334, -82.42794 36.3...</td>\n",
       "    </tr>\n",
       "    <tr>\n",
       "      <th>1</th>\n",
       "      <td>7229829</td>\n",
       "      <td>136894316</td>\n",
       "      <td>NaN</td>\n",
       "      <td>NaN</td>\n",
       "      <td>5</td>\n",
       "      <td>None</td>\n",
       "      <td>0.047735</td>\n",
       "      <td>1.1470</td>\n",
       "      <td></td>\n",
       "      <td>16TH ST SW</td>\n",
       "      <td>...</td>\n",
       "      <td></td>\n",
       "      <td>16TH ST SW|16TH ST</td>\n",
       "      <td>35.95902</td>\n",
       "      <td>-83.93125</td>\n",
       "      <td>35.95965</td>\n",
       "      <td>-83.93160</td>\n",
       "      <td>N</td>\n",
       "      <td>765513</td>\n",
       "      <td>4326</td>\n",
       "      <td>LINESTRING (-83.93128 35.95901, -83.93158 35.9...</td>\n",
       "    </tr>\n",
       "  </tbody>\n",
       "</table>\n",
       "<p>2 rows × 28 columns</p>\n",
       "</div>"
      ],
      "text/plain": [
       "       OID    XDSegID   PreviousXD   NextXDSegI FRC ToExport     Miles  \\\n",
       "0  7229828  136894283  441153578.0  441154707.0   4     None  0.475558   \n",
       "1  7229829  136894316          NaN          NaN   5     None  0.047735   \n",
       "\n",
       "    Lanes RoadNumber       RoadName  ... PrimaryTmc            RoadList  \\\n",
       "0  1.0225             KNOB CREEK RD  ...                  KNOB CREEK RD   \n",
       "1  1.1470                16TH ST SW  ...             16TH ST SW|16TH ST   \n",
       "\n",
       "   StartLat StartLong    EndLat   EndLong Bearing XDGroup ShapeSRID  \\\n",
       "0  36.35334 -82.42849  36.34747 -82.42857       E  765512      4326   \n",
       "1  35.95902 -83.93125  35.95965 -83.93160       N  765513      4326   \n",
       "\n",
       "                                            geometry  \n",
       "0  LINESTRING (-82.42849 36.35334, -82.42794 36.3...  \n",
       "1  LINESTRING (-83.93128 35.95901, -83.93158 35.9...  \n",
       "\n",
       "[2 rows x 28 columns]"
      ]
     },
     "execution_count": 4,
     "metadata": {},
     "output_type": "execute_result"
    }
   ],
   "source": [
    "roads.head(2)"
   ]
  },
  {
   "cell_type": "code",
   "execution_count": 6,
   "id": "a8f45638-d838-4fb4-8f97-29ee33c07865",
   "metadata": {},
   "outputs": [
    {
     "data": {
      "text/plain": [
       "Index(['OID', 'XDSegID', 'PreviousXD', 'NextXDSegI', 'FRC', 'ToExport',\n",
       "       'Miles', 'Lanes', 'RoadNumber', 'RoadName', 'Country', 'State',\n",
       "       'County', 'PostalCode', 'SlipRoad', 'SpecialRoa', 'IsConnecto',\n",
       "       'AllTmcList', 'PrimaryTmc', 'RoadList', 'StartLat', 'StartLong',\n",
       "       'EndLat', 'EndLong', 'Bearing', 'XDGroup', 'ShapeSRID', 'geometry'],\n",
       "      dtype='object')"
      ]
     },
     "execution_count": 6,
     "metadata": {},
     "output_type": "execute_result"
    }
   ],
   "source": [
    "roads.columns"
   ]
  },
  {
   "cell_type": "code",
   "execution_count": 7,
   "id": "c3e80a75-aa90-4af1-8bf8-ff800ce5028c",
   "metadata": {},
   "outputs": [],
   "source": [
    "#FRC describes the road kind. 1 are major interstates and 5 are very small roads. See https://docs.inrix.com/reference/glossary/"
   ]
  },
  {
   "cell_type": "code",
   "execution_count": 11,
   "id": "a6492b33-45f0-48b9-a34a-355078e0aad1",
   "metadata": {},
   "outputs": [],
   "source": [
    "roads=roads[roads.County=='DAVIDSON']"
   ]
  },
  {
   "cell_type": "code",
   "execution_count": 13,
   "id": "cc621fbd-0198-4340-9ab9-7eeb6cf0c092",
   "metadata": {},
   "outputs": [
    {
     "data": {
      "text/plain": [
       "<AxesSubplot:>"
      ]
     },
     "execution_count": 13,
     "metadata": {},
     "output_type": "execute_result"
    },
    {
     "data": {
      "image/png": "[encoded data removed]",
      "text/plain": [
       "<Figure size 432x288 with 1 Axes>"
      ]
     },
     "metadata": {
      "needs_background": "light"
     },
     "output_type": "display_data"
    }
   ],
   "source": [
    "roads.plot()"
   ]
  },
  {
   "cell_type": "code",
   "execution_count": 14,
   "id": "eec3f3bc-3ed5-404a-9c24-b1a7adf1626f",
   "metadata": {},
   "outputs": [
    {
     "data": {
      "text/plain": [
       "9033     LINESTRING (-86.75077 36.17116, -86.75076 36.1...\n",
       "9045     LINESTRING (-86.77000 36.11989, -86.77046 36.1...\n",
       "9051     LINESTRING (-86.77935 36.03619, -86.77935 36.0...\n",
       "9055     LINESTRING (-86.75020 36.15446, -86.75019 36.1...\n",
       "9056     LINESTRING (-86.71250 36.32843, -86.71272 36.3...\n",
       "                               ...                        \n",
       "94650    LINESTRING (-86.76221 36.16760, -86.76275 36.1...\n",
       "94789    LINESTRING (-86.77707 36.12617, -86.77705 36.1...\n",
       "94794    LINESTRING (-86.84079 36.15400, -86.84201 36.1...\n",
       "94893    LINESTRING (-86.74435 36.14281, -86.74437 36.1...\n",
       "95025    LINESTRING (-86.70474 36.12184, -86.70476 36.1...\n",
       "Name: geometry, Length: 8641, dtype: geometry"
      ]
     },
     "execution_count": 14,
     "metadata": {},
     "output_type": "execute_result"
    }
   ],
   "source": [
    "roads.geometry # these are the line strings describing the road."
   ]
  },
  {
   "cell_type": "code",
   "execution_count": 15,
   "id": "bf8ef24c-aed2-41d7-bbe9-2e753256bdf9",
   "metadata": {},
   "outputs": [],
   "source": [
    "# Lets read incident data"
   ]
  },
  {
   "cell_type": "code",
   "execution_count": 16,
   "id": "3da89679-5f81-4817-8169-149cc8161ccf",
   "metadata": {},
   "outputs": [],
   "source": [
    "import pandas as pd"
   ]
  },
  {
   "cell_type": "code",
   "execution_count": 34,
   "id": "a0456df5-054d-4fca-8b1e-848a59303910",
   "metadata": {},
   "outputs": [],
   "source": [
    "incidents=pd.read_parquet('nfd_incidents_xd_seg.parquet')"
   ]
  },
  {
   "cell_type": "code",
   "execution_count": 35,
   "id": "16cfdcb8-79a0-48ab-a2d0-5a420d672cec",
   "metadata": {},
   "outputs": [],
   "source": [
    "import shapely"
   ]
  },
  {
   "cell_type": "code",
   "execution_count": 36,
   "id": "fc1009af-62c9-4932-8b9d-99243a597460",
   "metadata": {},
   "outputs": [],
   "source": [
    "incidents['geometry']=incidents.geometry.apply(shapely.wkt.loads)"
   ]
  },
  {
   "cell_type": "code",
   "execution_count": 37,
   "id": "c6086192-e7c6-4633-ae29-8daeaa8617c6",
   "metadata": {},
   "outputs": [],
   "source": [
    "incidents = gpd.GeoDataFrame(incidents,geometry=incidents.geometry)"
   ]
  },
  {
   "cell_type": "code",
   "execution_count": 38,
   "id": "a13aabe5-663c-487e-a8f3-6b8d0df50b14",
   "metadata": {},
   "outputs": [
    {
     "data": {
      "text/html": [
       "<div>\n",
       "<style scoped>\n",
       "    .dataframe tbody tr th:only-of-type {\n",
       "        vertical-align: middle;\n",
       "    }\n",
       "\n",
       "    .dataframe tbody tr th {\n",
       "        vertical-align: top;\n",
       "    }\n",
       "\n",
       "    .dataframe thead th {\n",
       "        text-align: right;\n",
       "    }\n",
       "</style>\n",
       "<table border=\"1\" class=\"dataframe\">\n",
       "  <thead>\n",
       "    <tr style=\"text-align: right;\">\n",
       "      <th></th>\n",
       "      <th>ID_Original</th>\n",
       "      <th>latitude</th>\n",
       "      <th>longitude</th>\n",
       "      <th>emdCardNumber</th>\n",
       "      <th>time_utc</th>\n",
       "      <th>time_local</th>\n",
       "      <th>response_time_sec</th>\n",
       "      <th>day_of_week</th>\n",
       "      <th>weekend_or_not</th>\n",
       "      <th>geometry</th>\n",
       "      <th>Incident_ID</th>\n",
       "      <th>Dist_to_Seg</th>\n",
       "      <th>XDSegID</th>\n",
       "    </tr>\n",
       "  </thead>\n",
       "  <tbody>\n",
       "    <tr>\n",
       "      <th>0</th>\n",
       "      <td>ObjectId(59d3a81908f47311c891f8e2)</td>\n",
       "      <td>36.037228</td>\n",
       "      <td>-86.783243</td>\n",
       "      <td>29B5</td>\n",
       "      <td>2017-01-01 07:59:29.507</td>\n",
       "      <td>2017-01-01 01:59:29.507</td>\n",
       "      <td>268.0</td>\n",
       "      <td>6</td>\n",
       "      <td>1</td>\n",
       "      <td>POINT (-86.78324 36.03723)</td>\n",
       "      <td>10</td>\n",
       "      <td>13.550370</td>\n",
       "      <td>1.524394e+09</td>\n",
       "    </tr>\n",
       "    <tr>\n",
       "      <th>1</th>\n",
       "      <td>ObjectId(59d3a81908f47311c891f8e6)</td>\n",
       "      <td>36.037414</td>\n",
       "      <td>-86.786572</td>\n",
       "      <td>29D2P</td>\n",
       "      <td>2017-01-01 08:30:55.000</td>\n",
       "      <td>2017-01-01 02:30:55.000</td>\n",
       "      <td>512.0</td>\n",
       "      <td>6</td>\n",
       "      <td>1</td>\n",
       "      <td>POINT (-86.78657 36.03741)</td>\n",
       "      <td>11</td>\n",
       "      <td>3.663952</td>\n",
       "      <td>1.524356e+09</td>\n",
       "    </tr>\n",
       "  </tbody>\n",
       "</table>\n",
       "</div>"
      ],
      "text/plain": [
       "                          ID_Original   latitude  longitude emdCardNumber  \\\n",
       "0  ObjectId(59d3a81908f47311c891f8e2)  36.037228 -86.783243          29B5   \n",
       "1  ObjectId(59d3a81908f47311c891f8e6)  36.037414 -86.786572         29D2P   \n",
       "\n",
       "                 time_utc              time_local  response_time_sec  \\\n",
       "0 2017-01-01 07:59:29.507 2017-01-01 01:59:29.507              268.0   \n",
       "1 2017-01-01 08:30:55.000 2017-01-01 02:30:55.000              512.0   \n",
       "\n",
       "   day_of_week  weekend_or_not                    geometry  Incident_ID  \\\n",
       "0            6               1  POINT (-86.78324 36.03723)           10   \n",
       "1            6               1  POINT (-86.78657 36.03741)           11   \n",
       "\n",
       "   Dist_to_Seg       XDSegID  \n",
       "0    13.550370  1.524394e+09  \n",
       "1     3.663952  1.524356e+09  "
      ]
     },
     "execution_count": 38,
     "metadata": {},
     "output_type": "execute_result"
    }
   ],
   "source": [
    "incidents.head(2)"
   ]
  },
  {
   "cell_type": "code",
   "execution_count": 39,
   "id": "22b279a7-bf5f-4681-8b9e-fad1dae23619",
   "metadata": {},
   "outputs": [
    {
     "data": {
      "text/plain": [
       "<AxesSubplot:>"
      ]
     },
     "execution_count": 39,
     "metadata": {},
     "output_type": "execute_result"
    },
    {
     "data": {
      "image/png": "[encoded data removed]",
      "text/plain": [
       "<Figure size 432x288 with 1 Axes>"
      ]
     },
     "metadata": {
      "needs_background": "light"
     },
     "output_type": "display_data"
    }
   ],
   "source": [
    "incidents.plot()"
   ]
  },
  {
   "cell_type": "code",
   "execution_count": null,
   "id": "9a2c7dba-098d-49cf-816b-af288fc2cbdb",
   "metadata": {},
   "outputs": [],
   "source": [
    "#Read Weather. The Weather Data is defined by Weather Stations."
   ]
  },
  {
   "cell_type": "code",
   "execution_count": 40,
   "id": "ece22dd5-69b0-47bf-9140-c5a5085627f5",
   "metadata": {},
   "outputs": [],
   "source": [
    "weather=pd.read_parquet('weatherbit_weather_2010_2022.parquet')"
   ]
  },
  {
   "cell_type": "code",
   "execution_count": 47,
   "id": "1c1fef3c-122b-46c6-b2ad-994942abb95f",
   "metadata": {},
   "outputs": [
    {
     "data": {
      "text/plain": [
       "194"
      ]
     },
     "execution_count": 47,
     "metadata": {},
     "output_type": "execute_result"
    }
   ],
   "source": [
    "len(weather.station_id.unique())"
   ]
  },
  {
   "cell_type": "code",
   "execution_count": 52,
   "id": "c86e030b-8e9a-44de-a823-05cae712fc94",
   "metadata": {},
   "outputs": [],
   "source": [
    "distinctstations=weather[['station_id','gps_coordinate_latitude', 'gps_coordinate_longitude']].drop_duplicates().dropna()"
   ]
  },
  {
   "cell_type": "code",
   "execution_count": 53,
   "id": "6f37bbe3-35f1-409f-95f6-91d9543c610b",
   "metadata": {},
   "outputs": [
    {
     "data": {
      "text/html": [
       "<div>\n",
       "<style scoped>\n",
       "    .dataframe tbody tr th:only-of-type {\n",
       "        vertical-align: middle;\n",
       "    }\n",
       "\n",
       "    .dataframe tbody tr th {\n",
       "        vertical-align: top;\n",
       "    }\n",
       "\n",
       "    .dataframe thead th {\n",
       "        text-align: right;\n",
       "    }\n",
       "</style>\n",
       "<table border=\"1\" class=\"dataframe\">\n",
       "  <thead>\n",
       "    <tr style=\"text-align: right;\">\n",
       "      <th></th>\n",
       "      <th>station_id</th>\n",
       "      <th>gps_coordinate_latitude</th>\n",
       "      <th>gps_coordinate_longitude</th>\n",
       "    </tr>\n",
       "  </thead>\n",
       "  <tbody>\n",
       "    <tr>\n",
       "      <th>3912654</th>\n",
       "      <td>720259-63844</td>\n",
       "      <td>35.223</td>\n",
       "      <td>-83.419</td>\n",
       "    </tr>\n",
       "    <tr>\n",
       "      <th>1661538</th>\n",
       "      <td>720259-99999</td>\n",
       "      <td>35.223</td>\n",
       "      <td>-83.419</td>\n",
       "    </tr>\n",
       "    <tr>\n",
       "      <th>6967740</th>\n",
       "      <td>720264-63827</td>\n",
       "      <td>37.064</td>\n",
       "      <td>-81.798</td>\n",
       "    </tr>\n",
       "    <tr>\n",
       "      <th>1232754</th>\n",
       "      <td>720264-99999</td>\n",
       "      <td>37.067</td>\n",
       "      <td>-81.800</td>\n",
       "    </tr>\n",
       "    <tr>\n",
       "      <th>911166</th>\n",
       "      <td>720353-63875</td>\n",
       "      <td>36.611</td>\n",
       "      <td>-83.738</td>\n",
       "    </tr>\n",
       "    <tr>\n",
       "      <th>...</th>\n",
       "      <td>...</td>\n",
       "      <td>...</td>\n",
       "      <td>...</td>\n",
       "    </tr>\n",
       "    <tr>\n",
       "      <th>2572704</th>\n",
       "      <td>KSIK</td>\n",
       "      <td>36.899</td>\n",
       "      <td>-89.562</td>\n",
       "    </tr>\n",
       "    <tr>\n",
       "      <th>1983126</th>\n",
       "      <td>KSRB</td>\n",
       "      <td>36.056</td>\n",
       "      <td>-85.531</td>\n",
       "    </tr>\n",
       "    <tr>\n",
       "      <th>5252604</th>\n",
       "      <td>KTHA</td>\n",
       "      <td>35.380</td>\n",
       "      <td>-86.250</td>\n",
       "    </tr>\n",
       "    <tr>\n",
       "      <th>1500744</th>\n",
       "      <td>KUCY</td>\n",
       "      <td>36.380</td>\n",
       "      <td>-88.985</td>\n",
       "    </tr>\n",
       "    <tr>\n",
       "      <th>2251116</th>\n",
       "      <td>KUTA</td>\n",
       "      <td>34.680</td>\n",
       "      <td>-90.350</td>\n",
       "    </tr>\n",
       "  </tbody>\n",
       "</table>\n",
       "<p>194 rows × 3 columns</p>\n",
       "</div>"
      ],
      "text/plain": [
       "           station_id  gps_coordinate_latitude  gps_coordinate_longitude\n",
       "3912654  720259-63844                   35.223                   -83.419\n",
       "1661538  720259-99999                   35.223                   -83.419\n",
       "6967740  720264-63827                   37.064                   -81.798\n",
       "1232754  720264-99999                   37.067                   -81.800\n",
       "911166   720353-63875                   36.611                   -83.738\n",
       "...               ...                      ...                       ...\n",
       "2572704          KSIK                   36.899                   -89.562\n",
       "1983126          KSRB                   36.056                   -85.531\n",
       "5252604          KTHA                   35.380                   -86.250\n",
       "1500744          KUCY                   36.380                   -88.985\n",
       "2251116          KUTA                   34.680                   -90.350\n",
       "\n",
       "[194 rows x 3 columns]"
      ]
     },
     "execution_count": 53,
     "metadata": {},
     "output_type": "execute_result"
    }
   ],
   "source": [
    "distinctstations"
   ]
  },
  {
   "cell_type": "code",
   "execution_count": 54,
   "id": "a47d3392-661b-4d25-9f4a-cbb346f0fa34",
   "metadata": {},
   "outputs": [],
   "source": [
    "import plotly.express as px"
   ]
  },
  {
   "cell_type": "code",
   "execution_count": 58,
   "id": "96a129ce-37e6-444c-9eb1-1ad173f5ea44",
   "metadata": {},
   "outputs": [],
   "source": [
    "fig = px.scatter_mapbox(distinctstations, lat=\"gps_coordinate_latitude\", hover_name='station_id', lon=\"gps_coordinate_longitude\", size_max=15, zoom=10,mapbox_style='open-street-map')\n"
   ]
  },
  {
   "cell_type": "code",
   "execution_count": 59,
   "id": "90d1fbcb-4960-4cb4-9942-d7cba4c4e043",
   "metadata": {},
   "outputs": [
    {
     "data": {
      "application/vnd.plotly.v1+json": {
       "config": {
        "plotlyServerURL": "https://plot.ly"
       },
       "data": [
        {
         "hovertemplate": "<b>%{hovertext}</b><br><br>gps_coordinate_latitude=%{lat}<br>gps_coordinate_longitude=%{lon}<extra></extra>",
         "hovertext": [
          "720259-63844",
          "720259-99999",
          "720264-63827",
          "720264-99999",
          "720353-63875",
          "720353-99999",
          "720379-63882",
          "720409-99999",
          "720465-99999",
          "720623-99999",
          "720768-00274",
          "720768-99999",
          "720907-99999",
          "720958-99999",
          "722154-53885",
          "722154-99999",
          "722177-63811",
          "722177-99999",
          "722198-63819",
          "722198-99999",
          "723048-99999",
          "723146-53892",
          "723146-99999",
          "723155-99999",
          "723181-13877",
          "723183-13877",
          "723183-99999",
          "723240-13882",
          "723244-99999",
          "723246-53868",
          "723246-99999",
          "723260-13891",
          "723264-99999",
          "723350-13877",
          "724056-63805",
          "724056-99999",
          "724058-53818",
          "724058-99999",
          "724117-63802",
          "724117-99999",
          "724270-53868",
          "724270-99999",
          "724354-99999",
          "999999-03814",
          "999999-03841",
          "999999-13877",
          "999999-13882",
          "999999-13891",
          "999999-53877",
          "A00003-63844",
          "A06773-00334",
          "A06800-00120",
          "K0VG",
          "K1A6",
          "KCHA",
          "KDNN",
          "KDZJ",
          "KEKQ",
          "KGEV",
          "KI35",
          "KJFZ",
          "KLNP",
          "KMKJ",
          "KOQT",
          "KTNB",
          "KTRI",
          "KTYS",
          "691164-99999",
          "720168-99999",
          "720171-99999",
          "720307-63804",
          "720307-99999",
          "720331-99999",
          "720447-00437",
          "720447-99999",
          "720481-03817",
          "720481-99999",
          "720488-99999",
          "720773-99999",
          "720775-99999",
          "720856-00284",
          "720856-99999",
          "720924-00311",
          "720924-99999",
          "720974-00344",
          "720974-99999",
          "721031-00348",
          "721031-99999",
          "722054-53959",
          "722054-99999",
          "722072-03894",
          "722072-99999",
          "722165-13815",
          "722165-63808",
          "722165-99999",
          "722279-53852",
          "722279-99999",
          "722322-00361",
          "722322-99999",
          "722364-23903",
          "722781-99999",
          "723230-03856",
          "723231-63883",
          "723231-99999",
          "723235-13896",
          "723245-99999",
          "723249-00463",
          "723249-99999",
          "723250-03847",
          "723263-99999",
          "723265-03847",
          "723265-99999",
          "723270-13897",
          "723271-99999",
          "723273-13827",
          "723273-99999",
          "723274-00372",
          "723274-99999",
          "723275-99999",
          "723280-03894",
          "723284-93839",
          "723284-99999",
          "723340-13893",
          "723345-93839",
          "723346-03811",
          "723347-03809",
          "723347-99999",
          "723408-13814",
          "723408-99999",
          "723409-53869",
          "723409-99999",
          "726381-99999",
          "746710-13806",
          "746710-99999",
          "746716-93808",
          "746720-99999",
          "749000-99999",
          "749080-99999",
          "749083-99999",
          "749086-99999",
          "999999-03809",
          "999999-03811",
          "999999-03817",
          "999999-03847",
          "999999-03856",
          "999999-13806",
          "999999-13855",
          "999999-13893",
          "999999-13896",
          "999999-13897",
          "999999-23803",
          "999999-63820",
          "999999-63855",
          "999999-63862",
          "999999-63868",
          "999999-63894",
          "999999-63896",
          "999999-93803",
          "999999-93808",
          "999999-93839",
          "A00029-63820",
          "K4A6",
          "KAWM",
          "KBGF",
          "KBNA",
          "KBWG",
          "KCEY",
          "KCKV",
          "KCRX",
          "KCSV",
          "KDCU",
          "KDYR",
          "KGLW",
          "KHKA",
          "KHOP",
          "KHSV",
          "KHUA",
          "KJWN",
          "KM04",
          "KMAW",
          "KMDQ",
          "KMEM",
          "KMKL",
          "KMQY",
          "KMRC",
          "KMSL",
          "KNQA",
          "KOLV",
          "KPHT",
          "KSIK",
          "KSRB",
          "KTHA",
          "KUCY",
          "KUTA"
         ],
         "lat": [
          35.223,
          35.223,
          37.064,
          37.067,
          36.611,
          36.617,
          36.855,
          34.85,
          36.8,
          36.371,
          36.654,
          36.654,
          36.335,
          36.859,
          34.722,
          34.722,
          35.195,
          35.2,
          36.2,
          36.2,
          35.19,
          36.432,
          36.433,
          35.9,
          36.473,
          36.473,
          36.467,
          35.031,
          35.188,
          36.024,
          36.017,
          35.818,
          35.964,
          36.473,
          36.895,
          36.895,
          36.683,
          36.683,
          36.988,
          36.983,
          36.023,
          36.017,
          37.053,
          36.967,
          35.998,
          36.473,
          35.031,
          35.818,
          35.495,
          35.223,
          36.859,
          37.067,
          36.65,
          36.61,
          35.03,
          34.72,
          34.84,
          36.855,
          36.43,
          36.859,
          37.06,
          36.97,
          36.895,
          36.017,
          36.2,
          36.48,
          35.818,
          34.683,
          35.583,
          35.214,
          34.861,
          34.861,
          36.226,
          36.665,
          36.665,
          36.6,
          36.601,
          36.899,
          34.659,
          35.507,
          34.689,
          34.689,
          34.915,
          34.915,
          35.178,
          35.178,
          35.38,
          35.38,
          35.135,
          35.135,
          36.624,
          36.617,
          34.983,
          34.979,
          34.983,
          34.653,
          34.653,
          37.033,
          37.032,
          34.681,
          36.338,
          34.644,
          34.679,
          34.683,
          34.744,
          35.25,
          35.554,
          35.554,
          35.951,
          35.133,
          35.951,
          35.95,
          36.119,
          36.182,
          36.009,
          36,
          36.056,
          36.056,
          36.617,
          36.624,
          35.35,
          35.35,
          35.056,
          35.35,
          35.593,
          36,
          36,
          35.967,
          35.967,
          35.94,
          35.933,
          34.933,
          36.667,
          36.667,
          36.965,
          36.568,
          35.393,
          34.65,
          36.183,
          36.6,
          36,
          35.593,
          36.6,
          35.951,
          34.644,
          36.667,
          35.383,
          35.056,
          34.744,
          36.119,
          34.822,
          36.38,
          36.014,
          34.565,
          34.66,
          34.773,
          34.694,
          35.967,
          36.965,
          35.35,
          36.38,
          34.68,
          35.135,
          35.178,
          36.119,
          36.965,
          36.65,
          36.62,
          34.915,
          35.95,
          34.653,
          36,
          37.03,
          35.93,
          36.667,
          34.644,
          34.679,
          36.18,
          35.58,
          36.6,
          34.86,
          35.05,
          35.593,
          36,
          35.54,
          34.744,
          35.35,
          34.97,
          36.338,
          36.899,
          36.056,
          35.38,
          36.38,
          34.68
         ],
         "legendgroup": "",
         "lon": [
          -83.419,
          -83.419,
          -81.798,
          -81.8,
          -83.738,
          -83.733,
          -84.856,
          -83.983,
          -84.2,
          -82.173,
          -83.218,
          -83.218,
          -84.162,
          -83.358,
          -84.869,
          -84.869,
          -83.865,
          -83.867,
          -81.65,
          -81.65,
          -83.86,
          -81.419,
          -81.417,
          -82.817,
          -82.404,
          -82.404,
          -82.4,
          -85.201,
          -85.178,
          -84.238,
          -84.233,
          -83.986,
          -83.874,
          -82.404,
          -81.35,
          -81.35,
          -82.033,
          -82.033,
          -82.53,
          -82.533,
          -84.234,
          -84.217,
          -84.616,
          -84.133,
          -84.219,
          -82.404,
          -85.201,
          -83.986,
          -82.614,
          -83.419,
          -83.358,
          -81.8,
          -83.21,
          -83.74,
          -85.2,
          -84.87,
          -84,
          -84.856,
          -81.42,
          -83.358,
          -81.8,
          -82.53,
          -81.35,
          -84.217,
          -81.65,
          -82.4,
          -83.986,
          -86.683,
          -89.587,
          -89.043,
          -86.557,
          -86.557,
          -90.037,
          -88.373,
          -88.373,
          -89.983,
          -89.992,
          -89.562,
          -87.349,
          -86.804,
          -86.006,
          -86.006,
          -88.604,
          -88.604,
          -86.066,
          -86.066,
          -86.246,
          -86.246,
          -90.234,
          -90.234,
          -87.419,
          -87.417,
          -89.783,
          -89.787,
          -89.783,
          -86.945,
          -86.945,
          -85.95,
          -85.954,
          -90.347,
          -88.383,
          -86.786,
          -86.685,
          -86.683,
          -87.6,
          -85.85,
          -87.179,
          -87.179,
          -85.081,
          -86.55,
          -85.081,
          -85.083,
          -86.689,
          -86.887,
          -86.52,
          -86.517,
          -85.531,
          -85.531,
          -87.417,
          -87.419,
          -89.867,
          -89.867,
          -89.987,
          -89.867,
          -88.917,
          -89.409,
          -89.4,
          -89.95,
          -89.933,
          -89.831,
          -89.833,
          -86.083,
          -87.483,
          -87.5,
          -86.424,
          -87.481,
          -86.086,
          -87.333,
          -86.3,
          -89.983,
          -89.409,
          -88.917,
          -89.983,
          -85.081,
          -86.786,
          -87.483,
          -86.233,
          -89.987,
          -87.6,
          -86.689,
          -89.435,
          -88.985,
          -85.135,
          -85.617,
          -87.346,
          -87.64,
          -86,
          -85.783,
          -86.424,
          -89.867,
          -88.985,
          -86,
          -90.234,
          -86.066,
          -86.689,
          -86.424,
          -88.36,
          -87.42,
          -88.604,
          -85.08,
          -86.945,
          -89.409,
          -85.95,
          -89.83,
          -87.5,
          -86.786,
          -86.685,
          -86.88,
          -89.58,
          -90,
          -86.56,
          -90,
          -88.917,
          -86.517,
          -87.18,
          -87.6,
          -89.87,
          -89.79,
          -88.383,
          -89.562,
          -85.531,
          -86.25,
          -88.985,
          -90.35
         ],
         "marker": {
          "color": "#636efa"
         },
         "mode": "markers",
         "name": "",
         "showlegend": false,
         "subplot": "mapbox",
         "type": "scattermapbox"
        }
       ],
       "layout": {
        "autosize": true,
        "legend": {
         "tracegroupgap": 0
        },
        "mapbox": {
         "bearing": 0,
         "center": {
          "lat": 36.17068441753858,
          "lon": -84.86774222886498
         },
         "domain": {
          "x": [
           0,
           1
          ],
          "y": [
           0,
           1
          ]
         },
         "pitch": 0,
         "style": "open-street-map",
         "zoom": 5.806889457032544
        },
        "margin": {
         "t": 60
        },
        "template": {
         "data": {
          "bar": [
           {
            "error_x": {
             "color": "#2a3f5f"
            },
            "error_y": {
             "color": "#2a3f5f"
            },
            "marker": {
             "line": {
              "color": "#E5ECF6",
              "width": 0.5
             },
             "pattern": {
              "fillmode": "overlay",
              "size": 10,
              "solidity": 0.2
             }
            },
            "type": "bar"
           }
          ],
          "barpolar": [
           {
            "marker": {
             "line": {
              "color": "#E5ECF6",
              "width": 0.5
             },
             "pattern": {
              "fillmode": "overlay",
              "size": 10,
              "solidity": 0.2
             }
            },
            "type": "barpolar"
           }
          ],
          "carpet": [
           {
            "aaxis": {
             "endlinecolor": "#2a3f5f",
             "gridcolor": "white",
             "linecolor": "white",
             "minorgridcolor": "white",
             "startlinecolor": "#2a3f5f"
            },
            "baxis": {
             "endlinecolor": "#2a3f5f",
             "gridcolor": "white",
             "linecolor": "white",
             "minorgridcolor": "white",
             "startlinecolor": "#2a3f5f"
            },
            "type": "carpet"
           }
          ],
          "choropleth": [
           {
            "colorbar": {
             "outlinewidth": 0,
             "ticks": ""
            },
            "type": "choropleth"
           }
          ],
          "contour": [
           {
            "colorbar": {
             "outlinewidth": 0,
             "ticks": ""
            },
            "colorscale": [
             [
              0,
              "#0d0887"
             ],
             [
              0.1111111111111111,
              "#46039f"
             ],
             [
              0.2222222222222222,
              "#7201a8"
             ],
             [
              0.3333333333333333,
              "#9c179e"
             ],
             [
              0.4444444444444444,
              "#bd3786"
             ],
             [
              0.5555555555555556,
              "#d8576b"
             ],
             [
              0.6666666666666666,
              "#ed7953"
             ],
             [
              0.7777777777777778,
              "#fb9f3a"
             ],
             [
              0.8888888888888888,
              "#fdca26"
             ],
             [
              1,
              "#f0f921"
             ]
            ],
            "type": "contour"
           }
          ],
          "contourcarpet": [
           {
            "colorbar": {
             "outlinewidth": 0,
             "ticks": ""
            },
            "type": "contourcarpet"
           }
          ],
          "heatmap": [
           {
            "colorbar": {
             "outlinewidth": 0,
             "ticks": ""
            },
            "colorscale": [
             [
              0,
              "#0d0887"
             ],
             [
              0.1111111111111111,
              "#46039f"
             ],
             [
              0.2222222222222222,
              "#7201a8"
             ],
             [
              0.3333333333333333,
              "#9c179e"
             ],
             [
              0.4444444444444444,
              "#bd3786"
             ],
             [
              0.5555555555555556,
              "#d8576b"
             ],
             [
              0.6666666666666666,
              "#ed7953"
             ],
             [
              0.7777777777777778,
              "#fb9f3a"
             ],
             [
              0.8888888888888888,
              "#fdca26"
             ],
             [
              1,
              "#f0f921"
             ]
            ],
            "type": "heatmap"
           }
          ],
          "heatmapgl": [
           {
            "colorbar": {
             "outlinewidth": 0,
             "ticks": ""
            },
            "colorscale": [
             [
              0,
              "#0d0887"
             ],
             [
              0.1111111111111111,
              "#46039f"
             ],
             [
              0.2222222222222222,
              "#7201a8"
             ],
             [
              0.3333333333333333,
              "#9c179e"
             ],
             [
              0.4444444444444444,
              "#bd3786"
             ],
             [
              0.5555555555555556,
              "#d8576b"
             ],
             [
              0.6666666666666666,
              "#ed7953"
             ],
             [
              0.7777777777777778,
              "#fb9f3a"
             ],
             [
              0.8888888888888888,
              "#fdca26"
             ],
             [
              1,
              "#f0f921"
             ]
            ],
            "type": "heatmapgl"
           }
          ],
          "histogram": [
           {
            "marker": {
             "pattern": {
              "fillmode": "overlay",
              "size": 10,
              "solidity": 0.2
             }
            },
            "type": "histogram"
           }
          ],
          "histogram2d": [
           {
            "colorbar": {
             "outlinewidth": 0,
             "ticks": ""
            },
            "colorscale": [
             [
              0,
              "#0d0887"
             ],
             [
              0.1111111111111111,
              "#46039f"
             ],
             [
              0.2222222222222222,
              "#7201a8"
             ],
             [
              0.3333333333333333,
              "#9c179e"
             ],
             [
              0.4444444444444444,
              "#bd3786"
             ],
             [
              0.5555555555555556,
              "#d8576b"
             ],
             [
              0.6666666666666666,
              "#ed7953"
             ],
             [
              0.7777777777777778,
              "#fb9f3a"
             ],
             [
              0.8888888888888888,
              "#fdca26"
             ],
             [
              1,
              "#f0f921"
             ]
            ],
            "type": "histogram2d"
           }
          ],
          "histogram2dcontour": [
           {
            "colorbar": {
             "outlinewidth": 0,
             "ticks": ""
            },
            "colorscale": [
             [
              0,
              "#0d0887"
             ],
             [
              0.1111111111111111,
              "#46039f"
             ],
             [
              0.2222222222222222,
              "#7201a8"
             ],
             [
              0.3333333333333333,
              "#9c179e"
             ],
             [
              0.4444444444444444,
              "#bd3786"
             ],
             [
              0.5555555555555556,
              "#d8576b"
             ],
             [
              0.6666666666666666,
              "#ed7953"
             ],
             [
              0.7777777777777778,
              "#fb9f3a"
             ],
             [
              0.8888888888888888,
              "#fdca26"
             ],
             [
              1,
              "#f0f921"
             ]
            ],
            "type": "histogram2dcontour"
           }
          ],
          "mesh3d": [
           {
            "colorbar": {
             "outlinewidth": 0,
             "ticks": ""
            },
            "type": "mesh3d"
           }
          ],
          "parcoords": [
           {
            "line": {
             "colorbar": {
              "outlinewidth": 0,
              "ticks": ""
             }
            },
            "type": "parcoords"
           }
          ],
          "pie": [
           {
            "automargin": true,
            "type": "pie"
           }
          ],
          "scatter": [
           {
            "marker": {
             "colorbar": {
              "outlinewidth": 0,
              "ticks": ""
             }
            },
            "type": "scatter"
           }
          ],
          "scatter3d": [
           {
            "line": {
             "colorbar": {
              "outlinewidth": 0,
              "ticks": ""
             }
            },
            "marker": {
             "colorbar": {
              "outlinewidth": 0,
              "ticks": ""
             }
            },
            "type": "scatter3d"
           }
          ],
          "scattercarpet": [
           {
            "marker": {
             "colorbar": {
              "outlinewidth": 0,
              "ticks": ""
             }
            },
            "type": "scattercarpet"
           }
          ],
          "scattergeo": [
           {
            "marker": {
             "colorbar": {
              "outlinewidth": 0,
              "ticks": ""
             }
            },
            "type": "scattergeo"
           }
          ],
          "scattergl": [
           {
            "marker": {
             "colorbar": {
              "outlinewidth": 0,
              "ticks": ""
             }
            },
            "type": "scattergl"
           }
          ],
          "scattermapbox": [
           {
            "marker": {
             "colorbar": {
              "outlinewidth": 0,
              "ticks": ""
             }
            },
            "type": "scattermapbox"
           }
          ],
          "scatterpolar": [
           {
            "marker": {
             "colorbar": {
              "outlinewidth": 0,
              "ticks": ""
             }
            },
            "type": "scatterpolar"
           }
          ],
          "scatterpolargl": [
           {
            "marker": {
             "colorbar": {
              "outlinewidth": 0,
              "ticks": ""
             }
            },
            "type": "scatterpolargl"
           }
          ],
          "scatterternary": [
           {
            "marker": {
             "colorbar": {
              "outlinewidth": 0,
              "ticks": ""
             }
            },
            "type": "scatterternary"
           }
          ],
          "surface": [
           {
            "colorbar": {
             "outlinewidth": 0,
             "ticks": ""
            },
            "colorscale": [
             [
              0,
              "#0d0887"
             ],
             [
              0.1111111111111111,
              "#46039f"
             ],
             [
              0.2222222222222222,
              "#7201a8"
             ],
             [
              0.3333333333333333,
              "#9c179e"
             ],
             [
              0.4444444444444444,
              "#bd3786"
             ],
             [
              0.5555555555555556,
              "#d8576b"
             ],
             [
              0.6666666666666666,
              "#ed7953"
             ],
             [
              0.7777777777777778,
              "#fb9f3a"
             ],
             [
              0.8888888888888888,
              "#fdca26"
             ],
             [
              1,
              "#f0f921"
             ]
            ],
            "type": "surface"
           }
          ],
          "table": [
           {
            "cells": {
             "fill": {
              "color": "#EBF0F8"
             },
             "line": {
              "color": "white"
             }
            },
            "header": {
             "fill": {
              "color": "#C8D4E3"
             },
             "line": {
              "color": "white"
             }
            },
            "type": "table"
           }
          ]
         },
         "layout": {
          "annotationdefaults": {
           "arrowcolor": "#2a3f5f",
           "arrowhead": 0,
           "arrowwidth": 1
          },
          "autotypenumbers": "strict",
          "coloraxis": {
           "colorbar": {
            "outlinewidth": 0,
            "ticks": ""
           }
          },
          "colorscale": {
           "diverging": [
            [
             0,
             "#8e0152"
            ],
            [
             0.1,
             "#c51b7d"
            ],
            [
             0.2,
             "#de77ae"
            ],
            [
             0.3,
             "#f1b6da"
            ],
            [
             0.4,
             "#fde0ef"
            ],
            [
             0.5,
             "#f7f7f7"
            ],
            [
             0.6,
             "#e6f5d0"
            ],
            [
             0.7,
             "#b8e186"
            ],
            [
             0.8,
             "#7fbc41"
            ],
            [
             0.9,
             "#4d9221"
            ],
            [
             1,
             "#276419"
            ]
           ],
           "sequential": [
            [
             0,
             "#0d0887"
            ],
            [
             0.1111111111111111,
             "#46039f"
            ],
            [
             0.2222222222222222,
             "#7201a8"
            ],
            [
             0.3333333333333333,
             "#9c179e"
            ],
            [
             0.4444444444444444,
             "#bd3786"
            ],
            [
             0.5555555555555556,
             "#d8576b"
            ],
            [
             0.6666666666666666,
             "#ed7953"
            ],
            [
             0.7777777777777778,
             "#fb9f3a"
            ],
            [
             0.8888888888888888,
             "#fdca26"
            ],
            [
             1,
             "#f0f921"
            ]
           ],
           "sequentialminus": [
            [
             0,
             "#0d0887"
            ],
            [
             0.1111111111111111,
             "#46039f"
            ],
            [
             0.2222222222222222,
             "#7201a8"
            ],
            [
             0.3333333333333333,
             "#9c179e"
            ],
            [
             0.4444444444444444,
             "#bd3786"
            ],
            [
             0.5555555555555556,
             "#d8576b"
            ],
            [
             0.6666666666666666,
             "#ed7953"
            ],
            [
             0.7777777777777778,
             "#fb9f3a"
            ],
            [
             0.8888888888888888,
             "#fdca26"
            ],
            [
             1,
             "#f0f921"
            ]
           ]
          },
          "colorway": [
           "#636efa",
           "#EF553B",
           "#00cc96",
           "#ab63fa",
           "#FFA15A",
           "#19d3f3",
           "#FF6692",
           "#B6E880",
           "#FF97FF",
           "#FECB52"
          ],
          "font": {
           "color": "#2a3f5f"
          },
          "geo": {
           "bgcolor": "white",
           "lakecolor": "white",
           "landcolor": "#E5ECF6",
           "showlakes": true,
           "showland": true,
           "subunitcolor": "white"
          },
          "hoverlabel": {
           "align": "left"
          },
          "hovermode": "closest",
          "mapbox": {
           "style": "light"
          },
          "paper_bgcolor": "white",
          "plot_bgcolor": "#E5ECF6",
          "polar": {
           "angularaxis": {
            "gridcolor": "white",
            "linecolor": "white",
            "ticks": ""
           },
           "bgcolor": "#E5ECF6",
           "radialaxis": {
            "gridcolor": "white",
            "linecolor": "white",
            "ticks": ""
           }
          },
          "scene": {
           "xaxis": {
            "backgroundcolor": "#E5ECF6",
            "gridcolor": "white",
            "gridwidth": 2,
            "linecolor": "white",
            "showbackground": true,
            "ticks": "",
            "zerolinecolor": "white"
           },
           "yaxis": {
            "backgroundcolor": "#E5ECF6",
            "gridcolor": "white",
            "gridwidth": 2,
            "linecolor": "white",
            "showbackground": true,
            "ticks": "",
            "zerolinecolor": "white"
           },
           "zaxis": {
            "backgroundcolor": "#E5ECF6",
            "gridcolor": "white",
            "gridwidth": 2,
            "linecolor": "white",
            "showbackground": true,
            "ticks": "",
            "zerolinecolor": "white"
           }
          },
          "shapedefaults": {
           "line": {
            "color": "#2a3f5f"
           }
          },
          "ternary": {
           "aaxis": {
            "gridcolor": "white",
            "linecolor": "white",
            "ticks": ""
           },
           "baxis": {
            "gridcolor": "white",
            "linecolor": "white",
            "ticks": ""
           },
           "bgcolor": "#E5ECF6",
           "caxis": {
            "gridcolor": "white",
            "linecolor": "white",
            "ticks": ""
           }
          },
          "title": {
           "x": 0.05
          },
          "xaxis": {
           "automargin": true,
           "gridcolor": "white",
           "linecolor": "white",
           "ticks": "",
           "title": {
            "standoff": 15
           },
           "zerolinecolor": "white",
           "zerolinewidth": 2
          },
          "yaxis": {
           "automargin": true,
           "gridcolor": "white",
           "linecolor": "white",
           "ticks": "",
           "title": {
            "standoff": 15
           },
           "zerolinecolor": "white",
           "zerolinewidth": 2
          }
         }
        }
       }
      },
      "image/png": "[encoded data removed]",
      "text/html": [
       "<div>                            <div id=\"6245a91a-57b1-4db9-8975-d5523b1d2ffe\" class=\"plotly-graph-div\" style=\"height:525px; width:100%;\"></div>            <script type=\"text/javascript\">                require([\"plotly\"], function(Plotly) {                    window.PLOTLYENV=window.PLOTLYENV || {};                                    if (document.getElementById(\"6245a91a-57b1-4db9-8975-d5523b1d2ffe\")) {                    Plotly.newPlot(                        \"6245a91a-57b1-4db9-8975-d5523b1d2ffe\",                        [{\"hovertemplate\":\"<b>%{hovertext}</b><br><br>gps_coordinate_latitude=%{lat}<br>gps_coordinate_longitude=%{lon}<extra></extra>\",\"hovertext\":[\"720259-63844\",\"720259-99999\",\"720264-63827\",\"720264-99999\",\"720353-63875\",\"720353-99999\",\"720379-63882\",\"720409-99999\",\"720465-99999\",\"720623-99999\",\"720768-00274\",\"720768-99999\",\"720907-99999\",\"720958-99999\",\"722154-53885\",\"722154-99999\",\"722177-63811\",\"722177-99999\",\"722198-63819\",\"722198-99999\",\"723048-99999\",\"723146-53892\",\"723146-99999\",\"723155-99999\",\"723181-13877\",\"723183-13877\",\"723183-99999\",\"723240-13882\",\"723244-99999\",\"723246-53868\",\"723246-99999\",\"723260-13891\",\"723264-99999\",\"723350-13877\",\"724056-63805\",\"724056-99999\",\"724058-53818\",\"724058-99999\",\"724117-63802\",\"724117-99999\",\"724270-53868\",\"724270-99999\",\"724354-99999\",\"999999-03814\",\"999999-03841\",\"999999-13877\",\"999999-13882\",\"999999-13891\",\"999999-53877\",\"A00003-63844\",\"A06773-00334\",\"A06800-00120\",\"K0VG\",\"K1A6\",\"KCHA\",\"KDNN\",\"KDZJ\",\"KEKQ\",\"KGEV\",\"KI35\",\"KJFZ\",\"KLNP\",\"KMKJ\",\"KOQT\",\"KTNB\",\"KTRI\",\"KTYS\",\"691164-99999\",\"720168-99999\",\"720171-99999\",\"720307-63804\",\"720307-99999\",\"720331-99999\",\"720447-00437\",\"720447-99999\",\"720481-03817\",\"720481-99999\",\"720488-99999\",\"720773-99999\",\"720775-99999\",\"720856-00284\",\"720856-99999\",\"720924-00311\",\"720924-99999\",\"720974-00344\",\"720974-99999\",\"721031-00348\",\"721031-99999\",\"722054-53959\",\"722054-99999\",\"722072-03894\",\"722072-99999\",\"722165-13815\",\"722165-63808\",\"722165-99999\",\"722279-53852\",\"722279-99999\",\"722322-00361\",\"722322-99999\",\"722364-23903\",\"722781-99999\",\"723230-03856\",\"723231-63883\",\"723231-99999\",\"723235-13896\",\"723245-99999\",\"723249-00463\",\"723249-99999\",\"723250-03847\",\"723263-99999\",\"723265-03847\",\"723265-99999\",\"723270-13897\",\"723271-99999\",\"723273-13827\",\"723273-99999\",\"723274-00372\",\"723274-99999\",\"723275-99999\",\"723280-03894\",\"723284-93839\",\"723284-99999\",\"723340-13893\",\"723345-93839\",\"723346-03811\",\"723347-03809\",\"723347-99999\",\"723408-13814\",\"723408-99999\",\"723409-53869\",\"723409-99999\",\"726381-99999\",\"746710-13806\",\"746710-99999\",\"746716-93808\",\"746720-99999\",\"749000-99999\",\"749080-99999\",\"749083-99999\",\"749086-99999\",\"999999-03809\",\"999999-03811\",\"999999-03817\",\"999999-03847\",\"999999-03856\",\"999999-13806\",\"999999-13855\",\"999999-13893\",\"999999-13896\",\"999999-13897\",\"999999-23803\",\"999999-63820\",\"999999-63855\",\"999999-63862\",\"999999-63868\",\"999999-63894\",\"999999-63896\",\"999999-93803\",\"999999-93808\",\"999999-93839\",\"A00029-63820\",\"K4A6\",\"KAWM\",\"KBGF\",\"KBNA\",\"KBWG\",\"KCEY\",\"KCKV\",\"KCRX\",\"KCSV\",\"KDCU\",\"KDYR\",\"KGLW\",\"KHKA\",\"KHOP\",\"KHSV\",\"KHUA\",\"KJWN\",\"KM04\",\"KMAW\",\"KMDQ\",\"KMEM\",\"KMKL\",\"KMQY\",\"KMRC\",\"KMSL\",\"KNQA\",\"KOLV\",\"KPHT\",\"KSIK\",\"KSRB\",\"KTHA\",\"KUCY\",\"KUTA\"],\"lat\":[35.223,35.223,37.064,37.067,36.611,36.617,36.855,34.85,36.8,36.371,36.654,36.654,36.335,36.859,34.722,34.722,35.195,35.2,36.2,36.2,35.19,36.432,36.433,35.9,36.473,36.473,36.467,35.031,35.188,36.024,36.017,35.818,35.964,36.473,36.895,36.895,36.683,36.683,36.988,36.983,36.023,36.017,37.053,36.967,35.998,36.473,35.031,35.818,35.495,35.223,36.859,37.067,36.65,36.61,35.03,34.72,34.84,36.855,36.43,36.859,37.06,36.97,36.895,36.017,36.2,36.48,35.818,34.683,35.583,35.214,34.861,34.861,36.226,36.665,36.665,36.6,36.601,36.899,34.659,35.507,34.689,34.689,34.915,34.915,35.178,35.178,35.38,35.38,35.135,35.135,36.624,36.617,34.983,34.979,34.983,34.653,34.653,37.033,37.032,34.681,36.338,34.644,34.679,34.683,34.744,35.25,35.554,35.554,35.951,35.133,35.951,35.95,36.119,36.182,36.009,36.0,36.056,36.056,36.617,36.624,35.35,35.35,35.056,35.35,35.593,36.0,36.0,35.967,35.967,35.94,35.933,34.933,36.667,36.667,36.965,36.568,35.393,34.65,36.183,36.6,36.0,35.593,36.6,35.951,34.644,36.667,35.383,35.056,34.744,36.119,34.822,36.38,36.014,34.565,34.66,34.773,34.694,35.967,36.965,35.35,36.38,34.68,35.135,35.178,36.119,36.965,36.65,36.62,34.915,35.95,34.653,36.0,37.03,35.93,36.667,34.644,34.679,36.18,35.58,36.6,34.86,35.05,35.593,36.0,35.54,34.744,35.35,34.97,36.338,36.899,36.056,35.38,36.38,34.68],\"legendgroup\":\"\",\"lon\":[-83.419,-83.419,-81.798,-81.8,-83.738,-83.733,-84.856,-83.983,-84.2,-82.173,-83.218,-83.218,-84.162,-83.358,-84.869,-84.869,-83.865,-83.867,-81.65,-81.65,-83.86,-81.419,-81.417,-82.817,-82.404,-82.404,-82.4,-85.201,-85.178,-84.238,-84.233,-83.986,-83.874,-82.404,-81.35,-81.35,-82.033,-82.033,-82.53,-82.533,-84.234,-84.217,-84.616,-84.133,-84.219,-82.404,-85.201,-83.986,-82.614,-83.419,-83.358,-81.8,-83.21,-83.74,-85.2,-84.87,-84.0,-84.856,-81.42,-83.358,-81.8,-82.53,-81.35,-84.217,-81.65,-82.4,-83.986,-86.683,-89.587,-89.043,-86.557,-86.557,-90.037,-88.373,-88.373,-89.983,-89.992,-89.562,-87.349,-86.804,-86.006,-86.006,-88.604,-88.604,-86.066,-86.066,-86.246,-86.246,-90.234,-90.234,-87.419,-87.417,-89.783,-89.787,-89.783,-86.945,-86.945,-85.95,-85.954,-90.347,-88.383,-86.786,-86.685,-86.683,-87.6,-85.85,-87.179,-87.179,-85.081,-86.55,-85.081,-85.083,-86.689,-86.887,-86.52,-86.517,-85.531,-85.531,-87.417,-87.419,-89.867,-89.867,-89.987,-89.867,-88.917,-89.409,-89.4,-89.95,-89.933,-89.831,-89.833,-86.083,-87.483,-87.5,-86.424,-87.481,-86.086,-87.333,-86.3,-89.983,-89.409,-88.917,-89.983,-85.081,-86.786,-87.483,-86.233,-89.987,-87.6,-86.689,-89.435,-88.985,-85.135,-85.617,-87.346,-87.64,-86.0,-85.783,-86.424,-89.867,-88.985,-86.0,-90.234,-86.066,-86.689,-86.424,-88.36,-87.42,-88.604,-85.08,-86.945,-89.409,-85.95,-89.83,-87.5,-86.786,-86.685,-86.88,-89.58,-90.0,-86.56,-90.0,-88.917,-86.517,-87.18,-87.6,-89.87,-89.79,-88.383,-89.562,-85.531,-86.25,-88.985,-90.35],\"marker\":{\"color\":\"#636efa\"},\"mode\":\"markers\",\"name\":\"\",\"showlegend\":false,\"subplot\":\"mapbox\",\"type\":\"scattermapbox\"}],                        {\"legend\":{\"tracegroupgap\":0},\"mapbox\":{\"center\":{\"lat\":35.836670103092786,\"lon\":-86.2028144329897},\"domain\":{\"x\":[0.0,1.0],\"y\":[0.0,1.0]},\"style\":\"open-street-map\",\"zoom\":10},\"margin\":{\"t\":60},\"template\":{\"data\":{\"bar\":[{\"error_x\":{\"color\":\"#2a3f5f\"},\"error_y\":{\"color\":\"#2a3f5f\"},\"marker\":{\"line\":{\"color\":\"#E5ECF6\",\"width\":0.5},\"pattern\":{\"fillmode\":\"overlay\",\"size\":10,\"solidity\":0.2}},\"type\":\"bar\"}],\"barpolar\":[{\"marker\":{\"line\":{\"color\":\"#E5ECF6\",\"width\":0.5},\"pattern\":{\"fillmode\":\"overlay\",\"size\":10,\"solidity\":0.2}},\"type\":\"barpolar\"}],\"carpet\":[{\"aaxis\":{\"endlinecolor\":\"#2a3f5f\",\"gridcolor\":\"white\",\"linecolor\":\"white\",\"minorgridcolor\":\"white\",\"startlinecolor\":\"#2a3f5f\"},\"baxis\":{\"endlinecolor\":\"#2a3f5f\",\"gridcolor\":\"white\",\"linecolor\":\"white\",\"minorgridcolor\":\"white\",\"startlinecolor\":\"#2a3f5f\"},\"type\":\"carpet\"}],\"choropleth\":[{\"colorbar\":{\"outlinewidth\":0,\"ticks\":\"\"},\"type\":\"choropleth\"}],\"contour\":[{\"colorbar\":{\"outlinewidth\":0,\"ticks\":\"\"},\"colorscale\":[[0.0,\"#0d0887\"],[0.1111111111111111,\"#46039f\"],[0.2222222222222222,\"#7201a8\"],[0.3333333333333333,\"#9c179e\"],[0.4444444444444444,\"#bd3786\"],[0.5555555555555556,\"#d8576b\"],[0.6666666666666666,\"#ed7953\"],[0.7777777777777778,\"#fb9f3a\"],[0.8888888888888888,\"#fdca26\"],[1.0,\"#f0f921\"]],\"type\":\"contour\"}],\"contourcarpet\":[{\"colorbar\":{\"outlinewidth\":0,\"ticks\":\"\"},\"type\":\"contourcarpet\"}],\"heatmap\":[{\"colorbar\":{\"outlinewidth\":0,\"ticks\":\"\"},\"colorscale\":[[0.0,\"#0d0887\"],[0.1111111111111111,\"#46039f\"],[0.2222222222222222,\"#7201a8\"],[0.3333333333333333,\"#9c179e\"],[0.4444444444444444,\"#bd3786\"],[0.5555555555555556,\"#d8576b\"],[0.6666666666666666,\"#ed7953\"],[0.7777777777777778,\"#fb9f3a\"],[0.8888888888888888,\"#fdca26\"],[1.0,\"#f0f921\"]],\"type\":\"heatmap\"}],\"heatmapgl\":[{\"colorbar\":{\"outlinewidth\":0,\"ticks\":\"\"},\"colorscale\":[[0.0,\"#0d0887\"],[0.1111111111111111,\"#46039f\"],[0.2222222222222222,\"#7201a8\"],[0.3333333333333333,\"#9c179e\"],[0.4444444444444444,\"#bd3786\"],[0.5555555555555556,\"#d8576b\"],[0.6666666666666666,\"#ed7953\"],[0.7777777777777778,\"#fb9f3a\"],[0.8888888888888888,\"#fdca26\"],[1.0,\"#f0f921\"]],\"type\":\"heatmapgl\"}],\"histogram\":[{\"marker\":{\"pattern\":{\"fillmode\":\"overlay\",\"size\":10,\"solidity\":0.2}},\"type\":\"histogram\"}],\"histogram2d\":[{\"colorbar\":{\"outlinewidth\":0,\"ticks\":\"\"},\"colorscale\":[[0.0,\"#0d0887\"],[0.1111111111111111,\"#46039f\"],[0.2222222222222222,\"#7201a8\"],[0.3333333333333333,\"#9c179e\"],[0.4444444444444444,\"#bd3786\"],[0.5555555555555556,\"#d8576b\"],[0.6666666666666666,\"#ed7953\"],[0.7777777777777778,\"#fb9f3a\"],[0.8888888888888888,\"#fdca26\"],[1.0,\"#f0f921\"]],\"type\":\"histogram2d\"}],\"histogram2dcontour\":[{\"colorbar\":{\"outlinewidth\":0,\"ticks\":\"\"},\"colorscale\":[[0.0,\"#0d0887\"],[0.1111111111111111,\"#46039f\"],[0.2222222222222222,\"#7201a8\"],[0.3333333333333333,\"#9c179e\"],[0.4444444444444444,\"#bd3786\"],[0.5555555555555556,\"#d8576b\"],[0.6666666666666666,\"#ed7953\"],[0.7777777777777778,\"#fb9f3a\"],[0.8888888888888888,\"#fdca26\"],[1.0,\"#f0f921\"]],\"type\":\"histogram2dcontour\"}],\"mesh3d\":[{\"colorbar\":{\"outlinewidth\":0,\"ticks\":\"\"},\"type\":\"mesh3d\"}],\"parcoords\":[{\"line\":{\"colorbar\":{\"outlinewidth\":0,\"ticks\":\"\"}},\"type\":\"parcoords\"}],\"pie\":[{\"automargin\":true,\"type\":\"pie\"}],\"scatter\":[{\"marker\":{\"colorbar\":{\"outlinewidth\":0,\"ticks\":\"\"}},\"type\":\"scatter\"}],\"scatter3d\":[{\"line\":{\"colorbar\":{\"outlinewidth\":0,\"ticks\":\"\"}},\"marker\":{\"colorbar\":{\"outlinewidth\":0,\"ticks\":\"\"}},\"type\":\"scatter3d\"}],\"scattercarpet\":[{\"marker\":{\"colorbar\":{\"outlinewidth\":0,\"ticks\":\"\"}},\"type\":\"scattercarpet\"}],\"scattergeo\":[{\"marker\":{\"colorbar\":{\"outlinewidth\":0,\"ticks\":\"\"}},\"type\":\"scattergeo\"}],\"scattergl\":[{\"marker\":{\"colorbar\":{\"outlinewidth\":0,\"ticks\":\"\"}},\"type\":\"scattergl\"}],\"scattermapbox\":[{\"marker\":{\"colorbar\":{\"outlinewidth\":0,\"ticks\":\"\"}},\"type\":\"scattermapbox\"}],\"scatterpolar\":[{\"marker\":{\"colorbar\":{\"outlinewidth\":0,\"ticks\":\"\"}},\"type\":\"scatterpolar\"}],\"scatterpolargl\":[{\"marker\":{\"colorbar\":{\"outlinewidth\":0,\"ticks\":\"\"}},\"type\":\"scatterpolargl\"}],\"scatterternary\":[{\"marker\":{\"colorbar\":{\"outlinewidth\":0,\"ticks\":\"\"}},\"type\":\"scatterternary\"}],\"surface\":[{\"colorbar\":{\"outlinewidth\":0,\"ticks\":\"\"},\"colorscale\":[[0.0,\"#0d0887\"],[0.1111111111111111,\"#46039f\"],[0.2222222222222222,\"#7201a8\"],[0.3333333333333333,\"#9c179e\"],[0.4444444444444444,\"#bd3786\"],[0.5555555555555556,\"#d8576b\"],[0.6666666666666666,\"#ed7953\"],[0.7777777777777778,\"#fb9f3a\"],[0.8888888888888888,\"#fdca26\"],[1.0,\"#f0f921\"]],\"type\":\"surface\"}],\"table\":[{\"cells\":{\"fill\":{\"color\":\"#EBF0F8\"},\"line\":{\"color\":\"white\"}},\"header\":{\"fill\":{\"color\":\"#C8D4E3\"},\"line\":{\"color\":\"white\"}},\"type\":\"table\"}]},\"layout\":{\"annotationdefaults\":{\"arrowcolor\":\"#2a3f5f\",\"arrowhead\":0,\"arrowwidth\":1},\"autotypenumbers\":\"strict\",\"coloraxis\":{\"colorbar\":{\"outlinewidth\":0,\"ticks\":\"\"}},\"colorscale\":{\"diverging\":[[0,\"#8e0152\"],[0.1,\"#c51b7d\"],[0.2,\"#de77ae\"],[0.3,\"#f1b6da\"],[0.4,\"#fde0ef\"],[0.5,\"#f7f7f7\"],[0.6,\"#e6f5d0\"],[0.7,\"#b8e186\"],[0.8,\"#7fbc41\"],[0.9,\"#4d9221\"],[1,\"#276419\"]],\"sequential\":[[0.0,\"#0d0887\"],[0.1111111111111111,\"#46039f\"],[0.2222222222222222,\"#7201a8\"],[0.3333333333333333,\"#9c179e\"],[0.4444444444444444,\"#bd3786\"],[0.5555555555555556,\"#d8576b\"],[0.6666666666666666,\"#ed7953\"],[0.7777777777777778,\"#fb9f3a\"],[0.8888888888888888,\"#fdca26\"],[1.0,\"#f0f921\"]],\"sequentialminus\":[[0.0,\"#0d0887\"],[0.1111111111111111,\"#46039f\"],[0.2222222222222222,\"#7201a8\"],[0.3333333333333333,\"#9c179e\"],[0.4444444444444444,\"#bd3786\"],[0.5555555555555556,\"#d8576b\"],[0.6666666666666666,\"#ed7953\"],[0.7777777777777778,\"#fb9f3a\"],[0.8888888888888888,\"#fdca26\"],[1.0,\"#f0f921\"]]},\"colorway\":[\"#636efa\",\"#EF553B\",\"#00cc96\",\"#ab63fa\",\"#FFA15A\",\"#19d3f3\",\"#FF6692\",\"#B6E880\",\"#FF97FF\",\"#FECB52\"],\"font\":{\"color\":\"#2a3f5f\"},\"geo\":{\"bgcolor\":\"white\",\"lakecolor\":\"white\",\"landcolor\":\"#E5ECF6\",\"showlakes\":true,\"showland\":true,\"subunitcolor\":\"white\"},\"hoverlabel\":{\"align\":\"left\"},\"hovermode\":\"closest\",\"mapbox\":{\"style\":\"light\"},\"paper_bgcolor\":\"white\",\"plot_bgcolor\":\"#E5ECF6\",\"polar\":{\"angularaxis\":{\"gridcolor\":\"white\",\"linecolor\":\"white\",\"ticks\":\"\"},\"bgcolor\":\"#E5ECF6\",\"radialaxis\":{\"gridcolor\":\"white\",\"linecolor\":\"white\",\"ticks\":\"\"}},\"scene\":{\"xaxis\":{\"backgroundcolor\":\"#E5ECF6\",\"gridcolor\":\"white\",\"gridwidth\":2,\"linecolor\":\"white\",\"showbackground\":true,\"ticks\":\"\",\"zerolinecolor\":\"white\"},\"yaxis\":{\"backgroundcolor\":\"#E5ECF6\",\"gridcolor\":\"white\",\"gridwidth\":2,\"linecolor\":\"white\",\"showbackground\":true,\"ticks\":\"\",\"zerolinecolor\":\"white\"},\"zaxis\":{\"backgroundcolor\":\"#E5ECF6\",\"gridcolor\":\"white\",\"gridwidth\":2,\"linecolor\":\"white\",\"showbackground\":true,\"ticks\":\"\",\"zerolinecolor\":\"white\"}},\"shapedefaults\":{\"line\":{\"color\":\"#2a3f5f\"}},\"ternary\":{\"aaxis\":{\"gridcolor\":\"white\",\"linecolor\":\"white\",\"ticks\":\"\"},\"baxis\":{\"gridcolor\":\"white\",\"linecolor\":\"white\",\"ticks\":\"\"},\"bgcolor\":\"#E5ECF6\",\"caxis\":{\"gridcolor\":\"white\",\"linecolor\":\"white\",\"ticks\":\"\"}},\"title\":{\"x\":0.05},\"xaxis\":{\"automargin\":true,\"gridcolor\":\"white\",\"linecolor\":\"white\",\"ticks\":\"\",\"title\":{\"standoff\":15},\"zerolinecolor\":\"white\",\"zerolinewidth\":2},\"yaxis\":{\"automargin\":true,\"gridcolor\":\"white\",\"linecolor\":\"white\",\"ticks\":\"\",\"title\":{\"standoff\":15},\"zerolinecolor\":\"white\",\"zerolinewidth\":2}}}},                        {\"responsive\": true}                    ).then(function(){\n",
       "                            \n",
       "var gd = document.getElementById('6245a91a-57b1-4db9-8975-d5523b1d2ffe');\n",
       "var x = new MutationObserver(function (mutations, observer) {{\n",
       "        var display = window.getComputedStyle(gd).display;\n",
       "        if (!display || display === 'none') {{\n",
       "            console.log([gd, 'removed!']);\n",
       "            Plotly.purge(gd);\n",
       "            observer.disconnect();\n",
       "        }}\n",
       "}});\n",
       "\n",
       "// Listen for the removal of the full notebook cells\n",
       "var notebookContainer = gd.closest('#notebook-container');\n",
       "if (notebookContainer) {{\n",
       "    x.observe(notebookContainer, {childList: true});\n",
       "}}\n",
       "\n",
       "// Listen for the clearing of the current output cell\n",
       "var outputEl = gd.closest('.output');\n",
       "if (outputEl) {{\n",
       "    x.observe(outputEl, {childList: true});\n",
       "}}\n",
       "\n",
       "                        })                };                });            </script>        </div>"
      ]
     },
     "metadata": {},
     "output_type": "display_data"
    }
   ],
   "source": [
    "fig.show()"
   ]
  },
  {
   "cell_type": "code",
   "execution_count": null,
   "id": "e3005ba9-8afe-4016-a2d4-7b87517d76c9",
   "metadata": {},
   "outputs": [],
   "source": [
    "#read traffic data #huge data -be careful"
   ]
  },
  {
   "cell_type": "code",
   "execution_count": 4,
   "id": "35a9d2fd-f7b0-4535-bd0a-b9d1d49abce2",
   "metadata": {},
   "outputs": [],
   "source": [
    "import pyarrow.parquet as pq"
   ]
  },
  {
   "cell_type": "code",
   "execution_count": 5,
   "id": "c699c6ad-5a63-4f40-8420-60f58d382e30",
   "metadata": {},
   "outputs": [],
   "source": [
    "dataset = pq.ParquetDataset(\n",
    "    'traffic.parquet/',         \n",
    "    filters=[('year', '=', 2022)]\n",
    ") # we are only loading 2022 data. With spark you can load more."
   ]
  },
  {
   "cell_type": "code",
   "execution_count": 8,
   "id": "23da3ce8-b047-4412-a7c1-cae9b870aa2a",
   "metadata": {},
   "outputs": [],
   "source": [
    "traffic = dataset.read().to_pandas()"
   ]
  },
  {
   "cell_type": "code",
   "execution_count": 9,
   "id": "1471c510-15e2-4765-b24e-6a63d54220e1",
   "metadata": {},
   "outputs": [
    {
     "data": {
      "text/html": [
       "<div>\n",
       "<style scoped>\n",
       "    .dataframe tbody tr th:only-of-type {\n",
       "        vertical-align: middle;\n",
       "    }\n",
       "\n",
       "    .dataframe tbody tr th {\n",
       "        vertical-align: top;\n",
       "    }\n",
       "\n",
       "    .dataframe thead th {\n",
       "        text-align: right;\n",
       "    }\n",
       "</style>\n",
       "<table border=\"1\" class=\"dataframe\">\n",
       "  <thead>\n",
       "    <tr style=\"text-align: right;\">\n",
       "      <th></th>\n",
       "      <th>xd_id</th>\n",
       "      <th>measurement_tstamp</th>\n",
       "      <th>measurement_tstamp_str</th>\n",
       "      <th>speed</th>\n",
       "      <th>average_speed</th>\n",
       "      <th>reference_speed</th>\n",
       "      <th>travel_time_seconds</th>\n",
       "      <th>confidence_score</th>\n",
       "      <th>cvalue</th>\n",
       "      <th>congestion</th>\n",
       "      <th>extreme_congestion</th>\n",
       "      <th>county</th>\n",
       "      <th>year</th>\n",
       "      <th>month</th>\n",
       "    </tr>\n",
       "  </thead>\n",
       "  <tbody>\n",
       "    <tr>\n",
       "      <th>0</th>\n",
       "      <td>449575014</td>\n",
       "      <td>2022-01-16 22:10:00</td>\n",
       "      <td>2022-01-16 22:10:00</td>\n",
       "      <td>35.00</td>\n",
       "      <td>39.0</td>\n",
       "      <td>39.0</td>\n",
       "      <td>0.77</td>\n",
       "      <td>30.0</td>\n",
       "      <td>100.00</td>\n",
       "      <td>0.102564</td>\n",
       "      <td>0.102564</td>\n",
       "      <td>davidson</td>\n",
       "      <td>2022</td>\n",
       "      <td>1</td>\n",
       "    </tr>\n",
       "    <tr>\n",
       "      <th>1</th>\n",
       "      <td>160388958</td>\n",
       "      <td>2022-01-24 14:15:00</td>\n",
       "      <td>2022-01-24 14:15:00</td>\n",
       "      <td>29.58</td>\n",
       "      <td>17.0</td>\n",
       "      <td>17.0</td>\n",
       "      <td>27.71</td>\n",
       "      <td>30.0</td>\n",
       "      <td>90.00</td>\n",
       "      <td>0.000000</td>\n",
       "      <td>0.000000</td>\n",
       "      <td>davidson</td>\n",
       "      <td>2022</td>\n",
       "      <td>1</td>\n",
       "    </tr>\n",
       "    <tr>\n",
       "      <th>2</th>\n",
       "      <td>449575014</td>\n",
       "      <td>2022-01-16 22:15:00</td>\n",
       "      <td>2022-01-16 22:15:00</td>\n",
       "      <td>35.00</td>\n",
       "      <td>39.0</td>\n",
       "      <td>39.0</td>\n",
       "      <td>0.77</td>\n",
       "      <td>30.0</td>\n",
       "      <td>100.00</td>\n",
       "      <td>0.102564</td>\n",
       "      <td>0.102564</td>\n",
       "      <td>davidson</td>\n",
       "      <td>2022</td>\n",
       "      <td>1</td>\n",
       "    </tr>\n",
       "    <tr>\n",
       "      <th>3</th>\n",
       "      <td>160388958</td>\n",
       "      <td>2022-01-24 14:20:00</td>\n",
       "      <td>2022-01-24 14:20:00</td>\n",
       "      <td>29.00</td>\n",
       "      <td>17.0</td>\n",
       "      <td>17.0</td>\n",
       "      <td>28.26</td>\n",
       "      <td>30.0</td>\n",
       "      <td>90.00</td>\n",
       "      <td>0.000000</td>\n",
       "      <td>0.000000</td>\n",
       "      <td>davidson</td>\n",
       "      <td>2022</td>\n",
       "      <td>1</td>\n",
       "    </tr>\n",
       "    <tr>\n",
       "      <th>4</th>\n",
       "      <td>449575014</td>\n",
       "      <td>2022-01-16 22:20:00</td>\n",
       "      <td>2022-01-16 22:20:00</td>\n",
       "      <td>35.00</td>\n",
       "      <td>39.0</td>\n",
       "      <td>39.0</td>\n",
       "      <td>0.77</td>\n",
       "      <td>30.0</td>\n",
       "      <td>100.00</td>\n",
       "      <td>0.102564</td>\n",
       "      <td>0.102564</td>\n",
       "      <td>davidson</td>\n",
       "      <td>2022</td>\n",
       "      <td>1</td>\n",
       "    </tr>\n",
       "    <tr>\n",
       "      <th>...</th>\n",
       "      <td>...</td>\n",
       "      <td>...</td>\n",
       "      <td>...</td>\n",
       "      <td>...</td>\n",
       "      <td>...</td>\n",
       "      <td>...</td>\n",
       "      <td>...</td>\n",
       "      <td>...</td>\n",
       "      <td>...</td>\n",
       "      <td>...</td>\n",
       "      <td>...</td>\n",
       "      <td>...</td>\n",
       "      <td>...</td>\n",
       "      <td>...</td>\n",
       "    </tr>\n",
       "    <tr>\n",
       "      <th>120652381</th>\n",
       "      <td>396104099</td>\n",
       "      <td>2022-02-06 11:05:00</td>\n",
       "      <td>2022-02-06 11:05:00</td>\n",
       "      <td>37.00</td>\n",
       "      <td>37.0</td>\n",
       "      <td>34.0</td>\n",
       "      <td>34.26</td>\n",
       "      <td>30.0</td>\n",
       "      <td>100.00</td>\n",
       "      <td>0.000000</td>\n",
       "      <td>0.000000</td>\n",
       "      <td>davidson</td>\n",
       "      <td>2022</td>\n",
       "      <td>2</td>\n",
       "    </tr>\n",
       "    <tr>\n",
       "      <th>120652382</th>\n",
       "      <td>396104099</td>\n",
       "      <td>2022-02-06 11:10:00</td>\n",
       "      <td>2022-02-06 11:10:00</td>\n",
       "      <td>35.74</td>\n",
       "      <td>37.0</td>\n",
       "      <td>34.0</td>\n",
       "      <td>35.47</td>\n",
       "      <td>30.0</td>\n",
       "      <td>100.00</td>\n",
       "      <td>0.000000</td>\n",
       "      <td>0.034054</td>\n",
       "      <td>davidson</td>\n",
       "      <td>2022</td>\n",
       "      <td>2</td>\n",
       "    </tr>\n",
       "    <tr>\n",
       "      <th>120652383</th>\n",
       "      <td>396104099</td>\n",
       "      <td>2022-02-06 11:15:00</td>\n",
       "      <td>2022-02-06 11:15:00</td>\n",
       "      <td>34.39</td>\n",
       "      <td>37.0</td>\n",
       "      <td>34.0</td>\n",
       "      <td>36.86</td>\n",
       "      <td>30.0</td>\n",
       "      <td>100.00</td>\n",
       "      <td>0.000000</td>\n",
       "      <td>0.070541</td>\n",
       "      <td>davidson</td>\n",
       "      <td>2022</td>\n",
       "      <td>2</td>\n",
       "    </tr>\n",
       "    <tr>\n",
       "      <th>120652384</th>\n",
       "      <td>396104099</td>\n",
       "      <td>2022-02-06 11:20:00</td>\n",
       "      <td>2022-02-06 11:20:00</td>\n",
       "      <td>35.00</td>\n",
       "      <td>37.0</td>\n",
       "      <td>34.0</td>\n",
       "      <td>36.22</td>\n",
       "      <td>30.0</td>\n",
       "      <td>100.00</td>\n",
       "      <td>0.000000</td>\n",
       "      <td>0.054054</td>\n",
       "      <td>davidson</td>\n",
       "      <td>2022</td>\n",
       "      <td>2</td>\n",
       "    </tr>\n",
       "    <tr>\n",
       "      <th>120652385</th>\n",
       "      <td>396104099</td>\n",
       "      <td>2022-02-06 11:25:00</td>\n",
       "      <td>2022-02-06 11:25:00</td>\n",
       "      <td>35.00</td>\n",
       "      <td>37.0</td>\n",
       "      <td>34.0</td>\n",
       "      <td>36.22</td>\n",
       "      <td>30.0</td>\n",
       "      <td>94.00</td>\n",
       "      <td>0.000000</td>\n",
       "      <td>0.054054</td>\n",
       "      <td>davidson</td>\n",
       "      <td>2022</td>\n",
       "      <td>2</td>\n",
       "    </tr>\n",
       "  </tbody>\n",
       "</table>\n",
       "<p>120652386 rows × 14 columns</p>\n",
       "</div>"
      ],
      "text/plain": [
       "               xd_id  measurement_tstamp measurement_tstamp_str  speed  \\\n",
       "0          449575014 2022-01-16 22:10:00    2022-01-16 22:10:00  35.00   \n",
       "1          160388958 2022-01-24 14:15:00    2022-01-24 14:15:00  29.58   \n",
       "2          449575014 2022-01-16 22:15:00    2022-01-16 22:15:00  35.00   \n",
       "3          160388958 2022-01-24 14:20:00    2022-01-24 14:20:00  29.00   \n",
       "4          449575014 2022-01-16 22:20:00    2022-01-16 22:20:00  35.00   \n",
       "...              ...                 ...                    ...    ...   \n",
       "120652381  396104099 2022-02-06 11:05:00    2022-02-06 11:05:00  37.00   \n",
       "120652382  396104099 2022-02-06 11:10:00    2022-02-06 11:10:00  35.74   \n",
       "120652383  396104099 2022-02-06 11:15:00    2022-02-06 11:15:00  34.39   \n",
       "120652384  396104099 2022-02-06 11:20:00    2022-02-06 11:20:00  35.00   \n",
       "120652385  396104099 2022-02-06 11:25:00    2022-02-06 11:25:00  35.00   \n",
       "\n",
       "           average_speed  reference_speed  travel_time_seconds  \\\n",
       "0                   39.0             39.0                 0.77   \n",
       "1                   17.0             17.0                27.71   \n",
       "2                   39.0             39.0                 0.77   \n",
       "3                   17.0             17.0                28.26   \n",
       "4                   39.0             39.0                 0.77   \n",
       "...                  ...              ...                  ...   \n",
       "120652381           37.0             34.0                34.26   \n",
       "120652382           37.0             34.0                35.47   \n",
       "120652383           37.0             34.0                36.86   \n",
       "120652384           37.0             34.0                36.22   \n",
       "120652385           37.0             34.0                36.22   \n",
       "\n",
       "           confidence_score  cvalue  congestion  extreme_congestion    county  \\\n",
       "0                      30.0  100.00    0.102564            0.102564  davidson   \n",
       "1                      30.0   90.00    0.000000            0.000000  davidson   \n",
       "2                      30.0  100.00    0.102564            0.102564  davidson   \n",
       "3                      30.0   90.00    0.000000            0.000000  davidson   \n",
       "4                      30.0  100.00    0.102564            0.102564  davidson   \n",
       "...                     ...     ...         ...                 ...       ...   \n",
       "120652381              30.0  100.00    0.000000            0.000000  davidson   \n",
       "120652382              30.0  100.00    0.000000            0.034054  davidson   \n",
       "120652383              30.0  100.00    0.000000            0.070541  davidson   \n",
       "120652384              30.0  100.00    0.000000            0.054054  davidson   \n",
       "120652385              30.0   94.00    0.000000            0.054054  davidson   \n",
       "\n",
       "           year month  \n",
       "0          2022     1  \n",
       "1          2022     1  \n",
       "2          2022     1  \n",
       "3          2022     1  \n",
       "4          2022     1  \n",
       "...         ...   ...  \n",
       "120652381  2022     2  \n",
       "120652382  2022     2  \n",
       "120652383  2022     2  \n",
       "120652384  2022     2  \n",
       "120652385  2022     2  \n",
       "\n",
       "[120652386 rows x 14 columns]"
      ]
     },
     "execution_count": 9,
     "metadata": {},
     "output_type": "execute_result"
    }
   ],
   "source": [
    "traffic # measurement_tstamp is in local timezone"
   ]
  },
  {
   "cell_type": "code",
   "execution_count": 10,
   "id": "c0a88604-7d30-4020-9750-cd235d8c732d",
   "metadata": {},
   "outputs": [],
   "source": [
    "#speed is the current speed #average is historical average and #reference is 95 percentile max speed"
   ]
  },
  {
   "cell_type": "code",
   "execution_count": null,
   "id": "dc40e42e-8ef4-4c65-a784-5e8355004cad",
   "metadata": {},
   "outputs": [],
   "source": []
  }
 ],
 "metadata": {
  "kernelspec": {
   "display_name": "Python 3 (ipykernel)",
   "language": "python",
   "name": "python3"
  },
  "language_info": {
   "codemirror_mode": {
    "name": "ipython",
    "version": 3
   },
   "file_extension": ".py",
   "mimetype": "text/x-python",
   "name": "python",
   "nbconvert_exporter": "python",
   "pygments_lexer": "ipython3",
   "version": "3.10.2"
  }
 },
 "nbformat": 4,
 "nbformat_minor": 5
}
