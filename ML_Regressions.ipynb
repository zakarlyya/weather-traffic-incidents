{
 "cells": [
  {
   "cell_type": "code",
   "execution_count": 1,
   "id": "9027257d-a12f-4445-9ab9-e0861a529eef",
   "metadata": {
    "execution": {
     "iopub.execute_input": "2022-05-01T15:38:33.722681Z",
     "iopub.status.busy": "2022-05-01T15:38:33.722458Z",
     "iopub.status.idle": "2022-05-01T15:39:05.619305Z",
     "shell.execute_reply": "2022-05-01T15:39:05.618553Z",
     "shell.execute_reply.started": "2022-05-01T15:38:33.722657Z"
    },
    "tags": []
   },
   "outputs": [
    {
     "data": {
      "application/vnd.jupyter.widget-view+json": {
       "model_id": "8a03583db57d403684e5d5d241792328",
       "version_major": 2,
       "version_minor": 0
      },
      "text/plain": [
       "VBox()"
      ]
     },
     "metadata": {},
     "output_type": "display_data"
    },
    {
     "name": "stdout",
     "output_type": "stream",
     "text": [
      "Starting Spark application\n"
     ]
    },
    {
     "data": {
      "text/html": [
       "<table>\n",
       "<tr><th>ID</th><th>YARN Application ID</th><th>Kind</th><th>State</th><th>Spark UI</th><th>Driver log</th><th>User</th><th>Current session?</th></tr><tr><td>0</td><td>application_1651419156158_0001</td><td>pyspark</td><td>idle</td><td><a target=\"_blank\" href=\"http://ip-172-31-79-136.ec2.internal:20888/proxy/application_1651419156158_0001/\" class=\"emr-proxy-link\" emr-resource=\"j-3JH7D0K4JBTEW\n",
       "\" application-id=\"application_1651419156158_0001\">Link</a></td><td><a target=\"_blank\" href=\"http://ip-172-31-68-231.ec2.internal:8042/node/containerlogs/container_1651419156158_0001_01_000001/livy\" >Link</a></td><td>None</td><td>✔</td></tr></table>"
      ],
      "text/plain": [
       "<IPython.core.display.HTML object>"
      ]
     },
     "metadata": {},
     "output_type": "display_data"
    },
    {
     "data": {
      "application/vnd.jupyter.widget-view+json": {
       "model_id": "",
       "version_major": 2,
       "version_minor": 0
      },
      "text/plain": [
       "FloatProgress(value=0.0, bar_style='info', description='Progress:', layout=Layout(height='25px', width='50%'),…"
      ]
     },
     "metadata": {},
     "output_type": "display_data"
    },
    {
     "name": "stdout",
     "output_type": "stream",
     "text": [
      "SparkSession available as 'spark'.\n"
     ]
    },
    {
     "data": {
      "application/vnd.jupyter.widget-view+json": {
       "model_id": "",
       "version_major": 2,
       "version_minor": 0
      },
      "text/plain": [
       "FloatProgress(value=0.0, bar_style='info', description='Progress:', layout=Layout(height='25px', width='50%'),…"
      ]
     },
     "metadata": {},
     "output_type": "display_data"
    }
   ],
   "source": [
    "import pyspark.sql.functions as F\n",
    "from pyspark.sql.functions import concat, col"
   ]
  },
  {
   "cell_type": "code",
   "execution_count": 583,
   "id": "39b5112a-6d30-4d47-8085-60222322aa35",
   "metadata": {
    "execution": {
     "iopub.execute_input": "2022-05-01T18:49:19.920253Z",
     "iopub.status.busy": "2022-05-01T18:49:19.920004Z",
     "iopub.status.idle": "2022-05-01T18:49:29.241501Z",
     "shell.execute_reply": "2022-05-01T18:49:29.238926Z",
     "shell.execute_reply.started": "2022-05-01T18:49:19.920226Z"
    },
    "tags": []
   },
   "outputs": [
    {
     "data": {
      "application/vnd.jupyter.widget-view+json": {
       "model_id": "2b785748feaf429ab470d4deb939429a",
       "version_major": 2,
       "version_minor": 0
      },
      "text/plain": [
       "VBox()"
      ]
     },
     "metadata": {},
     "output_type": "display_data"
    },
    {
     "data": {
      "application/vnd.jupyter.widget-view+json": {
       "model_id": "",
       "version_major": 2,
       "version_minor": 0
      },
      "text/plain": [
       "FloatProgress(value=0.0, bar_style='info', description='Progress:', layout=Layout(height='25px', width='50%'),…"
      ]
     },
     "metadata": {},
     "output_type": "display_data"
    }
   ],
   "source": [
    "df = spark.read.format(\"csv\").option(\n",
    "    \"header\", \"true\").load(\"s3://vandy-rithik-finalproj/geo_data/geo_downtown.csv\")"
   ]
  },
  {
   "cell_type": "code",
   "execution_count": 584,
   "id": "07b0b239-b301-4c1a-adb5-5d2d3bee9b87",
   "metadata": {
    "execution": {
     "iopub.execute_input": "2022-05-01T18:49:29.243030Z",
     "iopub.status.busy": "2022-05-01T18:49:29.242753Z",
     "iopub.status.idle": "2022-05-01T18:49:29.318348Z",
     "shell.execute_reply": "2022-05-01T18:49:29.317702Z",
     "shell.execute_reply.started": "2022-05-01T18:49:29.242992Z"
    },
    "tags": []
   },
   "outputs": [
    {
     "data": {
      "application/vnd.jupyter.widget-view+json": {
       "model_id": "1e019cda28ce40d98229c3ab0403cb21",
       "version_major": 2,
       "version_minor": 0
      },
      "text/plain": [
       "VBox()"
      ]
     },
     "metadata": {},
     "output_type": "display_data"
    },
    {
     "data": {
      "application/vnd.jupyter.widget-view+json": {
       "model_id": "",
       "version_major": 2,
       "version_minor": 0
      },
      "text/plain": [
       "FloatProgress(value=0.0, bar_style='info', description='Progress:', layout=Layout(height='25px', width='50%'),…"
      ]
     },
     "metadata": {},
     "output_type": "display_data"
    },
    {
     "name": "stdout",
     "output_type": "stream",
     "text": [
      "root\n",
      " |-- id_original: string (nullable = true)\n",
      " |-- latitude: string (nullable = true)\n",
      " |-- longitude: string (nullable = true)\n",
      " |-- emdcardnumber: string (nullable = true)\n",
      " |-- time_utc: string (nullable = true)\n",
      " |-- time_local: string (nullable = true)\n",
      " |-- response_time_sec: string (nullable = true)\n",
      " |-- weekend_or_not: string (nullable = true)\n",
      " |-- geometry: string (nullable = true)\n",
      " |-- incident_id: string (nullable = true)\n",
      " |-- dist_to_seg: string (nullable = true)\n",
      " |-- xdsegid: string (nullable = true)\n",
      " |-- month: string (nullable = true)\n",
      " |-- hour_of_day: string (nullable = true)\n",
      " |-- day: string (nullable = true)\n",
      " |-- window_of_day: string (nullable = true)\n",
      " |-- day_of_week: string (nullable = true)\n",
      " |-- window_id: string (nullable = true)\n",
      " |-- xd_id: string (nullable = true)\n",
      " |-- measurement_tstamp: string (nullable = true)\n",
      " |-- measurement_tstamp_str: string (nullable = true)\n",
      " |-- speed: string (nullable = true)\n",
      " |-- average_speed: string (nullable = true)\n",
      " |-- reference_speed: string (nullable = true)\n",
      " |-- travel_time_seconds: string (nullable = true)\n",
      " |-- confidence_score: string (nullable = true)\n",
      " |-- cvalue: string (nullable = true)\n",
      " |-- congestion: string (nullable = true)\n",
      " |-- extreme_congestion: string (nullable = true)\n",
      " |-- year: string (nullable = true)\n",
      " |-- segid: string (nullable = true)\n",
      " |-- roadname: string (nullable = true)\n",
      " |-- xdgroup: string (nullable = true)\n",
      " |-- win_id: string (nullable = true)\n",
      " |-- precip: string (nullable = true)\n",
      " |-- temp: string (nullable = true)\n",
      " |-- vis: string (nullable = true)\n",
      " |-- wind_spd: string (nullable = true)"
     ]
    }
   ],
   "source": [
    "df.printSchema()"
   ]
  },
  {
   "cell_type": "code",
   "execution_count": 585,
   "id": "df82e756-edee-4c5c-8692-602c054a4d25",
   "metadata": {
    "execution": {
     "iopub.execute_input": "2022-05-01T18:49:29.320839Z",
     "iopub.status.busy": "2022-05-01T18:49:29.320058Z",
     "iopub.status.idle": "2022-05-01T18:49:29.640588Z",
     "shell.execute_reply": "2022-05-01T18:49:29.639939Z",
     "shell.execute_reply.started": "2022-05-01T18:49:29.320797Z"
    },
    "tags": []
   },
   "outputs": [
    {
     "data": {
      "application/vnd.jupyter.widget-view+json": {
       "model_id": "bb7338f1324946f2a25c9e3e0037fe5f",
       "version_major": 2,
       "version_minor": 0
      },
      "text/plain": [
       "VBox()"
      ]
     },
     "metadata": {},
     "output_type": "display_data"
    },
    {
     "data": {
      "application/vnd.jupyter.widget-view+json": {
       "model_id": "",
       "version_major": 2,
       "version_minor": 0
      },
      "text/plain": [
       "FloatProgress(value=0.0, bar_style='info', description='Progress:', layout=Layout(height='25px', width='50%'),…"
      ]
     },
     "metadata": {},
     "output_type": "display_data"
    }
   ],
   "source": [
    "# add columns we want for features\n",
    "df = df.withColumn(\n",
    "    \"speed_difference\",\n",
    "    (F.col('speed').cast('integer') - F.col('reference_speed').cast('integer')))\n",
    "df = df.select(\n",
    "    concat(df.month, df.year).alias(\"month_year\"), \"precip\", \"temp\", \"vis\",\n",
    "    \"wind_spd\", \"id_original\", \"speed_difference\", \"month\", \"year\")"
   ]
  },
  {
   "cell_type": "code",
   "execution_count": 586,
   "id": "8b2ac4a3-14e4-40f1-b703-03af65d51c8e",
   "metadata": {
    "execution": {
     "iopub.execute_input": "2022-05-01T18:49:29.642259Z",
     "iopub.status.busy": "2022-05-01T18:49:29.641842Z",
     "iopub.status.idle": "2022-05-01T18:49:29.925830Z",
     "shell.execute_reply": "2022-05-01T18:49:29.925189Z",
     "shell.execute_reply.started": "2022-05-01T18:49:29.642218Z"
    },
    "tags": []
   },
   "outputs": [
    {
     "data": {
      "application/vnd.jupyter.widget-view+json": {
       "model_id": "a0ffb971cbff42d1a355a9d6fbd433be",
       "version_major": 2,
       "version_minor": 0
      },
      "text/plain": [
       "VBox()"
      ]
     },
     "metadata": {},
     "output_type": "display_data"
    },
    {
     "data": {
      "application/vnd.jupyter.widget-view+json": {
       "model_id": "",
       "version_major": 2,
       "version_minor": 0
      },
      "text/plain": [
       "FloatProgress(value=0.0, bar_style='info', description='Progress:', layout=Layout(height='25px', width='50%'),…"
      ]
     },
     "metadata": {},
     "output_type": "display_data"
    }
   ],
   "source": [
    "# get the columns we want to do regression on \n",
    "df.createOrReplaceTempView(\"all_merged\")\n",
    "df2 = spark.sql(\"SELECT month_year, \\\n",
    "                AVG(speed_difference) AS speed_difference, \\\n",
    "                AVG(precip) AS precipitation, \\\n",
    "                AVG(temp) AS temperature, \\\n",
    "                AVG(vis) AS visibility, \\\n",
    "                AVG(wind_spd) AS wind_speed, \\\n",
    "                AVG(month) AS month, \\\n",
    "                AVG(year) AS year, \\\n",
    "                COUNT(DISTINCT id_original) as num_accidents\\\n",
    "                 FROM all_merged\\\n",
    "                 WHERE month_year != 0\\\n",
    "                 GROUP BY month_year \\\n",
    "                 ORDER BY year, month\")"
   ]
  },
  {
   "cell_type": "code",
   "execution_count": 587,
   "id": "6e1e777f-60c8-41e6-b8fb-8f861a37602e",
   "metadata": {
    "execution": {
     "iopub.execute_input": "2022-05-01T18:49:29.926941Z",
     "iopub.status.busy": "2022-05-01T18:49:29.926754Z",
     "iopub.status.idle": "2022-05-01T18:49:41.344060Z",
     "shell.execute_reply": "2022-05-01T18:49:41.343127Z",
     "shell.execute_reply.started": "2022-05-01T18:49:29.926918Z"
    },
    "tags": []
   },
   "outputs": [
    {
     "data": {
      "application/vnd.jupyter.widget-view+json": {
       "model_id": "cc794391f5ec43bf853ada5e2f5cdf36",
       "version_major": 2,
       "version_minor": 0
      },
      "text/plain": [
       "VBox()"
      ]
     },
     "metadata": {},
     "output_type": "display_data"
    },
    {
     "data": {
      "application/vnd.jupyter.widget-view+json": {
       "model_id": "",
       "version_major": 2,
       "version_minor": 0
      },
      "text/plain": [
       "FloatProgress(value=0.0, bar_style='info', description='Progress:', layout=Layout(height='25px', width='50%'),…"
      ]
     },
     "metadata": {},
     "output_type": "display_data"
    },
    {
     "name": "stdout",
     "output_type": "stream",
     "text": [
      "+----------+-------------------+--------------------+------------------+------------------+------------------+-----+------+-------------+\n",
      "|month_year|   speed_difference|       precipitation|       temperature|        visibility|        wind_speed|month|  year|num_accidents|\n",
      "+----------+-------------------+--------------------+------------------+------------------+------------------+-----+------+-------------+\n",
      "|     52017|-1.7546296296296295| 0.11919191919191909|22.308989898989903| 15.58181818181818| 3.979090909090908|  5.0|2017.0|           33|\n",
      "|     62017|-1.9382716049382716| 0.10555555555555547|25.711111111111105|15.531481481481482|2.8466666666666667|  6.0|2017.0|           18|\n",
      "|     72018|-1.5132850241545894| 0.12536231884057966| 27.50115942028985|14.705797101449274|3.2582608695652175|  7.0|2018.0|           23|\n",
      "|     82018| -2.168010752688172| 0.14193548387096777|27.423978494623654|15.652688172043009|2.6146236559139786|  8.0|2018.0|           31|\n",
      "|     92018|  -1.57010582010582|  0.2119047619047619| 24.95380952380952|14.912698412698415| 2.626031746031745|  9.0|2018.0|           21|\n",
      "|    102018|-2.6305555555555555|  0.1383333333333333|17.012000000000004|14.541111111111112| 2.849666666666667| 10.0|2018.0|           30|\n",
      "|    112018|-1.0821759259259258| 0.30000000000000004| 6.409722222222224|13.347222222222221| 3.629999999999998| 11.0|2018.0|           24|\n",
      "|    122018|-2.3601532567049808| 0.36494252873563215| 8.083448275862072|14.411494252873563| 3.124252873563218| 12.0|2018.0|           29|\n",
      "|     12019| -1.088425925925926| 0.14055555555555552| 4.360222222222223|14.513333333333328| 3.686555555555555|  1.0|2019.0|           30|\n",
      "|     22019|-3.5890522875816995|  0.5299019607843136| 9.223921568627452|13.200000000000001| 3.826960784313724|  2.0|2019.0|           34|\n",
      "|     32019| -5.150793650793651|  0.1866071428571429|11.125952380952379|14.507738095238095| 3.825297619047619|  3.0|2019.0|           56|\n",
      "|     42019|-3.2393617021276597| 0.32411347517730493|17.363829787234042|15.043262411347518| 3.437517730496453|  4.0|2019.0|           47|\n",
      "|     52019| -2.964330808080808| 0.07310606060606062|23.188787878787878| 15.47727272727273| 3.103939393939392|  5.0|2019.0|           44|\n",
      "|     62019|-2.6723856209150325| 0.13627450980392153|25.277745098039222|14.782352941176473|3.0031372549019615|  6.0|2019.0|           34|\n",
      "|     72019|-4.6663105413105415| 0.28376068376068364|27.755811965811972|14.432478632478638| 2.845555555555555|  7.0|2019.0|           39|\n",
      "|     82019|-3.7035818713450293|0.042105263157894736|27.376403508771944|15.742105263157896| 2.642105263157895|  8.0|2019.0|           38|\n",
      "|     92019|-3.0559640522875817| 0.02598039215686273| 27.18323529411764|15.849019607843134|2.5504901960784307|  9.0|2019.0|           34|\n",
      "|    102019|-2.7860623781676415|  0.5654970760233915|17.655321637426905|14.670760233918127|3.1328654970760224| 10.0|2019.0|           57|\n",
      "|    112019| -6.085992907801418| 0.18014184397163122| 9.181347517730497| 15.18581560283688|3.4732624113475157| 11.0|2019.0|           47|\n",
      "|    122019| -4.628387533875339| 0.14186991869918691| 9.589268292682927|14.443902439024392|3.4108943089430896| 12.0|2019.0|           41|\n",
      "|     12020|               -2.5| 0.18760683760683775| 6.470940170940171|14.705128205128204|  3.05179487179487|  1.0|2020.0|           39|\n",
      "|     22020|-3.8528528528528527|  0.4959459459459459| 8.272522522522523|13.346846846846846| 3.485675675675676|  2.0|2020.0|           37|\n",
      "|     32020| -1.772875816993464| 0.30245098039215706|13.866176470588238|15.004901960784311| 3.678725490196078|  3.0|2020.0|           34|\n",
      "|     42020|-0.8935185185185185| 0.29583333333333334|15.598611111111111|15.069444444444445|3.1058333333333317|  4.0|2020.0|           12|\n",
      "|     52020|-0.4255050505050505|  0.1833333333333334|21.186363636363645|15.234848484848484| 3.686515151515149|  5.0|2020.0|           22|\n",
      "|     62020|-0.8742492492492493|  0.1058558558558559|27.068918918918914|15.774774774774775| 3.253333333333331|  6.0|2020.0|           37|\n",
      "|     72020| -5.600813743218806|   0.374653405666064|29.556630500301388|15.300482218203733|3.0179746835443044|  7.0|2020.0|           31|\n",
      "|     82020|-1.1574074074074074| 0.45432098765432094| 25.88456790123457|15.141975308641975|2.6329629629629627|  8.0|2020.0|           27|\n",
      "|     92020|             -0.515| 0.09133333333333338|23.206000000000007|15.733333333333333|             3.022|  9.0|2020.0|           25|\n",
      "|    102020| -3.823632130384168| 0.08940628637951108| 18.68994955374467|15.350407450523864|  3.24370585952658| 10.0|2020.0|           24|\n",
      "|    112020| 0.7558563248308173|0.007496095783446127|12.066996356064548|15.629186187749436|2.4406350858927652| 11.0|2020.0|           27|\n",
      "|    122020|-1.2664652567975831| 0.41184290030211435| 6.714702920443102|13.861430010070492|3.8351319234642487| 12.0|2020.0|           23|\n",
      "|     12021| 1.3090277777777777|  0.2869444444444443| 8.198750000000004|14.931944444444445|3.8908333333333327|  1.0|2021.0|           24|\n",
      "+----------+-------------------+--------------------+------------------+------------------+------------------+-----+------+-------------+"
     ]
    }
   ],
   "source": [
    "df2.show(100)"
   ]
  },
  {
   "cell_type": "code",
   "execution_count": 588,
   "id": "12313df3-f52e-41ff-8045-19ce473ccf4a",
   "metadata": {
    "execution": {
     "iopub.execute_input": "2022-05-01T18:49:41.345317Z",
     "iopub.status.busy": "2022-05-01T18:49:41.345081Z",
     "iopub.status.idle": "2022-05-01T18:49:48.599301Z",
     "shell.execute_reply": "2022-05-01T18:49:48.596657Z",
     "shell.execute_reply.started": "2022-05-01T18:49:41.345282Z"
    },
    "tags": []
   },
   "outputs": [
    {
     "data": {
      "application/vnd.jupyter.widget-view+json": {
       "model_id": "1f61a37a76ff44df957a46830c10f4e1",
       "version_major": 2,
       "version_minor": 0
      },
      "text/plain": [
       "VBox()"
      ]
     },
     "metadata": {},
     "output_type": "display_data"
    },
    {
     "data": {
      "application/vnd.jupyter.widget-view+json": {
       "model_id": "",
       "version_major": 2,
       "version_minor": 0
      },
      "text/plain": [
       "FloatProgress(value=0.0, bar_style='info', description='Progress:', layout=Layout(height='25px', width='50%'),…"
      ]
     },
     "metadata": {},
     "output_type": "display_data"
    },
    {
     "name": "stdout",
     "output_type": "stream",
     "text": [
      "33"
     ]
    }
   ],
   "source": [
    "print(df2.count())"
   ]
  },
  {
   "cell_type": "code",
   "execution_count": 589,
   "id": "6493ba06-6ba7-4c79-bee8-d6cd61c7b866",
   "metadata": {
    "execution": {
     "iopub.execute_input": "2022-05-01T18:49:49.749389Z",
     "iopub.status.busy": "2022-05-01T18:49:49.749103Z",
     "iopub.status.idle": "2022-05-01T18:49:49.916388Z",
     "shell.execute_reply": "2022-05-01T18:49:49.908356Z",
     "shell.execute_reply.started": "2022-05-01T18:49:49.749351Z"
    },
    "tags": []
   },
   "outputs": [
    {
     "data": {
      "application/vnd.jupyter.widget-view+json": {
       "model_id": "356ca8a955c54058bf409afb12ef51f0",
       "version_major": 2,
       "version_minor": 0
      },
      "text/plain": [
       "VBox()"
      ]
     },
     "metadata": {},
     "output_type": "display_data"
    },
    {
     "data": {
      "application/vnd.jupyter.widget-view+json": {
       "model_id": "",
       "version_major": 2,
       "version_minor": 0
      },
      "text/plain": [
       "FloatProgress(value=0.0, bar_style='info', description='Progress:', layout=Layout(height='25px', width='50%'),…"
      ]
     },
     "metadata": {},
     "output_type": "display_data"
    }
   ],
   "source": [
    "feature_columns = df2.columns[1:8]"
   ]
  },
  {
   "cell_type": "code",
   "execution_count": 590,
   "id": "f9082c0a-0188-4f62-b1b1-0819b6425d11",
   "metadata": {
    "execution": {
     "iopub.execute_input": "2022-05-01T18:49:49.956767Z",
     "iopub.status.busy": "2022-05-01T18:49:49.950293Z",
     "iopub.status.idle": "2022-05-01T18:49:50.133962Z",
     "shell.execute_reply": "2022-05-01T18:49:50.133133Z",
     "shell.execute_reply.started": "2022-05-01T18:49:49.956727Z"
    },
    "tags": []
   },
   "outputs": [
    {
     "data": {
      "application/vnd.jupyter.widget-view+json": {
       "model_id": "230b2ca6a83b4ecd8d756b8b2b06a4bb",
       "version_major": 2,
       "version_minor": 0
      },
      "text/plain": [
       "VBox()"
      ]
     },
     "metadata": {},
     "output_type": "display_data"
    },
    {
     "data": {
      "application/vnd.jupyter.widget-view+json": {
       "model_id": "",
       "version_major": 2,
       "version_minor": 0
      },
      "text/plain": [
       "FloatProgress(value=0.0, bar_style='info', description='Progress:', layout=Layout(height='25px', width='50%'),…"
      ]
     },
     "metadata": {},
     "output_type": "display_data"
    }
   ],
   "source": [
    "from pyspark.ml.feature import VectorAssembler\n",
    "assembler = VectorAssembler(inputCols=feature_columns, outputCol=\"features\")"
   ]
  },
  {
   "cell_type": "code",
   "execution_count": 591,
   "id": "c984e23c-f864-4f38-bd7c-286afd07e752",
   "metadata": {
    "execution": {
     "iopub.execute_input": "2022-05-01T18:49:50.142564Z",
     "iopub.status.busy": "2022-05-01T18:49:50.142323Z",
     "iopub.status.idle": "2022-05-01T18:49:50.284513Z",
     "shell.execute_reply": "2022-05-01T18:49:50.283448Z",
     "shell.execute_reply.started": "2022-05-01T18:49:50.142493Z"
    },
    "tags": []
   },
   "outputs": [
    {
     "data": {
      "application/vnd.jupyter.widget-view+json": {
       "model_id": "848940457f7747c19e18b60646d7af08",
       "version_major": 2,
       "version_minor": 0
      },
      "text/plain": [
       "VBox()"
      ]
     },
     "metadata": {},
     "output_type": "display_data"
    },
    {
     "data": {
      "application/vnd.jupyter.widget-view+json": {
       "model_id": "",
       "version_major": 2,
       "version_minor": 0
      },
      "text/plain": [
       "FloatProgress(value=0.0, bar_style='info', description='Progress:', layout=Layout(height='25px', width='50%'),…"
      ]
     },
     "metadata": {},
     "output_type": "display_data"
    }
   ],
   "source": [
    "df_new = assembler.transform(df2)"
   ]
  },
  {
   "cell_type": "code",
   "execution_count": 593,
   "id": "dc876414-a027-4010-a148-da3d6591122e",
   "metadata": {
    "execution": {
     "iopub.execute_input": "2022-05-01T18:49:50.742252Z",
     "iopub.status.busy": "2022-05-01T18:49:50.742004Z",
     "iopub.status.idle": "2022-05-01T18:49:56.091753Z",
     "shell.execute_reply": "2022-05-01T18:49:56.091138Z",
     "shell.execute_reply.started": "2022-05-01T18:49:50.742218Z"
    },
    "tags": []
   },
   "outputs": [
    {
     "data": {
      "application/vnd.jupyter.widget-view+json": {
       "model_id": "601d87acc5524114a5c58bd7559f36ab",
       "version_major": 2,
       "version_minor": 0
      },
      "text/plain": [
       "VBox()"
      ]
     },
     "metadata": {},
     "output_type": "display_data"
    },
    {
     "data": {
      "application/vnd.jupyter.widget-view+json": {
       "model_id": "",
       "version_major": 2,
       "version_minor": 0
      },
      "text/plain": [
       "FloatProgress(value=0.0, bar_style='info', description='Progress:', layout=Layout(height='25px', width='50%'),…"
      ]
     },
     "metadata": {},
     "output_type": "display_data"
    },
    {
     "name": "stdout",
     "output_type": "stream",
     "text": [
      "+----------+-------------------+-------------------+------------------+------------------+------------------+-----+------+-------------+-------------------------------------------------------------------------------------------------------------+\n",
      "|month_year|speed_difference   |precipitation      |temperature       |visibility        |wind_speed        |month|year  |num_accidents|features                                                                                                     |\n",
      "+----------+-------------------+-------------------+------------------+------------------+------------------+-----+------+-------------+-------------------------------------------------------------------------------------------------------------+\n",
      "|52017     |-1.7546296296296295|0.11919191919191909|22.308989898989907|15.581818181818182|3.979090909090908 |5.0  |2017.0|33           |[-1.7546296296296295,0.11919191919191909,22.308989898989907,15.581818181818182,3.979090909090908,5.0,2017.0] |\n",
      "|62017     |-1.9382716049382716|0.10555555555555547|25.71111111111111 |15.531481481481482|2.8466666666666667|6.0  |2017.0|18           |[-1.9382716049382716,0.10555555555555547,25.71111111111111,15.531481481481482,2.8466666666666667,6.0,2017.0] |\n",
      "|72018     |-1.5132850241545894|0.12536231884057966|27.501159420289845|14.705797101449274|3.258260869565217 |7.0  |2018.0|23           |[-1.5132850241545894,0.12536231884057966,27.501159420289845,14.705797101449274,3.258260869565217,7.0,2018.0] |\n",
      "|82018     |-2.168010752688172 |0.1419354838709678 |27.423978494623654|15.652688172043009|2.614623655913978 |8.0  |2018.0|31           |[-2.168010752688172,0.1419354838709678,27.423978494623654,15.652688172043009,2.614623655913978,8.0,2018.0]   |\n",
      "|92018     |-1.57010582010582  |0.2119047619047619 |24.95380952380952 |14.912698412698415|2.6260317460317455|9.0  |2018.0|21           |[-1.57010582010582,0.2119047619047619,24.95380952380952,14.912698412698415,2.6260317460317455,9.0,2018.0]    |\n",
      "|102018    |-2.6305555555555555|0.1383333333333333 |17.012            |14.541111111111109|2.8496666666666663|10.0 |2018.0|30           |[-2.6305555555555555,0.1383333333333333,17.012,14.541111111111109,2.8496666666666663,10.0,2018.0]            |\n",
      "|112018    |-1.0821759259259258|0.30000000000000004|6.409722222222223 |13.347222222222221|3.6299999999999986|11.0 |2018.0|24           |[-1.0821759259259258,0.30000000000000004,6.409722222222223,13.347222222222221,3.6299999999999986,11.0,2018.0]|\n",
      "|122018    |-2.3601532567049808|0.36494252873563215|8.083448275862072 |14.411494252873561|3.124252873563218 |12.0 |2018.0|29           |[-2.3601532567049808,0.36494252873563215,8.083448275862072,14.411494252873561,3.124252873563218,12.0,2018.0] |\n",
      "|12019     |-1.088425925925926 |0.14055555555555552|4.360222222222222 |14.51333333333333 |3.686555555555555 |1.0  |2019.0|30           |[-1.088425925925926,0.14055555555555552,4.360222222222222,14.51333333333333,3.686555555555555,1.0,2019.0]    |\n",
      "|22019     |-3.5890522875816995|0.5299019607843136 |9.223921568627453 |13.200000000000001|3.826960784313725 |2.0  |2019.0|34           |[-3.5890522875816995,0.5299019607843136,9.223921568627453,13.200000000000001,3.826960784313725,2.0,2019.0]   |\n",
      "+----------+-------------------+-------------------+------------------+------------------+------------------+-----+------+-------------+-------------------------------------------------------------------------------------------------------------+\n",
      "only showing top 10 rows"
     ]
    }
   ],
   "source": [
    "df_new.show(10, truncate=False)"
   ]
  },
  {
   "cell_type": "code",
   "execution_count": 594,
   "id": "6a8fa469-ea57-44ac-925b-1e45548f1e90",
   "metadata": {
    "execution": {
     "iopub.execute_input": "2022-05-01T18:49:56.094239Z",
     "iopub.status.busy": "2022-05-01T18:49:56.093379Z",
     "iopub.status.idle": "2022-05-01T18:49:56.160764Z",
     "shell.execute_reply": "2022-05-01T18:49:56.159850Z",
     "shell.execute_reply.started": "2022-05-01T18:49:56.094200Z"
    },
    "tags": []
   },
   "outputs": [
    {
     "data": {
      "application/vnd.jupyter.widget-view+json": {
       "model_id": "435c86d919a84c6d98bddb8ac7f18473",
       "version_major": 2,
       "version_minor": 0
      },
      "text/plain": [
       "VBox()"
      ]
     },
     "metadata": {},
     "output_type": "display_data"
    },
    {
     "data": {
      "application/vnd.jupyter.widget-view+json": {
       "model_id": "",
       "version_major": 2,
       "version_minor": 0
      },
      "text/plain": [
       "FloatProgress(value=0.0, bar_style='info', description='Progress:', layout=Layout(height='25px', width='50%'),…"
      ]
     },
     "metadata": {},
     "output_type": "display_data"
    },
    {
     "name": "stdout",
     "output_type": "stream",
     "text": [
      "['speed_difference', 'precipitation', 'temperature', 'visibility', 'wind_speed', 'month', 'year']"
     ]
    }
   ],
   "source": [
    "feature_columns"
   ]
  },
  {
   "cell_type": "code",
   "execution_count": 595,
   "id": "ba0ae216-ef39-493b-a6d3-8f6a6680df04",
   "metadata": {
    "execution": {
     "iopub.execute_input": "2022-05-01T18:49:56.163007Z",
     "iopub.status.busy": "2022-05-01T18:49:56.162453Z",
     "iopub.status.idle": "2022-05-01T18:49:56.260592Z",
     "shell.execute_reply": "2022-05-01T18:49:56.259302Z",
     "shell.execute_reply.started": "2022-05-01T18:49:56.162964Z"
    },
    "tags": []
   },
   "outputs": [
    {
     "data": {
      "application/vnd.jupyter.widget-view+json": {
       "model_id": "8fd865f55df54faba7c9a870a9c42bf8",
       "version_major": 2,
       "version_minor": 0
      },
      "text/plain": [
       "VBox()"
      ]
     },
     "metadata": {},
     "output_type": "display_data"
    },
    {
     "data": {
      "application/vnd.jupyter.widget-view+json": {
       "model_id": "",
       "version_major": 2,
       "version_minor": 0
      },
      "text/plain": [
       "FloatProgress(value=0.0, bar_style='info', description='Progress:', layout=Layout(height='25px', width='50%'),…"
      ]
     },
     "metadata": {},
     "output_type": "display_data"
    }
   ],
   "source": [
    "from pyspark.ml.regression import LinearRegression"
   ]
  },
  {
   "cell_type": "code",
   "execution_count": 596,
   "id": "03c15a55-4841-4971-b613-b2c0d841cea0",
   "metadata": {
    "execution": {
     "iopub.execute_input": "2022-05-01T18:49:56.262059Z",
     "iopub.status.busy": "2022-05-01T18:49:56.261799Z",
     "iopub.status.idle": "2022-05-01T18:49:59.806779Z",
     "shell.execute_reply": "2022-05-01T18:49:59.801050Z",
     "shell.execute_reply.started": "2022-05-01T18:49:56.262022Z"
    },
    "tags": []
   },
   "outputs": [
    {
     "data": {
      "application/vnd.jupyter.widget-view+json": {
       "model_id": "01cb0b0d2b9d4d37819503b6b6268c3f",
       "version_major": 2,
       "version_minor": 0
      },
      "text/plain": [
       "VBox()"
      ]
     },
     "metadata": {},
     "output_type": "display_data"
    },
    {
     "data": {
      "application/vnd.jupyter.widget-view+json": {
       "model_id": "",
       "version_major": 2,
       "version_minor": 0
      },
      "text/plain": [
       "FloatProgress(value=0.0, bar_style='info', description='Progress:', layout=Layout(height='25px', width='50%'),…"
      ]
     },
     "metadata": {},
     "output_type": "display_data"
    },
    {
     "name": "stdout",
     "output_type": "stream",
     "text": [
      "+----------+-------------------+--------------------+------------------+------------------+------------------+-----+------+-------------+--------------------+\n",
      "|month_year|   speed_difference|       precipitation|       temperature|        visibility|        wind_speed|month|  year|num_accidents|            features|\n",
      "+----------+-------------------+--------------------+------------------+------------------+------------------+-----+------+-------------+--------------------+\n",
      "|     52017|-1.7546296296296295| 0.11919191919191907|22.308989898989903|15.581818181818182|3.9790909090909072|  5.0|2017.0|           33|[-1.7546296296296...|\n",
      "|     62017|-1.9382716049382716| 0.10555555555555547| 25.71111111111111|15.531481481481483|2.8466666666666667|  6.0|2017.0|           18|[-1.9382716049382...|\n",
      "|     72018|-1.5132850241545894| 0.12536231884057966| 27.50115942028985|14.705797101449278| 3.258260869565217|  7.0|2018.0|           23|[-1.5132850241545...|\n",
      "|     82018| -2.168010752688172| 0.14193548387096777|27.423978494623654|15.652688172043012|2.6146236559139786|  8.0|2018.0|           31|[-2.1680107526881...|\n",
      "|     92018|  -1.57010582010582|  0.2119047619047619| 24.95380952380952|14.912698412698415|2.6260317460317455|  9.0|2018.0|           21|[-1.5701058201058...|\n",
      "|    102018|-2.6305555555555555|  0.1383333333333333|            17.012|14.541111111111112|2.8496666666666672| 10.0|2018.0|           30|[-2.6305555555555...|\n",
      "|    112018|-1.0821759259259258| 0.30000000000000004| 6.409722222222225|13.347222222222221| 3.629999999999999| 11.0|2018.0|           24|[-1.0821759259259...|\n",
      "|    122018|-2.3601532567049808| 0.36494252873563215| 8.083448275862072|14.411494252873563|3.1242528735632176| 12.0|2018.0|           29|[-2.3601532567049...|\n",
      "|     12019| -1.088425925925926| 0.14055555555555552| 4.360222222222221|14.513333333333328|3.6865555555555556|  1.0|2019.0|           30|[-1.0884259259259...|\n",
      "|     22019|-3.5890522875816995|  0.5299019607843137| 9.223921568627453|13.200000000000001|3.8269607843137248|  2.0|2019.0|           34|[-3.5890522875816...|\n",
      "|     32019| -5.150793650793651|  0.1866071428571429|11.125952380952382|14.507738095238095| 3.825297619047619|  3.0|2019.0|           56|[-5.1507936507936...|\n",
      "|     42019|-3.2393617021276597| 0.32411347517730504|17.363829787234046|15.043262411347518|3.4375177304964533|  4.0|2019.0|           47|[-3.2393617021276...|\n",
      "|     52019| -2.964330808080808| 0.07310606060606063|23.188787878787878| 15.47727272727273|3.1039393939393918|  5.0|2019.0|           44|[-2.9643308080808...|\n",
      "|     62019|-2.6723856209150325|  0.1362745098039215| 25.27774509803922|14.782352941176473|3.0031372549019615|  6.0|2019.0|           34|[-2.6723856209150...|\n",
      "|     72019|-4.6663105413105415|  0.2837606837606837|27.755811965811972|14.432478632478636| 2.845555555555555|  7.0|2019.0|           39|[-4.6663105413105...|\n",
      "|     82019|-3.7035818713450293|0.042105263157894736|27.376403508771944|15.742105263157896| 2.642105263157896|  8.0|2019.0|           38|[-3.7035818713450...|\n",
      "|     92019|-3.0559640522875817| 0.02598039215686273| 27.18323529411764|15.849019607843134|2.5504901960784316|  9.0|2019.0|           34|[-3.0559640522875...|\n",
      "|    102019|-2.7860623781676415|  0.5654970760233916| 17.65532163742691|14.670760233918125| 3.132865497076022| 10.0|2019.0|           57|[-2.7860623781676...|\n",
      "|    112019| -6.085992907801418|  0.1801418439716312| 9.181347517730497|15.185815602836879|3.4732624113475157| 11.0|2019.0|           47|[-6.0859929078014...|\n",
      "|    122019| -4.628387533875339|  0.1418699186991869| 9.589268292682927|14.443902439024393|3.4108943089430896| 12.0|2019.0|           41|[-4.6283875338753...|\n",
      "|     12020|               -2.5| 0.18760683760683775| 6.470940170940171|14.705128205128204|  3.05179487179487|  1.0|2020.0|           39|[-2.5,0.187606837...|\n",
      "|     22020|-3.8528528528528527| 0.49594594594594577| 8.272522522522523|13.346846846846846|3.4856756756756773|  2.0|2020.0|           37|[-3.8528528528528...|\n",
      "|     32020| -1.772875816993464| 0.30245098039215706|13.866176470588236|15.004901960784315| 3.678725490196077|  3.0|2020.0|           34|[-1.7728758169934...|\n",
      "+----------+-------------------+--------------------+------------------+------------------+------------------+-----+------+-------------+--------------------+"
     ]
    }
   ],
   "source": [
    "#split into train, test\n",
    "from pyspark.sql.functions import asc\n",
    "\n",
    "train = df_new.withColumn(\"index\", monotonically_increasing_id())\n",
    "train = train.orderBy(asc(\"index\")).limit(23).drop(\"index\")\n",
    "train.show(25)"
   ]
  },
  {
   "cell_type": "code",
   "execution_count": 597,
   "id": "6f3bdcd5-9816-4c6a-9b4a-082cc1143097",
   "metadata": {
    "execution": {
     "iopub.execute_input": "2022-05-01T18:49:59.813413Z",
     "iopub.status.busy": "2022-05-01T18:49:59.808878Z",
     "iopub.status.idle": "2022-05-01T18:50:03.322466Z",
     "shell.execute_reply": "2022-05-01T18:50:03.321674Z",
     "shell.execute_reply.started": "2022-05-01T18:49:59.813365Z"
    },
    "tags": []
   },
   "outputs": [
    {
     "data": {
      "application/vnd.jupyter.widget-view+json": {
       "model_id": "13df714ba5464d46bf63d1000204a2d9",
       "version_major": 2,
       "version_minor": 0
      },
      "text/plain": [
       "VBox()"
      ]
     },
     "metadata": {},
     "output_type": "display_data"
    },
    {
     "data": {
      "application/vnd.jupyter.widget-view+json": {
       "model_id": "",
       "version_major": 2,
       "version_minor": 0
      },
      "text/plain": [
       "FloatProgress(value=0.0, bar_style='info', description='Progress:', layout=Layout(height='25px', width='50%'),…"
      ]
     },
     "metadata": {},
     "output_type": "display_data"
    },
    {
     "name": "stdout",
     "output_type": "stream",
     "text": [
      "+----------+-------------------+--------------------+------------------+------------------+------------------+-----+------+-------------+--------------------+\n",
      "|month_year|   speed_difference|       precipitation|       temperature|        visibility|        wind_speed|month|  year|num_accidents|            features|\n",
      "+----------+-------------------+--------------------+------------------+------------------+------------------+-----+------+-------------+--------------------+\n",
      "|     12021| 1.3090277777777777|  0.2869444444444443| 8.198750000000004|14.931944444444445| 3.890833333333333|  1.0|2021.0|           24|[1.30902777777777...|\n",
      "|    122020|-1.2664652567975831| 0.41184290030211446| 6.714702920443102|13.861430010070496|3.8351319234642487| 12.0|2020.0|           23|[-1.2664652567975...|\n",
      "|    112020| 0.7558563248308173|0.007496095783446126|12.066996356064548|15.629186187749434| 2.440635085892765| 11.0|2020.0|           27|[0.75585632483081...|\n",
      "|    102020| -3.823632130384168| 0.08940628637951108| 18.68994955374467|15.350407450523864|  3.24370585952658| 10.0|2020.0|           24|[-3.8236321303841...|\n",
      "|     92020|             -0.515| 0.09133333333333338|23.206000000000007|15.733333333333333|             3.022|  9.0|2020.0|           25|[-0.515,0.0913333...|\n",
      "|     82020|-1.1574074074074074| 0.45432098765432094| 25.88456790123457|15.141975308641975|2.6329629629629623|  8.0|2020.0|           27|[-1.1574074074074...|\n",
      "|     72020| -5.600813743218806|   0.374653405666064| 29.55663050030139|15.300482218203733| 3.017974683544304|  7.0|2020.0|           31|[-5.6008137432188...|\n",
      "|     62020|-0.8742492492492493| 0.10585585585585587| 27.06891891891892|15.774774774774775|3.2533333333333316|  6.0|2020.0|           37|[-0.8742492492492...|\n",
      "|     52020|-0.4255050505050505|  0.1833333333333334|21.186363636363637|15.234848484848488|  3.68651515151515|  5.0|2020.0|           22|[-0.4255050505050...|\n",
      "|     42020|-0.8935185185185185| 0.29583333333333334|15.598611111111113|15.069444444444445|3.1058333333333317|  4.0|2020.0|           12|[-0.8935185185185...|\n",
      "+----------+-------------------+--------------------+------------------+------------------+------------------+-----+------+-------------+--------------------+"
     ]
    }
   ],
   "source": [
    "########## Extract last N rows of the dataframe in pyspark\n",
    "\n",
    "from pyspark.sql.functions import monotonically_increasing_id\n",
    "from pyspark.sql.functions import desc\n",
    "\n",
    "test = df_new.withColumn(\"index\", monotonically_increasing_id())\n",
    "test = test.orderBy(desc(\"index\")).limit(10).drop(\"index\")\n",
    "test.show()"
   ]
  },
  {
   "cell_type": "code",
   "execution_count": 598,
   "id": "899c107d-6ed5-4b93-99dc-fd4871771159",
   "metadata": {
    "execution": {
     "iopub.execute_input": "2022-05-01T18:50:03.329352Z",
     "iopub.status.busy": "2022-05-01T18:50:03.324777Z",
     "iopub.status.idle": "2022-05-01T18:50:03.554632Z",
     "shell.execute_reply": "2022-05-01T18:50:03.553347Z",
     "shell.execute_reply.started": "2022-05-01T18:50:03.329308Z"
    },
    "tags": []
   },
   "outputs": [
    {
     "data": {
      "application/vnd.jupyter.widget-view+json": {
       "model_id": "2b546207e4234d36880aee3869603ae4",
       "version_major": 2,
       "version_minor": 0
      },
      "text/plain": [
       "VBox()"
      ]
     },
     "metadata": {},
     "output_type": "display_data"
    },
    {
     "data": {
      "application/vnd.jupyter.widget-view+json": {
       "model_id": "",
       "version_major": 2,
       "version_minor": 0
      },
      "text/plain": [
       "FloatProgress(value=0.0, bar_style='info', description='Progress:', layout=Layout(height='25px', width='50%'),…"
      ]
     },
     "metadata": {},
     "output_type": "display_data"
    }
   ],
   "source": [
    "algo = LinearRegression(\n",
    "    featuresCol=\"features\",\n",
    "    labelCol=\"num_accidents\")  # label column is the predicted variable"
   ]
  },
  {
   "cell_type": "code",
   "execution_count": 599,
   "id": "dc11c7a7-05ca-45a0-9282-553b6b3c40a9",
   "metadata": {
    "execution": {
     "iopub.execute_input": "2022-05-01T18:50:03.557299Z",
     "iopub.status.busy": "2022-05-01T18:50:03.556641Z",
     "iopub.status.idle": "2022-05-01T18:50:11.218653Z",
     "shell.execute_reply": "2022-05-01T18:50:11.217778Z",
     "shell.execute_reply.started": "2022-05-01T18:50:03.557254Z"
    },
    "tags": []
   },
   "outputs": [
    {
     "data": {
      "application/vnd.jupyter.widget-view+json": {
       "model_id": "27cf88fae1c64629bcba0da4c42cb478",
       "version_major": 2,
       "version_minor": 0
      },
      "text/plain": [
       "VBox()"
      ]
     },
     "metadata": {},
     "output_type": "display_data"
    },
    {
     "data": {
      "application/vnd.jupyter.widget-view+json": {
       "model_id": "",
       "version_major": 2,
       "version_minor": 0
      },
      "text/plain": [
       "FloatProgress(value=0.0, bar_style='info', description='Progress:', layout=Layout(height='25px', width='50%'),…"
      ]
     },
     "metadata": {},
     "output_type": "display_data"
    }
   ],
   "source": [
    "model = algo.fit(train)"
   ]
  },
  {
   "cell_type": "code",
   "execution_count": 613,
   "id": "36bfbf8e-de1e-41f2-8013-19e83621b7cb",
   "metadata": {
    "execution": {
     "iopub.execute_input": "2022-05-01T18:53:56.087889Z",
     "iopub.status.busy": "2022-05-01T18:53:56.087657Z",
     "iopub.status.idle": "2022-05-01T18:53:56.181091Z",
     "shell.execute_reply": "2022-05-01T18:53:56.167004Z",
     "shell.execute_reply.started": "2022-05-01T18:53:56.087865Z"
    },
    "tags": []
   },
   "outputs": [
    {
     "data": {
      "application/vnd.jupyter.widget-view+json": {
       "model_id": "ab1389d967fb423f8f33eba382488aca",
       "version_major": 2,
       "version_minor": 0
      },
      "text/plain": [
       "VBox()"
      ]
     },
     "metadata": {},
     "output_type": "display_data"
    },
    {
     "data": {
      "application/vnd.jupyter.widget-view+json": {
       "model_id": "",
       "version_major": 2,
       "version_minor": 0
      },
      "text/plain": [
       "FloatProgress(value=0.0, bar_style='info', description='Progress:', layout=Layout(height='25px', width='50%'),…"
      ]
     },
     "metadata": {},
     "output_type": "display_data"
    },
    {
     "name": "stdout",
     "output_type": "stream",
     "text": [
      "17.052289173439732 -6.825095964871094"
     ]
    }
   ],
   "source": [
    "evaluation_summary = model.evaluate(test)\n",
    "print(evaluation_summary.rootMeanSquaredError, evaluation_summary.r2)"
   ]
  },
  {
   "cell_type": "code",
   "execution_count": 601,
   "id": "535bedba-1942-4d54-9ede-3c5715a2ecce",
   "metadata": {
    "execution": {
     "iopub.execute_input": "2022-05-01T18:50:13.516311Z",
     "iopub.status.busy": "2022-05-01T18:50:13.516014Z",
     "iopub.status.idle": "2022-05-01T18:50:15.919295Z",
     "shell.execute_reply": "2022-05-01T18:50:15.911440Z",
     "shell.execute_reply.started": "2022-05-01T18:50:13.516284Z"
    },
    "tags": []
   },
   "outputs": [
    {
     "data": {
      "application/vnd.jupyter.widget-view+json": {
       "model_id": "0ea21ceebdbe488799d6e6b0e1bcb93d",
       "version_major": 2,
       "version_minor": 0
      },
      "text/plain": [
       "VBox()"
      ]
     },
     "metadata": {},
     "output_type": "display_data"
    },
    {
     "data": {
      "application/vnd.jupyter.widget-view+json": {
       "model_id": "",
       "version_major": 2,
       "version_minor": 0
      },
      "text/plain": [
       "FloatProgress(value=0.0, bar_style='info', description='Progress:', layout=Layout(height='25px', width='50%'),…"
      ]
     },
     "metadata": {},
     "output_type": "display_data"
    },
    {
     "name": "stdout",
     "output_type": "stream",
     "text": [
      "+----------+-------------------+--------------------+------------------+------------------+------------------+-----+------+-------------+--------------------+------------------+\n",
      "|month_year|   speed_difference|       precipitation|       temperature|        visibility|        wind_speed|month|  year|num_accidents|            features|        prediction|\n",
      "+----------+-------------------+--------------------+------------------+------------------+------------------+-----+------+-------------+--------------------+------------------+\n",
      "|     12021| 1.3090277777777777|  0.2869444444444443| 8.198750000000004|14.931944444444444| 3.890833333333333|  1.0|2021.0|           24|[1.30902777777777...|37.037395290473796|\n",
      "|    122020|-1.2664652567975831| 0.41184290030211435| 6.714702920443102|13.861430010070494| 3.835131923464249| 12.0|2020.0|           23|[-1.2664652567975...|39.783583681874006|\n",
      "|    112020| 0.7558563248308173|0.007496095783446127|12.066996356064548|15.629186187749434| 2.440635085892765| 11.0|2020.0|           27|[0.75585632483081...| 24.22818576929967|\n",
      "|    102020| -3.823632130384168| 0.08940628637951108| 18.68994955374467|15.350407450523864|3.2437058595265795| 10.0|2020.0|           24|[-3.8236321303841...|47.210096640317715|\n",
      "|     92020|             -0.515| 0.09133333333333338|23.206000000000007|15.733333333333333|3.0219999999999994|  9.0|2020.0|           25|[-0.515,0.0913333...| 35.87376890755877|\n",
      "|     82020|-1.1574074074074074| 0.45432098765432094|25.884567901234565|15.141975308641975|2.6329629629629623|  8.0|2020.0|           27|[-1.1574074074074...| 39.95812741994814|\n",
      "|     72020| -5.600813743218806|  0.3746534056660639| 29.55663050030139|15.300482218203737| 3.017974683544305|  7.0|2020.0|           31|[-5.6008137432188...| 58.34834901040449|\n",
      "|     62020|-0.8742492492492493|  0.1058558558558559| 27.06891891891892|15.774774774774775| 3.253333333333331|  6.0|2020.0|           37|[-0.8742492492492...| 38.83266275804817|\n",
      "|     52020|-0.4255050505050505|  0.1833333333333334|21.186363636363645|15.234848484848484|3.6865151515151497|  5.0|2020.0|           22|[-0.4255050505050...|38.085979982955905|\n",
      "|     42020|-0.8935185185185185| 0.29583333333333334|15.598611111111111|15.069444444444445|3.1058333333333317|  4.0|2020.0|           12|[-0.8935185185185...| 36.76994647387983|\n",
      "+----------+-------------------+--------------------+------------------+------------------+------------------+-----+------+-------------+--------------------+------------------+"
     ]
    }
   ],
   "source": [
    "predictions = model.transform(test)\n",
    "predictions.show(15)"
   ]
  },
  {
   "cell_type": "code",
   "execution_count": 602,
   "id": "2aa714d5-386e-4201-af68-75f4b7b91bd5",
   "metadata": {
    "execution": {
     "iopub.execute_input": "2022-05-01T18:50:15.921382Z",
     "iopub.status.busy": "2022-05-01T18:50:15.921037Z",
     "iopub.status.idle": "2022-05-01T18:50:16.220523Z",
     "shell.execute_reply": "2022-05-01T18:50:16.168051Z",
     "shell.execute_reply.started": "2022-05-01T18:50:15.921350Z"
    },
    "tags": []
   },
   "outputs": [
    {
     "data": {
      "application/vnd.jupyter.widget-view+json": {
       "model_id": "06f882ab89af4891bb436c1b79419150",
       "version_major": 2,
       "version_minor": 0
      },
      "text/plain": [
       "VBox()"
      ]
     },
     "metadata": {},
     "output_type": "display_data"
    },
    {
     "data": {
      "application/vnd.jupyter.widget-view+json": {
       "model_id": "",
       "version_major": 2,
       "version_minor": 0
      },
      "text/plain": [
       "FloatProgress(value=0.0, bar_style='info', description='Progress:', layout=Layout(height='25px', width='50%'),…"
      ]
     },
     "metadata": {},
     "output_type": "display_data"
    }
   ],
   "source": [
    "from pyspark.ml.regression import RandomForestRegressor\n",
    "\n",
    "rf = RandomForestRegressor(featuresCol=\"features\", labelCol=\"num_accidents\")"
   ]
  },
  {
   "cell_type": "code",
   "execution_count": 614,
   "id": "377cbe69-68d0-4337-a316-0ea4000da36f",
   "metadata": {
    "execution": {
     "iopub.execute_input": "2022-05-01T18:54:11.573721Z",
     "iopub.status.busy": "2022-05-01T18:54:11.573496Z",
     "iopub.status.idle": "2022-05-01T18:54:37.100588Z",
     "shell.execute_reply": "2022-05-01T18:54:37.075631Z",
     "shell.execute_reply.started": "2022-05-01T18:54:11.573696Z"
    },
    "tags": []
   },
   "outputs": [
    {
     "data": {
      "application/vnd.jupyter.widget-view+json": {
       "model_id": "d8ddd2b3716b4534a2e91d8525a6816f",
       "version_major": 2,
       "version_minor": 0
      },
      "text/plain": [
       "VBox()"
      ]
     },
     "metadata": {},
     "output_type": "display_data"
    },
    {
     "data": {
      "application/vnd.jupyter.widget-view+json": {
       "model_id": "",
       "version_major": 2,
       "version_minor": 0
      },
      "text/plain": [
       "FloatProgress(value=0.0, bar_style='info', description='Progress:', layout=Layout(height='25px', width='50%'),…"
      ]
     },
     "metadata": {},
     "output_type": "display_data"
    }
   ],
   "source": [
    "model = rf.fit(train)"
   ]
  },
  {
   "cell_type": "code",
   "execution_count": 604,
   "id": "7ebe1bd1-da1d-40f4-8118-542d416c5863",
   "metadata": {
    "execution": {
     "iopub.execute_input": "2022-05-01T18:50:23.747003Z",
     "iopub.status.busy": "2022-05-01T18:50:23.746819Z",
     "iopub.status.idle": "2022-05-01T18:50:26.058334Z",
     "shell.execute_reply": "2022-05-01T18:50:26.057465Z",
     "shell.execute_reply.started": "2022-05-01T18:50:23.746980Z"
    },
    "tags": []
   },
   "outputs": [
    {
     "data": {
      "application/vnd.jupyter.widget-view+json": {
       "model_id": "f2651a1481674022b7a0ccfe011c9c0a",
       "version_major": 2,
       "version_minor": 0
      },
      "text/plain": [
       "VBox()"
      ]
     },
     "metadata": {},
     "output_type": "display_data"
    },
    {
     "data": {
      "application/vnd.jupyter.widget-view+json": {
       "model_id": "",
       "version_major": 2,
       "version_minor": 0
      },
      "text/plain": [
       "FloatProgress(value=0.0, bar_style='info', description='Progress:', layout=Layout(height='25px', width='50%'),…"
      ]
     },
     "metadata": {},
     "output_type": "display_data"
    },
    {
     "name": "stdout",
     "output_type": "stream",
     "text": [
      "+----------+-------------------+--------------------+------------------+------------------+------------------+-----+------+-------------+--------------------+------------------+\n",
      "|month_year|   speed_difference|       precipitation|       temperature|        visibility|        wind_speed|month|  year|num_accidents|            features|        prediction|\n",
      "+----------+-------------------+--------------------+------------------+------------------+------------------+-----+------+-------------+--------------------+------------------+\n",
      "|     12021| 1.3090277777777777|  0.2869444444444443| 8.198750000000004|14.931944444444442| 3.890833333333333|  1.0|2021.0|           24|[1.30902777777777...|33.480000000000004|\n",
      "|    122020|-1.2664652567975831|  0.4118429003021144| 6.714702920443103|13.861430010070494| 3.835131923464249| 12.0|2020.0|           23|[-1.2664652567975...|              33.7|\n",
      "|    112020| 0.7558563248308173|0.007496095783446126|12.066996356064548|15.629186187749434| 2.440635085892765| 11.0|2020.0|           27|[0.75585632483081...|              33.0|\n",
      "|    102020| -3.823632130384168| 0.08940628637951108|18.689949553744665|15.350407450523864| 3.243705859526579| 10.0|2020.0|           24|[-3.8236321303841...|            43.825|\n",
      "|     92020|             -0.515| 0.09133333333333338|23.206000000000003|15.733333333333333|3.0219999999999994|  9.0|2020.0|           25|[-0.515,0.0913333...|             32.45|\n",
      "|     82020|-1.1574074074074074| 0.45432098765432083| 25.88456790123457|15.141975308641975|2.6329629629629627|  8.0|2020.0|           27|[-1.1574074074074...|             34.85|\n",
      "|     72020| -5.600813743218806|   0.374653405666064|29.556630500301388|15.300482218203737|3.0179746835443035|  7.0|2020.0|           31|[-5.6008137432188...|              46.1|\n",
      "|     62020|-0.8742492492492493|  0.1058558558558559|27.068918918918925|15.774774774774775| 3.253333333333331|  6.0|2020.0|           37|[-0.8742492492492...|              32.6|\n",
      "|     52020|-0.4255050505050505|  0.1833333333333334|21.186363636363645|15.234848484848488| 3.686515151515149|  5.0|2020.0|           22|[-0.4255050505050...|            36.475|\n",
      "|     42020|-0.8935185185185185| 0.29583333333333334|15.598611111111111|15.069444444444445|3.1058333333333326|  4.0|2020.0|           12|[-0.8935185185185...|              38.6|\n",
      "+----------+-------------------+--------------------+------------------+------------------+------------------+-----+------+-------------+--------------------+------------------+"
     ]
    }
   ],
   "source": [
    "predictions = model.transform(test)\n",
    "predictions.show(15)"
   ]
  },
  {
   "cell_type": "code",
   "execution_count": 605,
   "id": "a134ed00-96fe-4fb8-9283-6e7da8a2bcd4",
   "metadata": {
    "execution": {
     "iopub.execute_input": "2022-05-01T18:50:26.060289Z",
     "iopub.status.busy": "2022-05-01T18:50:26.059745Z",
     "iopub.status.idle": "2022-05-01T18:50:28.499948Z",
     "shell.execute_reply": "2022-05-01T18:50:28.498988Z",
     "shell.execute_reply.started": "2022-05-01T18:50:26.060245Z"
    },
    "tags": []
   },
   "outputs": [
    {
     "data": {
      "application/vnd.jupyter.widget-view+json": {
       "model_id": "2ef864b11fd148f598e4be19a56d6955",
       "version_major": 2,
       "version_minor": 0
      },
      "text/plain": [
       "VBox()"
      ]
     },
     "metadata": {},
     "output_type": "display_data"
    },
    {
     "data": {
      "application/vnd.jupyter.widget-view+json": {
       "model_id": "",
       "version_major": 2,
       "version_minor": 0
      },
      "text/plain": [
       "FloatProgress(value=0.0, bar_style='info', description='Progress:', layout=Layout(height='25px', width='50%'),…"
      ]
     },
     "metadata": {},
     "output_type": "display_data"
    },
    {
     "name": "stdout",
     "output_type": "stream",
     "text": [
      "Root Mean Squared Error (RMSE) on test data = 13.8383"
     ]
    }
   ],
   "source": [
    "from pyspark.ml.evaluation import RegressionEvaluator\n",
    "\n",
    "evaluator = RegressionEvaluator(labelCol=\"num_accidents\",\n",
    "                                predictionCol=\"prediction\",\n",
    "                                metricName=\"rmse\")\n",
    "rmse = evaluator.evaluate(predictions)\n",
    "print(\"Root Mean Squared Error (RMSE) on test data = %g\" % rmse)"
   ]
  },
  {
   "cell_type": "code",
   "execution_count": 606,
   "id": "dad8b982-0f16-401a-91d8-5d5e381dec99",
   "metadata": {
    "execution": {
     "iopub.execute_input": "2022-05-01T18:50:28.502043Z",
     "iopub.status.busy": "2022-05-01T18:50:28.501788Z",
     "iopub.status.idle": "2022-05-01T18:50:28.629535Z",
     "shell.execute_reply": "2022-05-01T18:50:28.628380Z",
     "shell.execute_reply.started": "2022-05-01T18:50:28.502005Z"
    },
    "tags": []
   },
   "outputs": [
    {
     "data": {
      "application/vnd.jupyter.widget-view+json": {
       "model_id": "ad5f04c7db2a4aa3be75daab6d2bb785",
       "version_major": 2,
       "version_minor": 0
      },
      "text/plain": [
       "VBox()"
      ]
     },
     "metadata": {},
     "output_type": "display_data"
    },
    {
     "data": {
      "application/vnd.jupyter.widget-view+json": {
       "model_id": "",
       "version_major": 2,
       "version_minor": 0
      },
      "text/plain": [
       "FloatProgress(value=0.0, bar_style='info', description='Progress:', layout=Layout(height='25px', width='50%'),…"
      ]
     },
     "metadata": {},
     "output_type": "display_data"
    }
   ],
   "source": [
    "from pyspark.ml.regression import GBTRegressor\n",
    "\n",
    "gbt = GBTRegressor(featuresCol=\"features\", labelCol=\"num_accidents\", maxIter=10)"
   ]
  },
  {
   "cell_type": "code",
   "execution_count": 607,
   "id": "b5ab6038-ac5a-4873-8865-1566d8e6debe",
   "metadata": {
    "execution": {
     "iopub.execute_input": "2022-05-01T18:50:28.632867Z",
     "iopub.status.busy": "2022-05-01T18:50:28.632641Z",
     "iopub.status.idle": "2022-05-01T18:50:36.806737Z",
     "shell.execute_reply": "2022-05-01T18:50:36.805893Z",
     "shell.execute_reply.started": "2022-05-01T18:50:28.632823Z"
    },
    "tags": []
   },
   "outputs": [
    {
     "data": {
      "application/vnd.jupyter.widget-view+json": {
       "model_id": "06009d927bc041b89a7160c276236f84",
       "version_major": 2,
       "version_minor": 0
      },
      "text/plain": [
       "VBox()"
      ]
     },
     "metadata": {},
     "output_type": "display_data"
    },
    {
     "data": {
      "application/vnd.jupyter.widget-view+json": {
       "model_id": "",
       "version_major": 2,
       "version_minor": 0
      },
      "text/plain": [
       "FloatProgress(value=0.0, bar_style='info', description='Progress:', layout=Layout(height='25px', width='50%'),…"
      ]
     },
     "metadata": {},
     "output_type": "display_data"
    }
   ],
   "source": [
    "model = gbt.fit(train)"
   ]
  },
  {
   "cell_type": "code",
   "execution_count": 611,
   "id": "b849c252-55d9-4aa7-a7e7-b7759717de83",
   "metadata": {
    "execution": {
     "iopub.execute_input": "2022-05-01T18:51:29.790104Z",
     "iopub.status.busy": "2022-05-01T18:51:29.789858Z",
     "iopub.status.idle": "2022-05-01T18:51:32.083377Z",
     "shell.execute_reply": "2022-05-01T18:51:32.082740Z",
     "shell.execute_reply.started": "2022-05-01T18:51:29.790078Z"
    },
    "tags": []
   },
   "outputs": [
    {
     "data": {
      "application/vnd.jupyter.widget-view+json": {
       "model_id": "1545393057434b98b796d5b053b1b5c9",
       "version_major": 2,
       "version_minor": 0
      },
      "text/plain": [
       "VBox()"
      ]
     },
     "metadata": {},
     "output_type": "display_data"
    },
    {
     "data": {
      "application/vnd.jupyter.widget-view+json": {
       "model_id": "",
       "version_major": 2,
       "version_minor": 0
      },
      "text/plain": [
       "FloatProgress(value=0.0, bar_style='info', description='Progress:', layout=Layout(height='25px', width='50%'),…"
      ]
     },
     "metadata": {},
     "output_type": "display_data"
    },
    {
     "name": "stdout",
     "output_type": "stream",
     "text": [
      "+----------+-------------------+--------------------+------------------+------------------+------------------+-----+------+-------------+--------------------+------------------+\n",
      "|month_year|   speed_difference|       precipitation|       temperature|        visibility|        wind_speed|month|  year|num_accidents|            features|        prediction|\n",
      "+----------+-------------------+--------------------+------------------+------------------+------------------+-----+------+-------------+--------------------+------------------+\n",
      "|     12021| 1.3090277777777777|  0.2869444444444443| 8.198750000000004|14.931944444444445| 3.890833333333333|  1.0|2021.0|           24|[1.30902777777777...|29.721716257109332|\n",
      "|    122020|-1.2664652567975831| 0.41184290030211446| 6.714702920443102|13.861430010070496|3.8351319234642487| 12.0|2020.0|           23|[-1.2664652567975...|30.000264742229334|\n",
      "|    112020| 0.7558563248308173|0.007496095783446127| 12.06699635606455|15.629186187749433| 2.440635085892765| 11.0|2020.0|           27|[0.75585632483081...|27.462618111999998|\n",
      "|    102020| -3.823632130384168| 0.08940628637951108| 18.68994955374467|15.350407450523864|  3.24370585952658| 10.0|2020.0|           24|[-3.8236321303841...| 38.72149530666667|\n",
      "|     92020|             -0.515| 0.09133333333333338|23.206000000000007|15.733333333333333|             3.022|  9.0|2020.0|           25|[-0.515,0.0913333...|29.116457037354667|\n",
      "|     82020|-1.1574074074074074|  0.4543209876543209|25.884567901234572|15.141975308641975|2.6329629629629623|  8.0|2020.0|           27|[-1.1574074074074...|29.016812397354666|\n",
      "|     72020| -5.600813743218806|   0.374653405666064| 29.55663050030139|15.300482218203733|3.0179746835443044|  7.0|2020.0|           31|[-5.6008137432188...| 56.37651343999999|\n",
      "|     62020|-0.8742492492492493| 0.10585585585585587|27.068918918918914|15.774774774774775|3.2533333333333316|  6.0|2020.0|           37|[-0.8742492492492...|30.273095064021334|\n",
      "|     52020|-0.4255050505050505|  0.1833333333333334|21.186363636363637|15.234848484848488|  3.68651515151515|  5.0|2020.0|           22|[-0.4255050505050...|   30.057234123776|\n",
      "|     42020|-0.8935185185185185| 0.29583333333333334|15.598611111111111|15.069444444444445|3.1058333333333317|  4.0|2020.0|           12|[-0.8935185185185...|28.726999010688008|\n",
      "+----------+-------------------+--------------------+------------------+------------------+------------------+-----+------+-------------+--------------------+------------------+"
     ]
    }
   ],
   "source": [
    "predictions = model.transform(test)\n",
    "predictions.show(15)"
   ]
  },
  {
   "cell_type": "code",
   "execution_count": 609,
   "id": "d8b0d7a8-3e4a-4f95-86eb-ca1ffeb869ad",
   "metadata": {
    "execution": {
     "iopub.execute_input": "2022-05-01T18:50:39.138741Z",
     "iopub.status.busy": "2022-05-01T18:50:39.138360Z",
     "iopub.status.idle": "2022-05-01T18:50:40.960177Z",
     "shell.execute_reply": "2022-05-01T18:50:40.951992Z",
     "shell.execute_reply.started": "2022-05-01T18:50:39.138704Z"
    },
    "tags": []
   },
   "outputs": [
    {
     "data": {
      "application/vnd.jupyter.widget-view+json": {
       "model_id": "9650c6874d5f4a2b82c18fdcec4cb9d7",
       "version_major": 2,
       "version_minor": 0
      },
      "text/plain": [
       "VBox()"
      ]
     },
     "metadata": {},
     "output_type": "display_data"
    },
    {
     "data": {
      "application/vnd.jupyter.widget-view+json": {
       "model_id": "",
       "version_major": 2,
       "version_minor": 0
      },
      "text/plain": [
       "FloatProgress(value=0.0, bar_style='info', description='Progress:', layout=Layout(height='25px', width='50%'),…"
      ]
     },
     "metadata": {},
     "output_type": "display_data"
    },
    {
     "name": "stdout",
     "output_type": "stream",
     "text": [
      "Root Mean Squared Error (RMSE) on test data = 11.6345"
     ]
    }
   ],
   "source": [
    "from pyspark.ml.evaluation import RegressionEvaluator\n",
    "\n",
    "evaluator = RegressionEvaluator(labelCol=\"num_accidents\",\n",
    "                                predictionCol=\"prediction\",\n",
    "                                metricName=\"rmse\")\n",
    "rmse = evaluator.evaluate(predictions)\n",
    "print(\"Root Mean Squared Error (RMSE) on test data = %g\" % rmse)"
   ]
  },
  {
   "cell_type": "code",
   "execution_count": 610,
   "id": "fb3704e0-5cad-49c7-84b7-660490d55f77",
   "metadata": {
    "execution": {
     "iopub.execute_input": "2022-05-01T18:50:40.962494Z",
     "iopub.status.busy": "2022-05-01T18:50:40.962290Z",
     "iopub.status.idle": "2022-05-01T18:50:41.041484Z",
     "shell.execute_reply": "2022-05-01T18:50:41.040739Z",
     "shell.execute_reply.started": "2022-05-01T18:50:40.962470Z"
    },
    "tags": []
   },
   "outputs": [
    {
     "data": {
      "application/vnd.jupyter.widget-view+json": {
       "model_id": "4cbfa45f2c2348ffae839135f50c38f8",
       "version_major": 2,
       "version_minor": 0
      },
      "text/plain": [
       "VBox()"
      ]
     },
     "metadata": {},
     "output_type": "display_data"
    },
    {
     "data": {
      "application/vnd.jupyter.widget-view+json": {
       "model_id": "",
       "version_major": 2,
       "version_minor": 0
      },
      "text/plain": [
       "FloatProgress(value=0.0, bar_style='info', description='Progress:', layout=Layout(height='25px', width='50%'),…"
      ]
     },
     "metadata": {},
     "output_type": "display_data"
    }
   ],
   "source": [
    "# do linear regression and then do random forest and boosted trees. then choose 1 to present. shouldn't be too bad. then get to visualization"
   ]
  },
  {
   "cell_type": "code",
   "execution_count": null,
   "id": "b923b7dd-db03-4aae-9609-adb1ebb84a7e",
   "metadata": {},
   "outputs": [],
   "source": []
  }
 ],
 "metadata": {
  "kernelspec": {
   "display_name": "PySpark",
   "language": "python",
   "name": "pysparkkernel"
  },
  "language_info": {
   "codemirror_mode": {
    "name": "python",
    "version": 3
   },
   "file_extension": ".py",
   "mimetype": "text/x-python",
   "name": "pyspark",
   "pygments_lexer": "python3"
  }
 },
 "nbformat": 4,
 "nbformat_minor": 5
}
