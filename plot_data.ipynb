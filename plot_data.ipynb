{
 "cells": [
  {
   "cell_type": "markdown",
   "metadata": {
    "colab_type": "text",
    "id": "view-in-github"
   },
   "source": [
    "<a href=\"https://colab.research.google.com/github/vu-topics-in-big-data-2022/Project-Incident-Team2/blob/master/plot_data.ipynb\" target=\"_parent\"><img src=\"https://colab.research.google.com/assets/colab-badge.svg\" alt=\"Open In Colab\"/></a>"
   ]
  },
  {
   "cell_type": "code",
   "execution_count": 3,
   "metadata": {
    "colab": {
     "base_uri": "https://localhost:8080/"
    },
    "id": "ciH1cTM5zM0Z",
    "outputId": "e74aaf07-0a5d-42e2-c5ec-22ace379a5fa"
   },
   "outputs": [
    {
     "name": "stdout",
     "output_type": "stream",
     "text": [
      "Requirement already satisfied: geopandas in c:\\users\\zakmz\\appdata\\local\\programs\\python\\python310\\lib\\site-packages (0.6.2)\n",
      "Requirement already satisfied: pandas in c:\\users\\zakmz\\appdata\\local\\programs\\python\\python310\\lib\\site-packages (1.4.2)\n",
      "Requirement already satisfied: pyarrow in c:\\users\\zakmz\\appdata\\local\\programs\\python\\python310\\lib\\site-packages (7.0.0)\n",
      "Requirement already satisfied: shapely in c:\\users\\zakmz\\appdata\\local\\programs\\python\\python310\\lib\\site-packages (from geopandas) (1.8.1.post1)\n",
      "Requirement already satisfied: fiona in c:\\users\\zakmz\\appdata\\local\\programs\\python\\python310\\lib\\site-packages (from geopandas) (1.8.21)\n",
      "Requirement already satisfied: pyproj in c:\\users\\zakmz\\appdata\\local\\programs\\python\\python310\\lib\\site-packages (from geopandas) (3.3.1)\n",
      "Requirement already satisfied: numpy>=1.21.0 in c:\\users\\zakmz\\appdata\\local\\programs\\python\\python310\\lib\\site-packages (from pandas) (1.22.3+mkl)\n",
      "Requirement already satisfied: python-dateutil>=2.8.1 in c:\\users\\zakmz\\appdata\\local\\programs\\python\\python310\\lib\\site-packages (from pandas) (2.8.2)\n",
      "Requirement already satisfied: pytz>=2020.1 in c:\\users\\zakmz\\appdata\\local\\programs\\python\\python310\\lib\\site-packages (from pandas) (2022.1)\n",
      "Requirement already satisfied: six>=1.5 in c:\\users\\zakmz\\appdata\\local\\programs\\python\\python310\\lib\\site-packages (from python-dateutil>=2.8.1->pandas) (1.16.0)\n",
      "Requirement already satisfied: click>=4.0 in c:\\users\\zakmz\\appdata\\local\\programs\\python\\python310\\lib\\site-packages (from fiona->geopandas) (8.1.2)\n",
      "Requirement already satisfied: click-plugins>=1.0 in c:\\users\\zakmz\\appdata\\local\\programs\\python\\python310\\lib\\site-packages (from fiona->geopandas) (1.1.1)\n",
      "Requirement already satisfied: gdal~=3.4.1 in c:\\users\\zakmz\\appdata\\local\\programs\\python\\python310\\lib\\site-packages (from fiona->geopandas) (3.4.2)\n",
      "Requirement already satisfied: attrs>=17 in c:\\users\\zakmz\\appdata\\local\\programs\\python\\python310\\lib\\site-packages (from fiona->geopandas) (21.4.0)\n",
      "Requirement already satisfied: setuptools in c:\\users\\zakmz\\appdata\\local\\programs\\python\\python310\\lib\\site-packages (from fiona->geopandas) (58.1.0)\n",
      "Requirement already satisfied: munch in c:\\users\\zakmz\\appdata\\local\\programs\\python\\python310\\lib\\site-packages (from fiona->geopandas) (2.5.0)\n",
      "Requirement already satisfied: cligj>=0.5 in c:\\users\\zakmz\\appdata\\local\\programs\\python\\python310\\lib\\site-packages (from fiona->geopandas) (0.7.2)\n",
      "Requirement already satisfied: certifi in c:\\users\\zakmz\\appdata\\local\\programs\\python\\python310\\lib\\site-packages (from fiona->geopandas) (2021.10.8)\n",
      "Requirement already satisfied: colorama in c:\\users\\zakmz\\appdata\\local\\programs\\python\\python310\\lib\\site-packages (from click>=4.0->fiona->geopandas) (0.4.4)\n"
     ]
    }
   ],
   "source": [
    "!pip install geopandas pandas pyarrow matplotlib plotly\n",
    "import geopandas as gpd"
   ]
  },
  {
   "cell_type": "code",
   "execution_count": 5,
   "metadata": {
    "id": "hzLKI_06qQ9q"
   },
   "outputs": [
    {
     "name": "stderr",
     "output_type": "stream",
     "text": [
      "C:\\Users\\zakmz\\AppData\\Local\\Programs\\Python\\Python310\\lib\\site-packages\\geopandas\\geodataframe.py:35: ShapelyDeprecationWarning: The array interface is deprecated and will no longer work in Shapely 2.0. Convert the '.coords' to a numpy array instead.\n",
      "  out = from_shapely(data)\n"
     ]
    },
    {
     "data": {
      "text/html": [
       "<div>\n",
       "<style scoped>\n",
       "    .dataframe tbody tr th:only-of-type {\n",
       "        vertical-align: middle;\n",
       "    }\n",
       "\n",
       "    .dataframe tbody tr th {\n",
       "        vertical-align: top;\n",
       "    }\n",
       "\n",
       "    .dataframe thead th {\n",
       "        text-align: right;\n",
       "    }\n",
       "</style>\n",
       "<table border=\"1\" class=\"dataframe\">\n",
       "  <thead>\n",
       "    <tr style=\"text-align: right;\">\n",
       "      <th></th>\n",
       "      <th>OID</th>\n",
       "      <th>XDSegID</th>\n",
       "      <th>PreviousXD</th>\n",
       "      <th>NextXDSegI</th>\n",
       "      <th>FRC</th>\n",
       "      <th>ToExport</th>\n",
       "      <th>Miles</th>\n",
       "      <th>Lanes</th>\n",
       "      <th>RoadNumber</th>\n",
       "      <th>RoadName</th>\n",
       "      <th>...</th>\n",
       "      <th>PrimaryTmc</th>\n",
       "      <th>RoadList</th>\n",
       "      <th>StartLat</th>\n",
       "      <th>StartLong</th>\n",
       "      <th>EndLat</th>\n",
       "      <th>EndLong</th>\n",
       "      <th>Bearing</th>\n",
       "      <th>XDGroup</th>\n",
       "      <th>ShapeSRID</th>\n",
       "      <th>geometry</th>\n",
       "    </tr>\n",
       "  </thead>\n",
       "  <tbody>\n",
       "    <tr>\n",
       "      <th>0</th>\n",
       "      <td>7229828</td>\n",
       "      <td>136894283</td>\n",
       "      <td>441153578.0</td>\n",
       "      <td>441154707.0</td>\n",
       "      <td>4</td>\n",
       "      <td>None</td>\n",
       "      <td>0.475558</td>\n",
       "      <td>1.0225</td>\n",
       "      <td></td>\n",
       "      <td>KNOB CREEK RD</td>\n",
       "      <td>...</td>\n",
       "      <td></td>\n",
       "      <td>KNOB CREEK RD</td>\n",
       "      <td>36.35334</td>\n",
       "      <td>-82.42849</td>\n",
       "      <td>36.34747</td>\n",
       "      <td>-82.42857</td>\n",
       "      <td>E</td>\n",
       "      <td>765512</td>\n",
       "      <td>4326</td>\n",
       "      <td>LINESTRING (-82.42849 36.35334, -82.42794 36.3...</td>\n",
       "    </tr>\n",
       "    <tr>\n",
       "      <th>1</th>\n",
       "      <td>7229829</td>\n",
       "      <td>136894316</td>\n",
       "      <td>NaN</td>\n",
       "      <td>NaN</td>\n",
       "      <td>5</td>\n",
       "      <td>None</td>\n",
       "      <td>0.047735</td>\n",
       "      <td>1.1470</td>\n",
       "      <td></td>\n",
       "      <td>16TH ST SW</td>\n",
       "      <td>...</td>\n",
       "      <td></td>\n",
       "      <td>16TH ST SW|16TH ST</td>\n",
       "      <td>35.95902</td>\n",
       "      <td>-83.93125</td>\n",
       "      <td>35.95965</td>\n",
       "      <td>-83.93160</td>\n",
       "      <td>N</td>\n",
       "      <td>765513</td>\n",
       "      <td>4326</td>\n",
       "      <td>LINESTRING (-83.93128 35.95901, -83.93158 35.9...</td>\n",
       "    </tr>\n",
       "  </tbody>\n",
       "</table>\n",
       "<p>2 rows × 28 columns</p>\n",
       "</div>"
      ],
      "text/plain": [
       "       OID    XDSegID   PreviousXD   NextXDSegI FRC ToExport     Miles  \\\n",
       "0  7229828  136894283  441153578.0  441154707.0   4     None  0.475558   \n",
       "1  7229829  136894316          NaN          NaN   5     None  0.047735   \n",
       "\n",
       "    Lanes RoadNumber       RoadName  ... PrimaryTmc            RoadList  \\\n",
       "0  1.0225             KNOB CREEK RD  ...                  KNOB CREEK RD   \n",
       "1  1.1470                16TH ST SW  ...             16TH ST SW|16TH ST   \n",
       "\n",
       "   StartLat StartLong    EndLat   EndLong Bearing XDGroup ShapeSRID  \\\n",
       "0  36.35334 -82.42849  36.34747 -82.42857       E  765512      4326   \n",
       "1  35.95902 -83.93125  35.95965 -83.93160       N  765513      4326   \n",
       "\n",
       "                                            geometry  \n",
       "0  LINESTRING (-82.42849 36.35334, -82.42794 36.3...  \n",
       "1  LINESTRING (-83.93128 35.95901, -83.93158 35.9...  \n",
       "\n",
       "[2 rows x 28 columns]"
      ]
     },
     "execution_count": 5,
     "metadata": {},
     "output_type": "execute_result"
    }
   ],
   "source": [
    "roads=gpd.read_file('USA_Tennessee.geojson')\n",
    "roads.head(2)"
   ]
  },
  {
   "cell_type": "code",
   "execution_count": 6,
   "metadata": {},
   "outputs": [
    {
     "data": {
      "text/plain": [
       "Index(['OID', 'XDSegID', 'PreviousXD', 'NextXDSegI', 'FRC', 'ToExport',\n",
       "       'Miles', 'Lanes', 'RoadNumber', 'RoadName', 'Country', 'State',\n",
       "       'County', 'PostalCode', 'SlipRoad', 'SpecialRoa', 'IsConnecto',\n",
       "       'AllTmcList', 'PrimaryTmc', 'RoadList', 'StartLat', 'StartLong',\n",
       "       'EndLat', 'EndLong', 'Bearing', 'XDGroup', 'ShapeSRID', 'geometry'],\n",
       "      dtype='object')"
      ]
     },
     "execution_count": 6,
     "metadata": {},
     "output_type": "execute_result"
    }
   ],
   "source": [
    "roads.columns"
   ]
  },
  {
   "cell_type": "code",
   "execution_count": 8,
   "metadata": {},
   "outputs": [],
   "source": [
    "roads=roads[roads.County=='DAVIDSON']"
   ]
  },
  {
   "cell_type": "code",
   "execution_count": 10,
   "metadata": {},
   "outputs": [
    {
     "name": "stderr",
     "output_type": "stream",
     "text": [
      "C:\\Users\\zakmz\\AppData\\Local\\Programs\\Python\\Python310\\lib\\site-packages\\geopandas\\plotting.py:187: ShapelyDeprecationWarning: The array interface is deprecated and will no longer work in Shapely 2.0. Convert the '.coords' to a numpy array instead.\n",
      "  segments = [np.array(linestring)[:, :2] for linestring in geoms]\n"
     ]
    },
    {
     "data": {
      "text/plain": [
       "<AxesSubplot:>"
      ]
     },
     "execution_count": 10,
     "metadata": {},
     "output_type": "execute_result"
    },
    {
     "data": {
      "image/png": "[encoded data removed]",
      "text/plain": [
       "<Figure size 432x288 with 1 Axes>"
      ]
     },
     "metadata": {
      "needs_background": "light"
     },
     "output_type": "display_data"
    }
   ],
   "source": [
    "roads.plot()"
   ]
  },
  {
   "cell_type": "code",
   "execution_count": 11,
   "metadata": {},
   "outputs": [
    {
     "data": {
      "text/plain": [
       "9033     LINESTRING (-86.75077 36.17116, -86.75076 36.1...\n",
       "9045     LINESTRING (-86.77000 36.11989, -86.77046 36.1...\n",
       "9051     LINESTRING (-86.77935 36.03619, -86.77935 36.0...\n",
       "9055     LINESTRING (-86.75020 36.15446, -86.75019 36.1...\n",
       "9056     LINESTRING (-86.71250 36.32843, -86.71272 36.3...\n",
       "                               ...                        \n",
       "94650    LINESTRING (-86.76221 36.16760, -86.76275 36.1...\n",
       "94789    LINESTRING (-86.77707 36.12617, -86.77705 36.1...\n",
       "94794    LINESTRING (-86.84079 36.15400, -86.84201 36.1...\n",
       "94893    LINESTRING (-86.74435 36.14281, -86.74437 36.1...\n",
       "95025    LINESTRING (-86.70474 36.12184, -86.70476 36.1...\n",
       "Name: geometry, Length: 8641, dtype: geometry"
      ]
     },
     "execution_count": 11,
     "metadata": {},
     "output_type": "execute_result"
    }
   ],
   "source": [
    "roads.geometry"
   ]
  },
  {
   "cell_type": "code",
   "execution_count": 12,
   "metadata": {},
   "outputs": [],
   "source": [
    "import pandas as pd\n",
    "incidents=pd.read_parquet('nfd_incidents_xd_seg.parquet')"
   ]
  },
  {
   "cell_type": "code",
   "execution_count": 13,
   "metadata": {},
   "outputs": [
    {
     "name": "stderr",
     "output_type": "stream",
     "text": [
      "C:\\Users\\zakmz\\AppData\\Local\\Programs\\Python\\Python310\\lib\\site-packages\\geopandas\\geodataframe.py:32: ShapelyDeprecationWarning: The array interface is deprecated and will no longer work in Shapely 2.0. Convert the '.coords' to a numpy array instead.\n",
      "  out = from_shapely(np.asarray(data))\n"
     ]
    },
    {
     "data": {
      "text/html": [
       "<div>\n",
       "<style scoped>\n",
       "    .dataframe tbody tr th:only-of-type {\n",
       "        vertical-align: middle;\n",
       "    }\n",
       "\n",
       "    .dataframe tbody tr th {\n",
       "        vertical-align: top;\n",
       "    }\n",
       "\n",
       "    .dataframe thead th {\n",
       "        text-align: right;\n",
       "    }\n",
       "</style>\n",
       "<table border=\"1\" class=\"dataframe\">\n",
       "  <thead>\n",
       "    <tr style=\"text-align: right;\">\n",
       "      <th></th>\n",
       "      <th>ID_Original</th>\n",
       "      <th>latitude</th>\n",
       "      <th>longitude</th>\n",
       "      <th>emdCardNumber</th>\n",
       "      <th>time_utc</th>\n",
       "      <th>time_local</th>\n",
       "      <th>response_time_sec</th>\n",
       "      <th>day_of_week</th>\n",
       "      <th>weekend_or_not</th>\n",
       "      <th>geometry</th>\n",
       "      <th>Incident_ID</th>\n",
       "      <th>Dist_to_Seg</th>\n",
       "      <th>XDSegID</th>\n",
       "    </tr>\n",
       "  </thead>\n",
       "  <tbody>\n",
       "    <tr>\n",
       "      <th>0</th>\n",
       "      <td>ObjectId(59d3a81908f47311c891f8e2)</td>\n",
       "      <td>36.037228</td>\n",
       "      <td>-86.783243</td>\n",
       "      <td>29B5</td>\n",
       "      <td>2017-01-01 07:59:29.507</td>\n",
       "      <td>2017-01-01 01:59:29.507</td>\n",
       "      <td>268.0</td>\n",
       "      <td>6</td>\n",
       "      <td>1</td>\n",
       "      <td>POINT (-86.78324 36.03723)</td>\n",
       "      <td>10</td>\n",
       "      <td>13.550370</td>\n",
       "      <td>1.524394e+09</td>\n",
       "    </tr>\n",
       "    <tr>\n",
       "      <th>1</th>\n",
       "      <td>ObjectId(59d3a81908f47311c891f8e6)</td>\n",
       "      <td>36.037414</td>\n",
       "      <td>-86.786572</td>\n",
       "      <td>29D2P</td>\n",
       "      <td>2017-01-01 08:30:55.000</td>\n",
       "      <td>2017-01-01 02:30:55.000</td>\n",
       "      <td>512.0</td>\n",
       "      <td>6</td>\n",
       "      <td>1</td>\n",
       "      <td>POINT (-86.78657 36.03741)</td>\n",
       "      <td>11</td>\n",
       "      <td>3.663952</td>\n",
       "      <td>1.524356e+09</td>\n",
       "    </tr>\n",
       "  </tbody>\n",
       "</table>\n",
       "</div>"
      ],
      "text/plain": [
       "                          ID_Original   latitude  longitude emdCardNumber  \\\n",
       "0  ObjectId(59d3a81908f47311c891f8e2)  36.037228 -86.783243          29B5   \n",
       "1  ObjectId(59d3a81908f47311c891f8e6)  36.037414 -86.786572         29D2P   \n",
       "\n",
       "                 time_utc              time_local  response_time_sec  \\\n",
       "0 2017-01-01 07:59:29.507 2017-01-01 01:59:29.507              268.0   \n",
       "1 2017-01-01 08:30:55.000 2017-01-01 02:30:55.000              512.0   \n",
       "\n",
       "   day_of_week  weekend_or_not                    geometry  Incident_ID  \\\n",
       "0            6               1  POINT (-86.78324 36.03723)           10   \n",
       "1            6               1  POINT (-86.78657 36.03741)           11   \n",
       "\n",
       "   Dist_to_Seg       XDSegID  \n",
       "0    13.550370  1.524394e+09  \n",
       "1     3.663952  1.524356e+09  "
      ]
     },
     "execution_count": 13,
     "metadata": {},
     "output_type": "execute_result"
    }
   ],
   "source": [
    "import shapely\n",
    "incidents['geometry']=incidents.geometry.apply(shapely.wkt.loads)\n",
    "incidents = gpd.GeoDataFrame(incidents,geometry=incidents.geometry)\n",
    "incidents.head(2)"
   ]
  },
  {
   "cell_type": "code",
   "execution_count": 14,
   "metadata": {},
   "outputs": [
    {
     "data": {
      "text/plain": [
       "<AxesSubplot:>"
      ]
     },
     "execution_count": 14,
     "metadata": {},
     "output_type": "execute_result"
    },
    {
     "data": {
      "image/png": "[encoded data removed]",
      "text/plain": [
       "<Figure size 432x288 with 1 Axes>"
      ]
     },
     "metadata": {
      "needs_background": "light"
     },
     "output_type": "display_data"
    }
   ],
   "source": [
    "incidents.plot()"
   ]
  },
  {
   "cell_type": "code",
   "execution_count": 15,
   "metadata": {},
   "outputs": [
    {
     "data": {
      "text/html": [
       "<div>\n",
       "<style scoped>\n",
       "    .dataframe tbody tr th:only-of-type {\n",
       "        vertical-align: middle;\n",
       "    }\n",
       "\n",
       "    .dataframe tbody tr th {\n",
       "        vertical-align: top;\n",
       "    }\n",
       "\n",
       "    .dataframe thead th {\n",
       "        text-align: right;\n",
       "    }\n",
       "</style>\n",
       "<table border=\"1\" class=\"dataframe\">\n",
       "  <thead>\n",
       "    <tr style=\"text-align: right;\">\n",
       "      <th></th>\n",
       "      <th>station_id</th>\n",
       "      <th>gps_coordinate_latitude</th>\n",
       "      <th>gps_coordinate_longitude</th>\n",
       "    </tr>\n",
       "  </thead>\n",
       "  <tbody>\n",
       "    <tr>\n",
       "      <th>0</th>\n",
       "      <td>720259-63844</td>\n",
       "      <td>35.223</td>\n",
       "      <td>-83.419</td>\n",
       "    </tr>\n",
       "    <tr>\n",
       "      <th>1</th>\n",
       "      <td>723235-13896</td>\n",
       "      <td>34.744</td>\n",
       "      <td>-87.600</td>\n",
       "    </tr>\n",
       "    <tr>\n",
       "      <th>2</th>\n",
       "      <td>720259-99999</td>\n",
       "      <td>35.223</td>\n",
       "      <td>-83.419</td>\n",
       "    </tr>\n",
       "    <tr>\n",
       "      <th>3</th>\n",
       "      <td>723240-13882</td>\n",
       "      <td>35.031</td>\n",
       "      <td>-85.201</td>\n",
       "    </tr>\n",
       "    <tr>\n",
       "      <th>4</th>\n",
       "      <td>720264-63827</td>\n",
       "      <td>37.064</td>\n",
       "      <td>-81.798</td>\n",
       "    </tr>\n",
       "    <tr>\n",
       "      <th>...</th>\n",
       "      <td>...</td>\n",
       "      <td>...</td>\n",
       "      <td>...</td>\n",
       "    </tr>\n",
       "    <tr>\n",
       "      <th>256</th>\n",
       "      <td>723230-03856</td>\n",
       "      <td>34.644</td>\n",
       "      <td>-86.786</td>\n",
       "    </tr>\n",
       "    <tr>\n",
       "      <th>257</th>\n",
       "      <td>KUCY</td>\n",
       "      <td>36.380</td>\n",
       "      <td>-88.985</td>\n",
       "    </tr>\n",
       "    <tr>\n",
       "      <th>258</th>\n",
       "      <td>723231-63883</td>\n",
       "      <td>34.679</td>\n",
       "      <td>-86.685</td>\n",
       "    </tr>\n",
       "    <tr>\n",
       "      <th>259</th>\n",
       "      <td>KUTA</td>\n",
       "      <td>34.680</td>\n",
       "      <td>-90.350</td>\n",
       "    </tr>\n",
       "    <tr>\n",
       "      <th>260</th>\n",
       "      <td>723231-99999</td>\n",
       "      <td>34.683</td>\n",
       "      <td>-86.683</td>\n",
       "    </tr>\n",
       "  </tbody>\n",
       "</table>\n",
       "<p>194 rows × 3 columns</p>\n",
       "</div>"
      ],
      "text/plain": [
       "       station_id  gps_coordinate_latitude  gps_coordinate_longitude\n",
       "0    720259-63844                   35.223                   -83.419\n",
       "1    723235-13896                   34.744                   -87.600\n",
       "2    720259-99999                   35.223                   -83.419\n",
       "3    723240-13882                   35.031                   -85.201\n",
       "4    720264-63827                   37.064                   -81.798\n",
       "..            ...                      ...                       ...\n",
       "256  723230-03856                   34.644                   -86.786\n",
       "257          KUCY                   36.380                   -88.985\n",
       "258  723231-63883                   34.679                   -86.685\n",
       "259          KUTA                   34.680                   -90.350\n",
       "260  723231-99999                   34.683                   -86.683\n",
       "\n",
       "[194 rows x 3 columns]"
      ]
     },
     "execution_count": 15,
     "metadata": {},
     "output_type": "execute_result"
    }
   ],
   "source": [
    "weather=pd.read_parquet('weather_tn.parquet')\n",
    "distinctstations=weather[['station_id','gps_coordinate_latitude', 'gps_coordinate_longitude']].drop_duplicates().dropna()\n",
    "distinctstations"
   ]
  },
  {
   "cell_type": "code",
   "execution_count": 22,
   "metadata": {},
   "outputs": [
    {
     "data": {
      "application/vnd.plotly.v1+json": {
       "config": {
        "plotlyServerURL": "https://plot.ly"
       },
       "data": [
        {
         "hovertemplate": "<b>%{hovertext}</b><br><br>gps_coordinate_latitude=%{lat}<br>gps_coordinate_longitude=%{lon}<extra></extra>",
         "hovertext": [
          "720259-63844",
          "723235-13896",
          "720259-99999",
          "723240-13882",
          "720264-63827",
          "723244-99999",
          "720264-99999",
          "723245-99999",
          "720353-63875",
          "723246-53868",
          "720353-99999",
          "723246-99999",
          "720379-63882",
          "723249-00463",
          "720409-99999",
          "723249-99999",
          "720465-99999",
          "723250-03847",
          "720623-99999",
          "723260-13891",
          "720768-00274",
          "723263-99999",
          "720768-99999",
          "723264-99999",
          "720907-99999",
          "723265-03847",
          "720958-99999",
          "723265-99999",
          "722154-53885",
          "723270-13897",
          "722154-99999",
          "723271-99999",
          "722177-63811",
          "723273-13827",
          "722177-99999",
          "723273-99999",
          "722198-63819",
          "723274-00372",
          "722198-99999",
          "723274-99999",
          "723048-99999",
          "723275-99999",
          "723146-53892",
          "723280-03894",
          "723146-99999",
          "723284-93839",
          "723155-99999",
          "723284-99999",
          "723181-13877",
          "723340-13893",
          "723183-13877",
          "723345-93839",
          "723183-99999",
          "723346-03811",
          "723347-03809",
          "723347-99999",
          "723350-13877",
          "723408-13814",
          "723408-99999",
          "723409-53869",
          "723409-99999",
          "724056-63805",
          "724056-99999",
          "724058-53818",
          "724058-99999",
          "724117-63802",
          "724117-99999",
          "724270-53868",
          "724270-99999",
          "724354-99999",
          "999999-03814",
          "726381-99999",
          "999999-03841",
          "746710-13806",
          "999999-13877",
          "746710-99999",
          "999999-13882",
          "746716-93808",
          "999999-13891",
          "746720-99999",
          "999999-53877",
          "749000-99999",
          "A00003-63844",
          "749080-99999",
          "A06773-00334",
          "749083-99999",
          "A06800-00120",
          "749086-99999",
          "K0VG",
          "999999-03809",
          "K1A6",
          "999999-03811",
          "KCHA",
          "KDNN",
          "999999-03817",
          "KDZJ",
          "KEKQ",
          "999999-03847",
          "KGEV",
          "999999-03856",
          "KI35",
          "999999-13806",
          "KJFZ",
          "999999-13855",
          "KLNP",
          "KMKJ",
          "KOQT",
          "KTNB",
          "999999-13893",
          "KTRI",
          "999999-13896",
          "KTYS",
          "999999-13897",
          "691164-99999",
          "999999-23803",
          "720168-99999",
          "720171-99999",
          "999999-63820",
          "999999-63855",
          "999999-63862",
          "999999-63868",
          "999999-63894",
          "720307-63804",
          "999999-63896",
          "720307-99999",
          "999999-93803",
          "720331-99999",
          "999999-93808",
          "999999-93839",
          "A00029-63820",
          "720447-00437",
          "720447-99999",
          "720481-03817",
          "K4A6",
          "720481-99999",
          "KAWM",
          "720488-99999",
          "KBGF",
          "KBNA",
          "KBWG",
          "KCEY",
          "720773-99999",
          "720775-99999",
          "KCKV",
          "720856-00284",
          "KCRX",
          "720856-99999",
          "KCSV",
          "KDCU",
          "720924-00311",
          "720924-99999",
          "KDYR",
          "720974-00344",
          "720974-99999",
          "721031-00348",
          "KGLW",
          "721031-99999",
          "KHKA",
          "722054-53959",
          "KHOP",
          "722054-99999",
          "KHSV",
          "722072-03894",
          "KHUA",
          "722072-99999",
          "KJWN",
          "722165-13815",
          "722165-63808",
          "KM04",
          "722165-99999",
          "KMAW",
          "KMDQ",
          "KMEM",
          "KMKL",
          "722279-53852",
          "KMQY",
          "722279-99999",
          "KMRC",
          "722322-00361",
          "KMSL",
          "722322-99999",
          "KNQA",
          "722364-23903",
          "KOLV",
          "722781-99999",
          "KPHT",
          "KSIK",
          "KSRB",
          "KTHA",
          "723230-03856",
          "KUCY",
          "723231-63883",
          "KUTA",
          "723231-99999"
         ],
         "lat": [
          35.223,
          34.744,
          35.223,
          35.031,
          37.064,
          35.188,
          37.067,
          35.25,
          36.611,
          36.024,
          36.617,
          36.017,
          36.855,
          35.554,
          34.85,
          35.554,
          36.8,
          35.951,
          36.371,
          35.818,
          36.654,
          35.133,
          36.654,
          35.964,
          36.335,
          35.951,
          36.859,
          35.95,
          34.722,
          36.119,
          34.722,
          36.182,
          35.195,
          36.009,
          35.2,
          36,
          36.2,
          36.056,
          36.2,
          36.056,
          35.19,
          36.617,
          36.432,
          36.624,
          36.433,
          35.35,
          35.9,
          35.35,
          36.473,
          35.056,
          36.473,
          35.35,
          36.467,
          35.593,
          36,
          36,
          36.473,
          35.967,
          35.967,
          35.94,
          35.933,
          36.895,
          36.895,
          36.683,
          36.683,
          36.988,
          36.983,
          36.023,
          36.017,
          37.053,
          36.967,
          34.933,
          35.998,
          36.667,
          36.473,
          36.667,
          35.031,
          36.965,
          35.818,
          36.568,
          35.495,
          35.393,
          35.223,
          34.65,
          36.859,
          36.183,
          37.067,
          36.6,
          36.65,
          36,
          36.61,
          35.593,
          35.03,
          34.72,
          36.6,
          34.84,
          36.855,
          35.951,
          36.43,
          34.644,
          36.859,
          36.667,
          37.06,
          35.383,
          36.97,
          36.895,
          36.017,
          36.2,
          35.056,
          36.48,
          34.744,
          35.818,
          36.119,
          34.683,
          34.822,
          35.583,
          35.214,
          36.38,
          36.014,
          34.565,
          34.66,
          34.773,
          34.861,
          34.694,
          34.861,
          35.967,
          36.226,
          36.965,
          35.35,
          36.38,
          36.665,
          36.665,
          36.6,
          34.68,
          36.601,
          35.135,
          36.899,
          35.178,
          36.119,
          36.965,
          36.65,
          34.659,
          35.507,
          36.62,
          34.689,
          34.915,
          34.689,
          35.95,
          34.653,
          34.915,
          34.915,
          36,
          35.178,
          35.178,
          35.38,
          37.03,
          35.38,
          35.93,
          35.135,
          36.667,
          35.135,
          34.644,
          36.624,
          34.679,
          36.617,
          36.18,
          34.983,
          34.979,
          35.58,
          34.983,
          36.6,
          34.86,
          35.05,
          35.593,
          34.653,
          36,
          34.653,
          35.54,
          37.033,
          34.744,
          37.032,
          35.35,
          34.681,
          34.97,
          36.338,
          36.338,
          36.899,
          36.056,
          35.38,
          34.644,
          36.38,
          34.679,
          34.68,
          34.683
         ],
         "legendgroup": "",
         "lon": [
          -83.419,
          -87.6,
          -83.419,
          -85.201,
          -81.798,
          -85.178,
          -81.8,
          -85.85,
          -83.738,
          -84.238,
          -83.733,
          -84.233,
          -84.856,
          -87.179,
          -83.983,
          -87.179,
          -84.2,
          -85.081,
          -82.173,
          -83.986,
          -83.218,
          -86.55,
          -83.218,
          -83.874,
          -84.162,
          -85.081,
          -83.358,
          -85.083,
          -84.869,
          -86.689,
          -84.869,
          -86.887,
          -83.865,
          -86.52,
          -83.867,
          -86.517,
          -81.65,
          -85.531,
          -81.65,
          -85.531,
          -83.86,
          -87.417,
          -81.419,
          -87.419,
          -81.417,
          -89.867,
          -82.817,
          -89.867,
          -82.404,
          -89.987,
          -82.404,
          -89.867,
          -82.4,
          -88.917,
          -89.409,
          -89.4,
          -82.404,
          -89.95,
          -89.933,
          -89.831,
          -89.833,
          -81.35,
          -81.35,
          -82.033,
          -82.033,
          -82.53,
          -82.533,
          -84.234,
          -84.217,
          -84.616,
          -84.133,
          -86.083,
          -84.219,
          -87.483,
          -82.404,
          -87.5,
          -85.201,
          -86.424,
          -83.986,
          -87.481,
          -82.614,
          -86.086,
          -83.419,
          -87.333,
          -83.358,
          -86.3,
          -81.8,
          -89.983,
          -83.21,
          -89.409,
          -83.74,
          -88.917,
          -85.2,
          -84.87,
          -89.983,
          -84,
          -84.856,
          -85.081,
          -81.42,
          -86.786,
          -83.358,
          -87.483,
          -81.8,
          -86.233,
          -82.53,
          -81.35,
          -84.217,
          -81.65,
          -89.987,
          -82.4,
          -87.6,
          -83.986,
          -86.689,
          -86.683,
          -89.435,
          -89.587,
          -89.043,
          -88.985,
          -85.135,
          -85.617,
          -87.346,
          -87.64,
          -86.557,
          -86,
          -86.557,
          -85.783,
          -90.037,
          -86.424,
          -89.867,
          -88.985,
          -88.373,
          -88.373,
          -89.983,
          -86,
          -89.992,
          -90.234,
          -89.562,
          -86.066,
          -86.689,
          -86.424,
          -88.36,
          -87.349,
          -86.804,
          -87.42,
          -86.006,
          -88.604,
          -86.006,
          -85.08,
          -86.945,
          -88.604,
          -88.604,
          -89.409,
          -86.066,
          -86.066,
          -86.246,
          -85.95,
          -86.246,
          -89.83,
          -90.234,
          -87.5,
          -90.234,
          -86.786,
          -87.419,
          -86.685,
          -87.417,
          -86.88,
          -89.783,
          -89.787,
          -89.58,
          -89.783,
          -90,
          -86.56,
          -90,
          -88.917,
          -86.945,
          -86.517,
          -86.945,
          -87.18,
          -85.95,
          -87.6,
          -85.954,
          -89.87,
          -90.347,
          -89.79,
          -88.383,
          -88.383,
          -89.562,
          -85.531,
          -86.25,
          -86.786,
          -88.985,
          -86.685,
          -90.35,
          -86.683
         ],
         "marker": {
          "color": "#636efa"
         },
         "mode": "markers",
         "name": "",
         "showlegend": false,
         "subplot": "mapbox",
         "type": "scattermapbox"
        }
       ],
       "layout": {
        "legend": {
         "tracegroupgap": 0
        },
        "mapbox": {
         "center": {
          "lat": 35.83667010309278,
          "lon": -86.2028144329897
         },
         "domain": {
          "x": [
           0,
           1
          ],
          "y": [
           0,
           1
          ]
         },
         "style": "open-street-map",
         "zoom": 10
        },
        "margin": {
         "t": 60
        },
        "template": {
         "data": {
          "bar": [
           {
            "error_x": {
             "color": "#2a3f5f"
            },
            "error_y": {
             "color": "#2a3f5f"
            },
            "marker": {
             "line": {
              "color": "#E5ECF6",
              "width": 0.5
             },
             "pattern": {
              "fillmode": "overlay",
              "size": 10,
              "solidity": 0.2
             }
            },
            "type": "bar"
           }
          ],
          "barpolar": [
           {
            "marker": {
             "line": {
              "color": "#E5ECF6",
              "width": 0.5
             },
             "pattern": {
              "fillmode": "overlay",
              "size": 10,
              "solidity": 0.2
             }
            },
            "type": "barpolar"
           }
          ],
          "carpet": [
           {
            "aaxis": {
             "endlinecolor": "#2a3f5f",
             "gridcolor": "white",
             "linecolor": "white",
             "minorgridcolor": "white",
             "startlinecolor": "#2a3f5f"
            },
            "baxis": {
             "endlinecolor": "#2a3f5f",
             "gridcolor": "white",
             "linecolor": "white",
             "minorgridcolor": "white",
             "startlinecolor": "#2a3f5f"
            },
            "type": "carpet"
           }
          ],
          "choropleth": [
           {
            "colorbar": {
             "outlinewidth": 0,
             "ticks": ""
            },
            "type": "choropleth"
           }
          ],
          "contour": [
           {
            "colorbar": {
             "outlinewidth": 0,
             "ticks": ""
            },
            "colorscale": [
             [
              0,
              "#0d0887"
             ],
             [
              0.1111111111111111,
              "#46039f"
             ],
             [
              0.2222222222222222,
              "#7201a8"
             ],
             [
              0.3333333333333333,
              "#9c179e"
             ],
             [
              0.4444444444444444,
              "#bd3786"
             ],
             [
              0.5555555555555556,
              "#d8576b"
             ],
             [
              0.6666666666666666,
              "#ed7953"
             ],
             [
              0.7777777777777778,
              "#fb9f3a"
             ],
             [
              0.8888888888888888,
              "#fdca26"
             ],
             [
              1,
              "#f0f921"
             ]
            ],
            "type": "contour"
           }
          ],
          "contourcarpet": [
           {
            "colorbar": {
             "outlinewidth": 0,
             "ticks": ""
            },
            "type": "contourcarpet"
           }
          ],
          "heatmap": [
           {
            "colorbar": {
             "outlinewidth": 0,
             "ticks": ""
            },
            "colorscale": [
             [
              0,
              "#0d0887"
             ],
             [
              0.1111111111111111,
              "#46039f"
             ],
             [
              0.2222222222222222,
              "#7201a8"
             ],
             [
              0.3333333333333333,
              "#9c179e"
             ],
             [
              0.4444444444444444,
              "#bd3786"
             ],
             [
              0.5555555555555556,
              "#d8576b"
             ],
             [
              0.6666666666666666,
              "#ed7953"
             ],
             [
              0.7777777777777778,
              "#fb9f3a"
             ],
             [
              0.8888888888888888,
              "#fdca26"
             ],
             [
              1,
              "#f0f921"
             ]
            ],
            "type": "heatmap"
           }
          ],
          "heatmapgl": [
           {
            "colorbar": {
             "outlinewidth": 0,
             "ticks": ""
            },
            "colorscale": [
             [
              0,
              "#0d0887"
             ],
             [
              0.1111111111111111,
              "#46039f"
             ],
             [
              0.2222222222222222,
              "#7201a8"
             ],
             [
              0.3333333333333333,
              "#9c179e"
             ],
             [
              0.4444444444444444,
              "#bd3786"
             ],
             [
              0.5555555555555556,
              "#d8576b"
             ],
             [
              0.6666666666666666,
              "#ed7953"
             ],
             [
              0.7777777777777778,
              "#fb9f3a"
             ],
             [
              0.8888888888888888,
              "#fdca26"
             ],
             [
              1,
              "#f0f921"
             ]
            ],
            "type": "heatmapgl"
           }
          ],
          "histogram": [
           {
            "marker": {
             "pattern": {
              "fillmode": "overlay",
              "size": 10,
              "solidity": 0.2
             }
            },
            "type": "histogram"
           }
          ],
          "histogram2d": [
           {
            "colorbar": {
             "outlinewidth": 0,
             "ticks": ""
            },
            "colorscale": [
             [
              0,
              "#0d0887"
             ],
             [
              0.1111111111111111,
              "#46039f"
             ],
             [
              0.2222222222222222,
              "#7201a8"
             ],
             [
              0.3333333333333333,
              "#9c179e"
             ],
             [
              0.4444444444444444,
              "#bd3786"
             ],
             [
              0.5555555555555556,
              "#d8576b"
             ],
             [
              0.6666666666666666,
              "#ed7953"
             ],
             [
              0.7777777777777778,
              "#fb9f3a"
             ],
             [
              0.8888888888888888,
              "#fdca26"
             ],
             [
              1,
              "#f0f921"
             ]
            ],
            "type": "histogram2d"
           }
          ],
          "histogram2dcontour": [
           {
            "colorbar": {
             "outlinewidth": 0,
             "ticks": ""
            },
            "colorscale": [
             [
              0,
              "#0d0887"
             ],
             [
              0.1111111111111111,
              "#46039f"
             ],
             [
              0.2222222222222222,
              "#7201a8"
             ],
             [
              0.3333333333333333,
              "#9c179e"
             ],
             [
              0.4444444444444444,
              "#bd3786"
             ],
             [
              0.5555555555555556,
              "#d8576b"
             ],
             [
              0.6666666666666666,
              "#ed7953"
             ],
             [
              0.7777777777777778,
              "#fb9f3a"
             ],
             [
              0.8888888888888888,
              "#fdca26"
             ],
             [
              1,
              "#f0f921"
             ]
            ],
            "type": "histogram2dcontour"
           }
          ],
          "mesh3d": [
           {
            "colorbar": {
             "outlinewidth": 0,
             "ticks": ""
            },
            "type": "mesh3d"
           }
          ],
          "parcoords": [
           {
            "line": {
             "colorbar": {
              "outlinewidth": 0,
              "ticks": ""
             }
            },
            "type": "parcoords"
           }
          ],
          "pie": [
           {
            "automargin": true,
            "type": "pie"
           }
          ],
          "scatter": [
           {
            "fillpattern": {
             "fillmode": "overlay",
             "size": 10,
             "solidity": 0.2
            },
            "type": "scatter"
           }
          ],
          "scatter3d": [
           {
            "line": {
             "colorbar": {
              "outlinewidth": 0,
              "ticks": ""
             }
            },
            "marker": {
             "colorbar": {
              "outlinewidth": 0,
              "ticks": ""
             }
            },
            "type": "scatter3d"
           }
          ],
          "scattercarpet": [
           {
            "marker": {
             "colorbar": {
              "outlinewidth": 0,
              "ticks": ""
             }
            },
            "type": "scattercarpet"
           }
          ],
          "scattergeo": [
           {
            "marker": {
             "colorbar": {
              "outlinewidth": 0,
              "ticks": ""
             }
            },
            "type": "scattergeo"
           }
          ],
          "scattergl": [
           {
            "marker": {
             "colorbar": {
              "outlinewidth": 0,
              "ticks": ""
             }
            },
            "type": "scattergl"
           }
          ],
          "scattermapbox": [
           {
            "marker": {
             "colorbar": {
              "outlinewidth": 0,
              "ticks": ""
             }
            },
            "type": "scattermapbox"
           }
          ],
          "scatterpolar": [
           {
            "marker": {
             "colorbar": {
              "outlinewidth": 0,
              "ticks": ""
             }
            },
            "type": "scatterpolar"
           }
          ],
          "scatterpolargl": [
           {
            "marker": {
             "colorbar": {
              "outlinewidth": 0,
              "ticks": ""
             }
            },
            "type": "scatterpolargl"
           }
          ],
          "scatterternary": [
           {
            "marker": {
             "colorbar": {
              "outlinewidth": 0,
              "ticks": ""
             }
            },
            "type": "scatterternary"
           }
          ],
          "surface": [
           {
            "colorbar": {
             "outlinewidth": 0,
             "ticks": ""
            },
            "colorscale": [
             [
              0,
              "#0d0887"
             ],
             [
              0.1111111111111111,
              "#46039f"
             ],
             [
              0.2222222222222222,
              "#7201a8"
             ],
             [
              0.3333333333333333,
              "#9c179e"
             ],
             [
              0.4444444444444444,
              "#bd3786"
             ],
             [
              0.5555555555555556,
              "#d8576b"
             ],
             [
              0.6666666666666666,
              "#ed7953"
             ],
             [
              0.7777777777777778,
              "#fb9f3a"
             ],
             [
              0.8888888888888888,
              "#fdca26"
             ],
             [
              1,
              "#f0f921"
             ]
            ],
            "type": "surface"
           }
          ],
          "table": [
           {
            "cells": {
             "fill": {
              "color": "#EBF0F8"
             },
             "line": {
              "color": "white"
             }
            },
            "header": {
             "fill": {
              "color": "#C8D4E3"
             },
             "line": {
              "color": "white"
             }
            },
            "type": "table"
           }
          ]
         },
         "layout": {
          "annotationdefaults": {
           "arrowcolor": "#2a3f5f",
           "arrowhead": 0,
           "arrowwidth": 1
          },
          "autotypenumbers": "strict",
          "coloraxis": {
           "colorbar": {
            "outlinewidth": 0,
            "ticks": ""
           }
          },
          "colorscale": {
           "diverging": [
            [
             0,
             "#8e0152"
            ],
            [
             0.1,
             "#c51b7d"
            ],
            [
             0.2,
             "#de77ae"
            ],
            [
             0.3,
             "#f1b6da"
            ],
            [
             0.4,
             "#fde0ef"
            ],
            [
             0.5,
             "#f7f7f7"
            ],
            [
             0.6,
             "#e6f5d0"
            ],
            [
             0.7,
             "#b8e186"
            ],
            [
             0.8,
             "#7fbc41"
            ],
            [
             0.9,
             "#4d9221"
            ],
            [
             1,
             "#276419"
            ]
           ],
           "sequential": [
            [
             0,
             "#0d0887"
            ],
            [
             0.1111111111111111,
             "#46039f"
            ],
            [
             0.2222222222222222,
             "#7201a8"
            ],
            [
             0.3333333333333333,
             "#9c179e"
            ],
            [
             0.4444444444444444,
             "#bd3786"
            ],
            [
             0.5555555555555556,
             "#d8576b"
            ],
            [
             0.6666666666666666,
             "#ed7953"
            ],
            [
             0.7777777777777778,
             "#fb9f3a"
            ],
            [
             0.8888888888888888,
             "#fdca26"
            ],
            [
             1,
             "#f0f921"
            ]
           ],
           "sequentialminus": [
            [
             0,
             "#0d0887"
            ],
            [
             0.1111111111111111,
             "#46039f"
            ],
            [
             0.2222222222222222,
             "#7201a8"
            ],
            [
             0.3333333333333333,
             "#9c179e"
            ],
            [
             0.4444444444444444,
             "#bd3786"
            ],
            [
             0.5555555555555556,
             "#d8576b"
            ],
            [
             0.6666666666666666,
             "#ed7953"
            ],
            [
             0.7777777777777778,
             "#fb9f3a"
            ],
            [
             0.8888888888888888,
             "#fdca26"
            ],
            [
             1,
             "#f0f921"
            ]
           ]
          },
          "colorway": [
           "#636efa",
           "#EF553B",
           "#00cc96",
           "#ab63fa",
           "#FFA15A",
           "#19d3f3",
           "#FF6692",
           "#B6E880",
           "#FF97FF",
           "#FECB52"
          ],
          "font": {
           "color": "#2a3f5f"
          },
          "geo": {
           "bgcolor": "white",
           "lakecolor": "white",
           "landcolor": "#E5ECF6",
           "showlakes": true,
           "showland": true,
           "subunitcolor": "white"
          },
          "hoverlabel": {
           "align": "left"
          },
          "hovermode": "closest",
          "mapbox": {
           "style": "light"
          },
          "paper_bgcolor": "white",
          "plot_bgcolor": "#E5ECF6",
          "polar": {
           "angularaxis": {
            "gridcolor": "white",
            "linecolor": "white",
            "ticks": ""
           },
           "bgcolor": "#E5ECF6",
           "radialaxis": {
            "gridcolor": "white",
            "linecolor": "white",
            "ticks": ""
           }
          },
          "scene": {
           "xaxis": {
            "backgroundcolor": "#E5ECF6",
            "gridcolor": "white",
            "gridwidth": 2,
            "linecolor": "white",
            "showbackground": true,
            "ticks": "",
            "zerolinecolor": "white"
           },
           "yaxis": {
            "backgroundcolor": "#E5ECF6",
            "gridcolor": "white",
            "gridwidth": 2,
            "linecolor": "white",
            "showbackground": true,
            "ticks": "",
            "zerolinecolor": "white"
           },
           "zaxis": {
            "backgroundcolor": "#E5ECF6",
            "gridcolor": "white",
            "gridwidth": 2,
            "linecolor": "white",
            "showbackground": true,
            "ticks": "",
            "zerolinecolor": "white"
           }
          },
          "shapedefaults": {
           "line": {
            "color": "#2a3f5f"
           }
          },
          "ternary": {
           "aaxis": {
            "gridcolor": "white",
            "linecolor": "white",
            "ticks": ""
           },
           "baxis": {
            "gridcolor": "white",
            "linecolor": "white",
            "ticks": ""
           },
           "bgcolor": "#E5ECF6",
           "caxis": {
            "gridcolor": "white",
            "linecolor": "white",
            "ticks": ""
           }
          },
          "title": {
           "x": 0.05
          },
          "xaxis": {
           "automargin": true,
           "gridcolor": "white",
           "linecolor": "white",
           "ticks": "",
           "title": {
            "standoff": 15
           },
           "zerolinecolor": "white",
           "zerolinewidth": 2
          },
          "yaxis": {
           "automargin": true,
           "gridcolor": "white",
           "linecolor": "white",
           "ticks": "",
           "title": {
            "standoff": 15
           },
           "zerolinecolor": "white",
           "zerolinewidth": 2
          }
         }
        }
       }
      },
      "text/html": [
       "<div>                            <div id=\"4d618483-4b51-4511-b42b-2b331d31ae6f\" class=\"plotly-graph-div\" style=\"height:525px; width:100%;\"></div>            <script type=\"text/javascript\">                require([\"plotly\"], function(Plotly) {                    window.PLOTLYENV=window.PLOTLYENV || {};                                    if (document.getElementById(\"4d618483-4b51-4511-b42b-2b331d31ae6f\")) {                    Plotly.newPlot(                        \"4d618483-4b51-4511-b42b-2b331d31ae6f\",                        [{\"hovertemplate\":\"<b>%{hovertext}</b><br><br>gps_coordinate_latitude=%{lat}<br>gps_coordinate_longitude=%{lon}<extra></extra>\",\"hovertext\":[\"720259-63844\",\"723235-13896\",\"720259-99999\",\"723240-13882\",\"720264-63827\",\"723244-99999\",\"720264-99999\",\"723245-99999\",\"720353-63875\",\"723246-53868\",\"720353-99999\",\"723246-99999\",\"720379-63882\",\"723249-00463\",\"720409-99999\",\"723249-99999\",\"720465-99999\",\"723250-03847\",\"720623-99999\",\"723260-13891\",\"720768-00274\",\"723263-99999\",\"720768-99999\",\"723264-99999\",\"720907-99999\",\"723265-03847\",\"720958-99999\",\"723265-99999\",\"722154-53885\",\"723270-13897\",\"722154-99999\",\"723271-99999\",\"722177-63811\",\"723273-13827\",\"722177-99999\",\"723273-99999\",\"722198-63819\",\"723274-00372\",\"722198-99999\",\"723274-99999\",\"723048-99999\",\"723275-99999\",\"723146-53892\",\"723280-03894\",\"723146-99999\",\"723284-93839\",\"723155-99999\",\"723284-99999\",\"723181-13877\",\"723340-13893\",\"723183-13877\",\"723345-93839\",\"723183-99999\",\"723346-03811\",\"723347-03809\",\"723347-99999\",\"723350-13877\",\"723408-13814\",\"723408-99999\",\"723409-53869\",\"723409-99999\",\"724056-63805\",\"724056-99999\",\"724058-53818\",\"724058-99999\",\"724117-63802\",\"724117-99999\",\"724270-53868\",\"724270-99999\",\"724354-99999\",\"999999-03814\",\"726381-99999\",\"999999-03841\",\"746710-13806\",\"999999-13877\",\"746710-99999\",\"999999-13882\",\"746716-93808\",\"999999-13891\",\"746720-99999\",\"999999-53877\",\"749000-99999\",\"A00003-63844\",\"749080-99999\",\"A06773-00334\",\"749083-99999\",\"A06800-00120\",\"749086-99999\",\"K0VG\",\"999999-03809\",\"K1A6\",\"999999-03811\",\"KCHA\",\"KDNN\",\"999999-03817\",\"KDZJ\",\"KEKQ\",\"999999-03847\",\"KGEV\",\"999999-03856\",\"KI35\",\"999999-13806\",\"KJFZ\",\"999999-13855\",\"KLNP\",\"KMKJ\",\"KOQT\",\"KTNB\",\"999999-13893\",\"KTRI\",\"999999-13896\",\"KTYS\",\"999999-13897\",\"691164-99999\",\"999999-23803\",\"720168-99999\",\"720171-99999\",\"999999-63820\",\"999999-63855\",\"999999-63862\",\"999999-63868\",\"999999-63894\",\"720307-63804\",\"999999-63896\",\"720307-99999\",\"999999-93803\",\"720331-99999\",\"999999-93808\",\"999999-93839\",\"A00029-63820\",\"720447-00437\",\"720447-99999\",\"720481-03817\",\"K4A6\",\"720481-99999\",\"KAWM\",\"720488-99999\",\"KBGF\",\"KBNA\",\"KBWG\",\"KCEY\",\"720773-99999\",\"720775-99999\",\"KCKV\",\"720856-00284\",\"KCRX\",\"720856-99999\",\"KCSV\",\"KDCU\",\"720924-00311\",\"720924-99999\",\"KDYR\",\"720974-00344\",\"720974-99999\",\"721031-00348\",\"KGLW\",\"721031-99999\",\"KHKA\",\"722054-53959\",\"KHOP\",\"722054-99999\",\"KHSV\",\"722072-03894\",\"KHUA\",\"722072-99999\",\"KJWN\",\"722165-13815\",\"722165-63808\",\"KM04\",\"722165-99999\",\"KMAW\",\"KMDQ\",\"KMEM\",\"KMKL\",\"722279-53852\",\"KMQY\",\"722279-99999\",\"KMRC\",\"722322-00361\",\"KMSL\",\"722322-99999\",\"KNQA\",\"722364-23903\",\"KOLV\",\"722781-99999\",\"KPHT\",\"KSIK\",\"KSRB\",\"KTHA\",\"723230-03856\",\"KUCY\",\"723231-63883\",\"KUTA\",\"723231-99999\"],\"lat\":[35.223,34.744,35.223,35.031,37.064,35.188,37.067,35.25,36.611,36.024,36.617,36.017,36.855,35.554,34.85,35.554,36.8,35.951,36.371,35.818,36.654,35.133,36.654,35.964,36.335,35.951,36.859,35.95,34.722,36.119,34.722,36.182,35.195,36.009,35.2,36.0,36.2,36.056,36.2,36.056,35.19,36.617,36.432,36.624,36.433,35.35,35.9,35.35,36.473,35.056,36.473,35.35,36.467,35.593,36.0,36.0,36.473,35.967,35.967,35.94,35.933,36.895,36.895,36.683,36.683,36.988,36.983,36.023,36.017,37.053,36.967,34.933,35.998,36.667,36.473,36.667,35.031,36.965,35.818,36.568,35.495,35.393,35.223,34.65,36.859,36.183,37.067,36.6,36.65,36.0,36.61,35.593,35.03,34.72,36.6,34.84,36.855,35.951,36.43,34.644,36.859,36.667,37.06,35.383,36.97,36.895,36.017,36.2,35.056,36.48,34.744,35.818,36.119,34.683,34.822,35.583,35.214,36.38,36.014,34.565,34.66,34.773,34.861,34.694,34.861,35.967,36.226,36.965,35.35,36.38,36.665,36.665,36.6,34.68,36.601,35.135,36.899,35.178,36.119,36.965,36.65,34.659,35.507,36.62,34.689,34.915,34.689,35.95,34.653,34.915,34.915,36.0,35.178,35.178,35.38,37.03,35.38,35.93,35.135,36.667,35.135,34.644,36.624,34.679,36.617,36.18,34.983,34.979,35.58,34.983,36.6,34.86,35.05,35.593,34.653,36.0,34.653,35.54,37.033,34.744,37.032,35.35,34.681,34.97,36.338,36.338,36.899,36.056,35.38,34.644,36.38,34.679,34.68,34.683],\"legendgroup\":\"\",\"lon\":[-83.419,-87.6,-83.419,-85.201,-81.798,-85.178,-81.8,-85.85,-83.738,-84.238,-83.733,-84.233,-84.856,-87.179,-83.983,-87.179,-84.2,-85.081,-82.173,-83.986,-83.218,-86.55,-83.218,-83.874,-84.162,-85.081,-83.358,-85.083,-84.869,-86.689,-84.869,-86.887,-83.865,-86.52,-83.867,-86.517,-81.65,-85.531,-81.65,-85.531,-83.86,-87.417,-81.419,-87.419,-81.417,-89.867,-82.817,-89.867,-82.404,-89.987,-82.404,-89.867,-82.4,-88.917,-89.409,-89.4,-82.404,-89.95,-89.933,-89.831,-89.833,-81.35,-81.35,-82.033,-82.033,-82.53,-82.533,-84.234,-84.217,-84.616,-84.133,-86.083,-84.219,-87.483,-82.404,-87.5,-85.201,-86.424,-83.986,-87.481,-82.614,-86.086,-83.419,-87.333,-83.358,-86.3,-81.8,-89.983,-83.21,-89.409,-83.74,-88.917,-85.2,-84.87,-89.983,-84.0,-84.856,-85.081,-81.42,-86.786,-83.358,-87.483,-81.8,-86.233,-82.53,-81.35,-84.217,-81.65,-89.987,-82.4,-87.6,-83.986,-86.689,-86.683,-89.435,-89.587,-89.043,-88.985,-85.135,-85.617,-87.346,-87.64,-86.557,-86.0,-86.557,-85.783,-90.037,-86.424,-89.867,-88.985,-88.373,-88.373,-89.983,-86.0,-89.992,-90.234,-89.562,-86.066,-86.689,-86.424,-88.36,-87.349,-86.804,-87.42,-86.006,-88.604,-86.006,-85.08,-86.945,-88.604,-88.604,-89.409,-86.066,-86.066,-86.246,-85.95,-86.246,-89.83,-90.234,-87.5,-90.234,-86.786,-87.419,-86.685,-87.417,-86.88,-89.783,-89.787,-89.58,-89.783,-90.0,-86.56,-90.0,-88.917,-86.945,-86.517,-86.945,-87.18,-85.95,-87.6,-85.954,-89.87,-90.347,-89.79,-88.383,-88.383,-89.562,-85.531,-86.25,-86.786,-88.985,-86.685,-90.35,-86.683],\"marker\":{\"color\":\"#636efa\"},\"mode\":\"markers\",\"name\":\"\",\"showlegend\":false,\"subplot\":\"mapbox\",\"type\":\"scattermapbox\"}],                        {\"template\":{\"data\":{\"histogram2dcontour\":[{\"type\":\"histogram2dcontour\",\"colorbar\":{\"outlinewidth\":0,\"ticks\":\"\"},\"colorscale\":[[0.0,\"#0d0887\"],[0.1111111111111111,\"#46039f\"],[0.2222222222222222,\"#7201a8\"],[0.3333333333333333,\"#9c179e\"],[0.4444444444444444,\"#bd3786\"],[0.5555555555555556,\"#d8576b\"],[0.6666666666666666,\"#ed7953\"],[0.7777777777777778,\"#fb9f3a\"],[0.8888888888888888,\"#fdca26\"],[1.0,\"#f0f921\"]]}],\"choropleth\":[{\"type\":\"choropleth\",\"colorbar\":{\"outlinewidth\":0,\"ticks\":\"\"}}],\"histogram2d\":[{\"type\":\"histogram2d\",\"colorbar\":{\"outlinewidth\":0,\"ticks\":\"\"},\"colorscale\":[[0.0,\"#0d0887\"],[0.1111111111111111,\"#46039f\"],[0.2222222222222222,\"#7201a8\"],[0.3333333333333333,\"#9c179e\"],[0.4444444444444444,\"#bd3786\"],[0.5555555555555556,\"#d8576b\"],[0.6666666666666666,\"#ed7953\"],[0.7777777777777778,\"#fb9f3a\"],[0.8888888888888888,\"#fdca26\"],[1.0,\"#f0f921\"]]}],\"heatmap\":[{\"type\":\"heatmap\",\"colorbar\":{\"outlinewidth\":0,\"ticks\":\"\"},\"colorscale\":[[0.0,\"#0d0887\"],[0.1111111111111111,\"#46039f\"],[0.2222222222222222,\"#7201a8\"],[0.3333333333333333,\"#9c179e\"],[0.4444444444444444,\"#bd3786\"],[0.5555555555555556,\"#d8576b\"],[0.6666666666666666,\"#ed7953\"],[0.7777777777777778,\"#fb9f3a\"],[0.8888888888888888,\"#fdca26\"],[1.0,\"#f0f921\"]]}],\"heatmapgl\":[{\"type\":\"heatmapgl\",\"colorbar\":{\"outlinewidth\":0,\"ticks\":\"\"},\"colorscale\":[[0.0,\"#0d0887\"],[0.1111111111111111,\"#46039f\"],[0.2222222222222222,\"#7201a8\"],[0.3333333333333333,\"#9c179e\"],[0.4444444444444444,\"#bd3786\"],[0.5555555555555556,\"#d8576b\"],[0.6666666666666666,\"#ed7953\"],[0.7777777777777778,\"#fb9f3a\"],[0.8888888888888888,\"#fdca26\"],[1.0,\"#f0f921\"]]}],\"contourcarpet\":[{\"type\":\"contourcarpet\",\"colorbar\":{\"outlinewidth\":0,\"ticks\":\"\"}}],\"contour\":[{\"type\":\"contour\",\"colorbar\":{\"outlinewidth\":0,\"ticks\":\"\"},\"colorscale\":[[0.0,\"#0d0887\"],[0.1111111111111111,\"#46039f\"],[0.2222222222222222,\"#7201a8\"],[0.3333333333333333,\"#9c179e\"],[0.4444444444444444,\"#bd3786\"],[0.5555555555555556,\"#d8576b\"],[0.6666666666666666,\"#ed7953\"],[0.7777777777777778,\"#fb9f3a\"],[0.8888888888888888,\"#fdca26\"],[1.0,\"#f0f921\"]]}],\"surface\":[{\"type\":\"surface\",\"colorbar\":{\"outlinewidth\":0,\"ticks\":\"\"},\"colorscale\":[[0.0,\"#0d0887\"],[0.1111111111111111,\"#46039f\"],[0.2222222222222222,\"#7201a8\"],[0.3333333333333333,\"#9c179e\"],[0.4444444444444444,\"#bd3786\"],[0.5555555555555556,\"#d8576b\"],[0.6666666666666666,\"#ed7953\"],[0.7777777777777778,\"#fb9f3a\"],[0.8888888888888888,\"#fdca26\"],[1.0,\"#f0f921\"]]}],\"mesh3d\":[{\"type\":\"mesh3d\",\"colorbar\":{\"outlinewidth\":0,\"ticks\":\"\"}}],\"scatter\":[{\"fillpattern\":{\"fillmode\":\"overlay\",\"size\":10,\"solidity\":0.2},\"type\":\"scatter\"}],\"parcoords\":[{\"type\":\"parcoords\",\"line\":{\"colorbar\":{\"outlinewidth\":0,\"ticks\":\"\"}}}],\"scatterpolargl\":[{\"type\":\"scatterpolargl\",\"marker\":{\"colorbar\":{\"outlinewidth\":0,\"ticks\":\"\"}}}],\"bar\":[{\"error_x\":{\"color\":\"#2a3f5f\"},\"error_y\":{\"color\":\"#2a3f5f\"},\"marker\":{\"line\":{\"color\":\"#E5ECF6\",\"width\":0.5},\"pattern\":{\"fillmode\":\"overlay\",\"size\":10,\"solidity\":0.2}},\"type\":\"bar\"}],\"scattergeo\":[{\"type\":\"scattergeo\",\"marker\":{\"colorbar\":{\"outlinewidth\":0,\"ticks\":\"\"}}}],\"scatterpolar\":[{\"type\":\"scatterpolar\",\"marker\":{\"colorbar\":{\"outlinewidth\":0,\"ticks\":\"\"}}}],\"histogram\":[{\"marker\":{\"pattern\":{\"fillmode\":\"overlay\",\"size\":10,\"solidity\":0.2}},\"type\":\"histogram\"}],\"scattergl\":[{\"type\":\"scattergl\",\"marker\":{\"colorbar\":{\"outlinewidth\":0,\"ticks\":\"\"}}}],\"scatter3d\":[{\"type\":\"scatter3d\",\"line\":{\"colorbar\":{\"outlinewidth\":0,\"ticks\":\"\"}},\"marker\":{\"colorbar\":{\"outlinewidth\":0,\"ticks\":\"\"}}}],\"scattermapbox\":[{\"type\":\"scattermapbox\",\"marker\":{\"colorbar\":{\"outlinewidth\":0,\"ticks\":\"\"}}}],\"scatterternary\":[{\"type\":\"scatterternary\",\"marker\":{\"colorbar\":{\"outlinewidth\":0,\"ticks\":\"\"}}}],\"scattercarpet\":[{\"type\":\"scattercarpet\",\"marker\":{\"colorbar\":{\"outlinewidth\":0,\"ticks\":\"\"}}}],\"carpet\":[{\"aaxis\":{\"endlinecolor\":\"#2a3f5f\",\"gridcolor\":\"white\",\"linecolor\":\"white\",\"minorgridcolor\":\"white\",\"startlinecolor\":\"#2a3f5f\"},\"baxis\":{\"endlinecolor\":\"#2a3f5f\",\"gridcolor\":\"white\",\"linecolor\":\"white\",\"minorgridcolor\":\"white\",\"startlinecolor\":\"#2a3f5f\"},\"type\":\"carpet\"}],\"table\":[{\"cells\":{\"fill\":{\"color\":\"#EBF0F8\"},\"line\":{\"color\":\"white\"}},\"header\":{\"fill\":{\"color\":\"#C8D4E3\"},\"line\":{\"color\":\"white\"}},\"type\":\"table\"}],\"barpolar\":[{\"marker\":{\"line\":{\"color\":\"#E5ECF6\",\"width\":0.5},\"pattern\":{\"fillmode\":\"overlay\",\"size\":10,\"solidity\":0.2}},\"type\":\"barpolar\"}],\"pie\":[{\"automargin\":true,\"type\":\"pie\"}]},\"layout\":{\"autotypenumbers\":\"strict\",\"colorway\":[\"#636efa\",\"#EF553B\",\"#00cc96\",\"#ab63fa\",\"#FFA15A\",\"#19d3f3\",\"#FF6692\",\"#B6E880\",\"#FF97FF\",\"#FECB52\"],\"font\":{\"color\":\"#2a3f5f\"},\"hovermode\":\"closest\",\"hoverlabel\":{\"align\":\"left\"},\"paper_bgcolor\":\"white\",\"plot_bgcolor\":\"#E5ECF6\",\"polar\":{\"bgcolor\":\"#E5ECF6\",\"angularaxis\":{\"gridcolor\":\"white\",\"linecolor\":\"white\",\"ticks\":\"\"},\"radialaxis\":{\"gridcolor\":\"white\",\"linecolor\":\"white\",\"ticks\":\"\"}},\"ternary\":{\"bgcolor\":\"#E5ECF6\",\"aaxis\":{\"gridcolor\":\"white\",\"linecolor\":\"white\",\"ticks\":\"\"},\"baxis\":{\"gridcolor\":\"white\",\"linecolor\":\"white\",\"ticks\":\"\"},\"caxis\":{\"gridcolor\":\"white\",\"linecolor\":\"white\",\"ticks\":\"\"}},\"coloraxis\":{\"colorbar\":{\"outlinewidth\":0,\"ticks\":\"\"}},\"colorscale\":{\"sequential\":[[0.0,\"#0d0887\"],[0.1111111111111111,\"#46039f\"],[0.2222222222222222,\"#7201a8\"],[0.3333333333333333,\"#9c179e\"],[0.4444444444444444,\"#bd3786\"],[0.5555555555555556,\"#d8576b\"],[0.6666666666666666,\"#ed7953\"],[0.7777777777777778,\"#fb9f3a\"],[0.8888888888888888,\"#fdca26\"],[1.0,\"#f0f921\"]],\"sequentialminus\":[[0.0,\"#0d0887\"],[0.1111111111111111,\"#46039f\"],[0.2222222222222222,\"#7201a8\"],[0.3333333333333333,\"#9c179e\"],[0.4444444444444444,\"#bd3786\"],[0.5555555555555556,\"#d8576b\"],[0.6666666666666666,\"#ed7953\"],[0.7777777777777778,\"#fb9f3a\"],[0.8888888888888888,\"#fdca26\"],[1.0,\"#f0f921\"]],\"diverging\":[[0,\"#8e0152\"],[0.1,\"#c51b7d\"],[0.2,\"#de77ae\"],[0.3,\"#f1b6da\"],[0.4,\"#fde0ef\"],[0.5,\"#f7f7f7\"],[0.6,\"#e6f5d0\"],[0.7,\"#b8e186\"],[0.8,\"#7fbc41\"],[0.9,\"#4d9221\"],[1,\"#276419\"]]},\"xaxis\":{\"gridcolor\":\"white\",\"linecolor\":\"white\",\"ticks\":\"\",\"title\":{\"standoff\":15},\"zerolinecolor\":\"white\",\"automargin\":true,\"zerolinewidth\":2},\"yaxis\":{\"gridcolor\":\"white\",\"linecolor\":\"white\",\"ticks\":\"\",\"title\":{\"standoff\":15},\"zerolinecolor\":\"white\",\"automargin\":true,\"zerolinewidth\":2},\"scene\":{\"xaxis\":{\"backgroundcolor\":\"#E5ECF6\",\"gridcolor\":\"white\",\"linecolor\":\"white\",\"showbackground\":true,\"ticks\":\"\",\"zerolinecolor\":\"white\",\"gridwidth\":2},\"yaxis\":{\"backgroundcolor\":\"#E5ECF6\",\"gridcolor\":\"white\",\"linecolor\":\"white\",\"showbackground\":true,\"ticks\":\"\",\"zerolinecolor\":\"white\",\"gridwidth\":2},\"zaxis\":{\"backgroundcolor\":\"#E5ECF6\",\"gridcolor\":\"white\",\"linecolor\":\"white\",\"showbackground\":true,\"ticks\":\"\",\"zerolinecolor\":\"white\",\"gridwidth\":2}},\"shapedefaults\":{\"line\":{\"color\":\"#2a3f5f\"}},\"annotationdefaults\":{\"arrowcolor\":\"#2a3f5f\",\"arrowhead\":0,\"arrowwidth\":1},\"geo\":{\"bgcolor\":\"white\",\"landcolor\":\"#E5ECF6\",\"subunitcolor\":\"white\",\"showland\":true,\"showlakes\":true,\"lakecolor\":\"white\"},\"title\":{\"x\":0.05},\"mapbox\":{\"style\":\"light\"}}},\"mapbox\":{\"domain\":{\"x\":[0.0,1.0],\"y\":[0.0,1.0]},\"center\":{\"lat\":35.83667010309278,\"lon\":-86.2028144329897},\"zoom\":10,\"style\":\"open-street-map\"},\"legend\":{\"tracegroupgap\":0},\"margin\":{\"t\":60}},                        {\"responsive\": true}                    ).then(function(){\n",
       "                            \n",
       "var gd = document.getElementById('4d618483-4b51-4511-b42b-2b331d31ae6f');\n",
       "var x = new MutationObserver(function (mutations, observer) {{\n",
       "        var display = window.getComputedStyle(gd).display;\n",
       "        if (!display || display === 'none') {{\n",
       "            console.log([gd, 'removed!']);\n",
       "            Plotly.purge(gd);\n",
       "            observer.disconnect();\n",
       "        }}\n",
       "}});\n",
       "\n",
       "// Listen for the removal of the full notebook cells\n",
       "var notebookContainer = gd.closest('#notebook-container');\n",
       "if (notebookContainer) {{\n",
       "    x.observe(notebookContainer, {childList: true});\n",
       "}}\n",
       "\n",
       "// Listen for the clearing of the current output cell\n",
       "var outputEl = gd.closest('.output');\n",
       "if (outputEl) {{\n",
       "    x.observe(outputEl, {childList: true});\n",
       "}}\n",
       "\n",
       "                        })                };                });            </script>        </div>"
      ]
     },
     "metadata": {},
     "output_type": "display_data"
    }
   ],
   "source": [
    "import plotly.express as px\n",
    "fig = px.scatter_mapbox(distinctstations, lat=\"gps_coordinate_latitude\", hover_name='station_id', lon=\"gps_coordinate_longitude\", size_max=15, zoom=10,mapbox_style='open-street-map')\n",
    "fig.show()"
   ]
  }
 ],
 "metadata": {
  "colab": {
   "include_colab_link": true,
   "name": "load_data.ipynb",
   "provenance": []
  },
  "kernelspec": {
   "display_name": "Python 3 (ipykernel)",
   "language": "python",
   "name": "python3"
  },
  "language_info": {
   "codemirror_mode": {
    "name": "ipython",
    "version": 3
   },
   "file_extension": ".py",
   "mimetype": "text/x-python",
   "name": "python",
   "nbconvert_exporter": "python",
   "pygments_lexer": "ipython3",
   "version": "3.10.2"
  }
 },
 "nbformat": 4,
 "nbformat_minor": 1
}
