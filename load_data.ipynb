{
  "nbformat": 4,
  "nbformat_minor": 0,
  "metadata": {
    "kernelspec": {
      "name": "python3",
      "display_name": "Python 3"
    },
    "colab": {
      "name": "3_days.ipynb",
      "provenance": [],
      "include_colab_link": true
    }
  },
  "cells": [
    {
      "cell_type": "markdown",
      "metadata": {
        "id": "view-in-github",
        "colab_type": "text"
      },
      "source": [
        "<a href=\"https://colab.research.google.com/github/vu-topics-in-big-data-2022/Project-Incident-Team2/blob/master/load_data.ipynb\" target=\"_parent\"><img src=\"https://colab.research.google.com/assets/colab-badge.svg\" alt=\"Open In Colab\"/></a>"
      ]
    },
    {
      "cell_type": "code",
      "metadata": {
        "id": "bgWlyoZ3DO2W"
      },
      "source": [
        "#install mrjob\n",
        "!pip install mrjob"
      ],
      "execution_count": null,
      "outputs": []
    },
    {
      "cell_type": "code",
      "metadata": {
        "pycharm": {
          "name": "#%%\n"
        },
        "id": "3pTTlJgaJZjI"
      },
      "source": [
        "from google.colab import files\n",
        "\n",
        "# upload dataset\n",
        "uploaded = files.upload()\n",
        "for fn in uploaded.keys():\n",
        "  print('User uploaded file \"{name}\" with length {length} bytes'.format(\n",
        "      name=fn, length=len(uploaded[fn])))"
      ],
      "execution_count": null,
      "outputs": []
    },
    {
      "cell_type": "code",
      "metadata": {
        "pycharm": {
          "name": "#%%\n"
        },
        "id": "8ibVfJ2dJZjI"
      },
      "source": [
        "# upload mrjob.conf under current directory(/content/mrjob.conf)\n",
        "uploaded = files.upload()\n",
        "for fn in uploaded.keys():\n",
        "  print('User uploaded file \"{name}\" with length {length} bytes'.format(\n",
        "      name=fn, length=len(uploaded[fn])))"
      ],
      "execution_count": null,
      "outputs": []
    },
    {
      "cell_type": "code",
      "metadata": {
        "id": "_B5UNc3WCtpt"
      },
      "source": [
        "%%file 3_days.py\n",
        "#write the top pragma string to save this file in local colab drive as 3_days.py\n",
        "from mrjob.job import MRJob\n",
        "import json\n",
        "\n",
        "'''\n",
        "Count the tweets per day.\n",
        "\n",
        "See http://mike.teczno.com/notes/streaming-data-from-twitter.html for parsing info.\n",
        "Get the screen name by accessing tweet['user']['screen_name']\n",
        "\n",
        "Look at tweet['created_at'] for datetime of creation. Just use the first word in the date to get the day.\n",
        "\n",
        "\n",
        "'''\n",
        "\n",
        "\n",
        "class DaysTweets(MRJob):\n",
        "    def mapper(self, _, line):\n",
        "        try:\n",
        "            # do something  \n",
        "            pass   \n",
        "        except Exception as e:\n",
        "            pass\n",
        "\n",
        "    def reducer(self, key, counts):\n",
        "        # do something     \n",
        "        pass\n",
        "\n",
        "if __name__ == '__main__':\n",
        "    DaysTweets.run()"
      ],
      "execution_count": null,
      "outputs": []
    },
    {
      "source": [
        "## Step 1. Run MR program locally(Colab)"
      ],
      "cell_type": "markdown",
      "metadata": {}
    },
    {
      "cell_type": "code",
      "metadata": {
        "id": "p5MTFAp1DXI2"
      },
      "source": [
        "#write the command to run it first to check for error\n",
        "%%timeit\n",
        "!python 3_days.py -r local nashville-tweets-2019-01-28"
      ],
      "execution_count": null,
      "outputs": []
    },
    {
      "source": [
        "## Step 2. Run MR program on AWS EMR"
      ],
      "cell_type": "markdown",
      "metadata": {}
    },
    {
      "source": [
        "### Please copy nashville-tweets-2019-01-28 into your S3 bucket. Note that if you already uploaded the data in previous step you can just use the same url here."
      ],
      "cell_type": "markdown",
      "metadata": {}
    },
    {
      "cell_type": "code",
      "metadata": {
        "pycharm": {
          "name": "#%%\n"
        },
        "id": "T6emRiksJZjJ"
      },
      "source": [
        "%%timeit\n",
        "!python 3_days.py -r emr s3://<s3 url of the Tweet dataset> --cloud-tmp-dir=s3://<s3 url of tmp directory> --cluster-id=<cluster ID> --conf-path <mrjob.conf file path in colab> > 3_days.out"
      ],
      "execution_count": null,
      "outputs": []
    },
    {
      "cell_type": "code",
      "metadata": {
        "id": "Gyn4lxr1JZjJ"
      },
      "source": [
        "!cat 3_days.out"
      ],
      "execution_count": null,
      "outputs": []
    },
    {
      "cell_type": "code",
      "metadata": {
        "id": "IXSiDUtNC9vn"
      },
      "source": [
        "f = open('3_days.out')\n",
        "lines = f.readlines()\n",
        "f.close()\n",
        "for line in lines:\n",
        "  if line[:-1] in ['\"Sun\"\\t6294']:\n",
        "    print(\"passed\")\n",
        "  else:\n",
        "    assert False"
      ],
      "execution_count": null,
      "outputs": []
    }
  ]
}
