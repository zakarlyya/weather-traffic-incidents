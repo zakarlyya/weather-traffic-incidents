{
  "nbformat": 4,
  "nbformat_minor": 0,
  "metadata": {
    "kernelspec": {
      "name": "python3",
      "display_name": "Python 3"
    },
    "colab": {
      "name": "load_data.ipynb",
      "provenance": [],
      "include_colab_link": true
    }
  },
  "cells": [
    {
      "cell_type": "markdown",
      "metadata": {
        "id": "view-in-github",
        "colab_type": "text"
      },
      "source": [
        "<a href=\"https://colab.research.google.com/github/vu-topics-in-big-data-2022/Project-Incident-Team2/blob/master/load_data.ipynb\" target=\"_parent\"><img src=\"https://colab.research.google.com/assets/colab-badge.svg\" alt=\"Open In Colab\"/></a>"
      ]
    },
    {
      "cell_type": "code",
      "source": [
        "!pip install boto3\n",
        "import boto3, json"
      ],
      "metadata": {
        "id": "ciH1cTM5zM0Z",
        "outputId": "5d85ab1b-9f92-4f6f-d300-041c5cd4f19c",
        "colab": {
          "base_uri": "https://localhost:8080/"
        }
      },
      "execution_count": 37,
      "outputs": [
        {
          "output_type": "stream",
          "name": "stdout",
          "text": [
            "Requirement already satisfied: boto3 in /usr/local/lib/python3.7/dist-packages (1.21.39)\n",
            "Requirement already satisfied: jmespath<2.0.0,>=0.7.1 in /usr/local/lib/python3.7/dist-packages (from boto3) (1.0.0)\n",
            "Requirement already satisfied: botocore<1.25.0,>=1.24.39 in /usr/local/lib/python3.7/dist-packages (from boto3) (1.24.39)\n",
            "Requirement already satisfied: s3transfer<0.6.0,>=0.5.0 in /usr/local/lib/python3.7/dist-packages (from boto3) (0.5.2)\n",
            "Requirement already satisfied: urllib3<1.27,>=1.25.4 in /usr/local/lib/python3.7/dist-packages (from botocore<1.25.0,>=1.24.39->boto3) (1.26.9)\n",
            "Requirement already satisfied: python-dateutil<3.0.0,>=2.1 in /usr/local/lib/python3.7/dist-packages (from botocore<1.25.0,>=1.24.39->boto3) (2.8.2)\n",
            "Requirement already satisfied: six>=1.5 in /usr/local/lib/python3.7/dist-packages (from python-dateutil<3.0.0,>=2.1->botocore<1.25.0,>=1.24.39->boto3) (1.15.0)\n"
          ]
        }
      ]
    },
    {
      "cell_type": "code",
      "source": [
        "AWS_ACCESS_KEY = \"\"\n",
        "AWS_SECRET_KEY = \"\"\n",
        "AWS_REGION = \"us-east-1\"\n",
        "AWS_SESSION_TOKEN = \"\""
      ],
      "metadata": {
        "id": "SuV3IGTr4q7c"
      },
      "execution_count": 38,
      "outputs": []
    },
    {
      "cell_type": "code",
      "source": [
        "# Please fill your aws credential information here\n",
        "credentials = {\n",
        "    'region_name': 'us-east-1',\n",
        "    'aws_access_key_id': AWS_ACCESS_KEY,\n",
        "    'aws_secret_access_key': AWS_SECRET_KEY,\n",
        "    'aws_session_token': AWS_SESSION_TOKEN\n",
        "}"
      ],
      "metadata": {
        "id": "5a1axothyeDy"
      },
      "execution_count": 39,
      "outputs": []
    },
    {
      "cell_type": "code",
      "source": [
        "session = boto3.session.Session(**credentials)"
      ],
      "metadata": {
        "id": "Oz1iyHFtyg3Z"
      },
      "execution_count": 40,
      "outputs": []
    },
    {
      "cell_type": "code",
      "source": [
        "client = boto3.client(\"athena\",\n",
        "                      aws_access_key_id=AWS_ACCESS_KEY,\n",
        "                      aws_secret_access_key=AWS_SECRET_KEY,\n",
        "                      aws_session_token=AWS_SESSION_TOKEN,\n",
        "                      region_name=AWS_REGION)"
      ],
      "metadata": {
        "id": "h87v1230zY9O"
      },
      "execution_count": 41,
      "outputs": []
    },
    {
      "cell_type": "code",
      "source": [
        "response = client.create_named_query(\n",
        "    Name='showDBs',\n",
        "    Database='trafficData',\n",
        "    QueryString='SHOW SCHEMAS;'\n",
        ")"
      ],
      "metadata": {
        "id": "SrzpzoxP737T"
      },
      "execution_count": 49,
      "outputs": []
    },
    {
      "cell_type": "code",
      "source": [
        "response = client.create_named_query(\n",
        "    Name='TestQuery',\n",
        "    Database='trafficData',\n",
        "    QueryString='SELECT * FROM \"trafficData\".\"xxx\" limit 10'\n",
        ")\n",
        "print(response)"
      ],
      "metadata": {
        "id": "MRLyahv_yhSP",
        "colab": {
          "base_uri": "https://localhost:8080/"
        },
        "outputId": "0d7a352e-eff3-40fa-e5aa-540cfd0b0d15"
      },
      "execution_count": 45,
      "outputs": [
        {
          "output_type": "stream",
          "name": "stdout",
          "text": [
            "{'NamedQueryId': '4636e04f-71fb-4b78-92c9-20e51387aead', 'ResponseMetadata': {'RequestId': '620c601a-2f09-4bb6-9490-a807bb8adde8', 'HTTPStatusCode': 200, 'HTTPHeaders': {'content-type': 'application/x-amz-json-1.1', 'date': 'Tue, 12 Apr 2022 22:40:37 GMT', 'x-amzn-requestid': '620c601a-2f09-4bb6-9490-a807bb8adde8', 'content-length': '55', 'connection': 'keep-alive'}, 'RetryAttempts': 0}}\n"
          ]
        }
      ]
    }
  ]
}