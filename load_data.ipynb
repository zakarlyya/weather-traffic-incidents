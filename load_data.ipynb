{
  "nbformat": 4,
  "nbformat_minor": 0,
  "metadata": {
    "kernelspec": {
      "name": "python3",
      "display_name": "Python 3"
    },
    "colab": {
      "name": "load_data.ipynb",
      "provenance": [],
      "include_colab_link": true
    }
  },
  "cells": [
    {
      "cell_type": "markdown",
      "metadata": {
        "id": "view-in-github",
        "colab_type": "text"
      },
      "source": [
        "<a href=\"https://colab.research.google.com/github/vu-topics-in-big-data-2022/Project-Incident-Team2/blob/master/load_data.ipynb\" target=\"_parent\"><img src=\"https://colab.research.google.com/assets/colab-badge.svg\" alt=\"Open In Colab\"/></a>"
      ]
    },
    {
      "cell_type": "code",
      "metadata": {
        "pycharm": {
          "name": "#%%\n"
        },
        "id": "8ibVfJ2dJZjI"
      },
      "source": [
        "# upload mrjob.conf under current directory(/content/mrjob.conf)\n",
        "uploaded = files.upload()\n",
        "for fn in uploaded.keys():\n",
        "  print('User uploaded file \"{name}\" with length {length} bytes'.format(\n",
        "      name=fn, length=len(uploaded[fn])))"
      ],
      "execution_count": null,
      "outputs": []
    },
    {
      "cell_type": "code",
      "source": [
        "# Please fill your aws credential information here\n",
        "credentials = {\n",
        "    'region_name': 'us-east-1',\n",
        "    'aws_access_key_id': 'x',\n",
        "    'aws_secret_access_key': 'x',\n",
        "    'aws_session_token': 'x'\n",
        "}"
      ],
      "metadata": {
        "id": "5a1axothyeDy"
      },
      "execution_count": null,
      "outputs": []
    },
    {
      "cell_type": "code",
      "source": [
        "!pip install boto3\n",
        "!pip install PyAthena\n",
        "import boto3, json"
      ],
      "metadata": {
        "id": "ciH1cTM5zM0Z"
      },
      "execution_count": null,
      "outputs": []
    },
    {
      "cell_type": "code",
      "source": [
        "session = boto3.session.Session(**credentials)"
      ],
      "metadata": {
        "id": "Oz1iyHFtyg3Z"
      },
      "execution_count": 9,
      "outputs": []
    },
    {
      "cell_type": "code",
      "source": [
        "from pyathena import connect\n",
        "\n",
        "cursor = connect(aws_access_key_id=\"x\",\n",
        "                 aws_secret_access_key=\"x\",\n",
        "                 aws_session_token='x',\n",
        "                 s3_staging_dir=\"s3://vandy-bigdata-finalproject/month=10/month=10/part-00004-427c2bcd-90e5-41f1-a1d3-c4c35772a251.c000.snappy.parquet\",\n",
        "                 region_name=\"us-east-1\").cursor()"
      ],
      "metadata": {
        "id": "LnPvEAzb0vj1"
      },
      "execution_count": 17,
      "outputs": []
    },
    {
      "cell_type": "code",
      "source": [
        "cursor.execute(\"\")\n",
        "print(cursor.description)\n",
        "print(cursor.fetchall())"
      ],
      "metadata": {
        "id": "GmX6CwYZ1-1f"
      },
      "execution_count": null,
      "outputs": []
    },
    {
      "cell_type": "code",
      "source": [
        "client = boto3.client('athena')"
      ],
      "metadata": {
        "id": "h87v1230zY9O"
      },
      "execution_count": null,
      "outputs": []
    },
    {
      "cell_type": "code",
      "source": [
        "response = client.create_named_query(\n",
        "    Name='TestQuery',\n",
        "    Database='xxx',\n",
        "    QueryString='SELECT * FROM \"xxx\".\"yyy\" limit 10;',\n",
        ")\n",
        "print(response)"
      ],
      "metadata": {
        "id": "MRLyahv_yhSP"
      },
      "execution_count": null,
      "outputs": []
    }
  ]
}